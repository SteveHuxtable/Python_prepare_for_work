{
 "metadata": {
  "language_info": {
   "codemirror_mode": {
    "name": "ipython",
    "version": 3
   },
   "file_extension": ".py",
   "mimetype": "text/x-python",
   "name": "python",
   "nbconvert_exporter": "python",
   "pygments_lexer": "ipython3",
   "version": "3.8.5-final"
  },
  "orig_nbformat": 2,
  "kernelspec": {
   "name": "python37464bitvirtualenvvenv46d53a87f13544bab29fe8a424524dc4",
   "display_name": "Python 3.7.4 64-bit ('virtualEnv': venv)",
   "language": "python"
  }
 },
 "nbformat": 4,
 "nbformat_minor": 2,
 "cells": [
  {
   "source": [
    "# 读取数据集“MATRIX.TRAIN”"
   ],
   "cell_type": "markdown",
   "metadata": {}
  },
  {
   "cell_type": "code",
   "execution_count": 1,
   "metadata": {},
   "outputs": [],
   "source": [
    "import numpy as np"
   ]
  },
  {
   "cell_type": "code",
   "execution_count": 6,
   "metadata": {
    "tags": []
   },
   "outputs": [
    {
     "output_type": "stream",
     "name": "stdout",
     "text": [
      "2144 1448\n(2144, 1448)\n[0. 0. 0. ... 0. 0. 0.]\n"
     ]
    }
   ],
   "source": [
    "fd = open('MATRIX.TRAIN', 'r')\n",
    "hdr = fd.readline() # read the header of the file\n",
    "\n",
    "rows, cols = [int(s) for s in fd.readline().strip().split()]\n",
    "\n",
    "print(rows, cols)\n",
    "\n",
    "'''\n",
    "print(fd.readline()) # this is the third line of the file\n",
    "'''\n",
    "\n",
    "tokens = fd.readline().strip().split()\n",
    "# print(tokens)\n",
    "\n",
    "matrix = np.zeros((rows, cols))\n",
    "\n",
    "Y = []\n",
    "for i, line in enumerate(fd):\n",
    "    nums = [int(x) for x in line.strip().split()] # ok\n",
    "    Y.append(nums[0]) # ok, read the first element of a number line\n",
    "    # print(nums)\n",
    "    kv = np.array(nums[1:])\n",
    "    # print(kv)\n",
    "    k = np.cumsum(kv[:-1:2])\n",
    "    # print(k)\n",
    "    v = kv[1::2]\n",
    "    matrix[i, k] = v"
   ]
  },
  {
   "cell_type": "code",
   "execution_count": 16,
   "metadata": {},
   "outputs": [
    {
     "output_type": "stream",
     "name": "stdout",
     "text": [
      "(2144, 1448)\n1448\n2144\n[[0. 0. 0. 1. 0. 0. 0. 0. 0. 0.]\n [0. 0. 0. 0. 0. 0. 0. 0. 0. 0.]\n [0. 0. 0. 0. 0. 0. 0. 0. 0. 0.]\n [0. 0. 0. 0. 0. 0. 0. 0. 0. 0.]\n [0. 0. 0. 0. 0. 0. 0. 0. 0. 0.]\n [0. 0. 0. 0. 0. 0. 0. 0. 0. 0.]\n [0. 0. 0. 0. 0. 0. 0. 0. 0. 0.]\n [0. 0. 0. 0. 0. 0. 0. 0. 0. 0.]\n [0. 0. 0. 0. 0. 0. 0. 0. 0. 0.]\n [0. 0. 0. 0. 1. 1. 0. 0. 0. 0.]]\n"
     ]
    }
   ],
   "source": [
    "'''\n",
    "print(matrix.shape)\n",
    "print(len(matrix[0]))\n",
    "print(len(matrix[:, 0]))\n",
    "print(matrix[:10, :10])\n",
    "'''"
   ]
  },
  {
   "cell_type": "code",
   "execution_count": null,
   "metadata": {},
   "outputs": [],
   "source": []
  }
 ]
}