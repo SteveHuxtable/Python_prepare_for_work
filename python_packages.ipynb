{
 "metadata": {
  "language_info": {
   "codemirror_mode": {
    "name": "ipython",
    "version": 3
   },
   "file_extension": ".py",
   "mimetype": "text/x-python",
   "name": "python",
   "nbconvert_exporter": "python",
   "pygments_lexer": "ipython3",
   "version": "3.7.7-final"
  },
  "orig_nbformat": 2,
  "kernelspec": {
   "name": "python3",
   "display_name": "Python 3"
  }
 },
 "nbformat": 4,
 "nbformat_minor": 2,
 "cells": [
  {
   "source": [
    "# python packages"
   ],
   "cell_type": "markdown",
   "metadata": {}
  },
  {
   "cell_type": "code",
   "execution_count": 2,
   "metadata": {},
   "outputs": [
    {
     "output_type": "stream",
     "name": "stdout",
     "text": [
      "['ipykernel_launcher', '--ip=127.0.0.1', '--stdin=9013', '--control=9011', '--hb=9010', '--Session.signature_scheme=\"hmac-sha256\"', '--Session.key=b\"0227f167-495c-45e5-8a61-a8310bb7d117\"', '--shell=9012', '--transport=\"tcp\"', '--iopub=9014', '--f=/var/folders/v6/skpqskzd50q44nnc4n_yv1740000gn/T/tmp-1586w5h86ne8f9Po.json']\n--f=/var/folders/v6/skpqskzd50q44nnc4n_yv1740000gn/T/tmp-1586w5h86ne8f9Po.json --iopub=9014 --transport=\"tcp\" --shell=9012 --Session.key=b\"0227f167-495c-45e5-8a61-a8310bb7d117\" --Session.signature_scheme=\"hmac-sha256\" --hb=9010 --control=9011 --stdin=9013 --ip=127.0.0.1\n"
     ]
    }
   ],
   "source": [
    "import sys\n",
    "\n",
    "args = sys.argv[1:]\n",
    "args.reverse()\n",
    "print(sys.argv)\n",
    "print(' '.join(args))"
   ]
  },
  {
   "cell_type": "code",
   "execution_count": 4,
   "metadata": {
    "tags": []
   },
   "outputs": [],
   "source": [
    "# print(sys.modules)"
   ]
  },
  {
   "cell_type": "code",
   "execution_count": 5,
   "metadata": {},
   "outputs": [
    {
     "output_type": "execute_result",
     "data": {
      "text/plain": [
       "{1, 2, 3, 4}"
      ]
     },
     "metadata": {},
     "execution_count": 5
    }
   ],
   "source": [
    "# set\n",
    "a = {1, 2, 3}\n",
    "b = {2, 3, 4}\n",
    "a.union(b)"
   ]
  },
  {
   "cell_type": "code",
   "execution_count": 8,
   "metadata": {},
   "outputs": [
    {
     "output_type": "stream",
     "name": "stdout",
     "text": [
      "{frozenset()}\n"
     ]
    }
   ],
   "source": [
    "a = set()\n",
    "b = set()\n",
    "# a.add(b)\n",
    "\n",
    "a.add(frozenset(b))\n",
    "print(a)"
   ]
  },
  {
   "cell_type": "code",
   "execution_count": 1,
   "metadata": {},
   "outputs": [
    {
     "output_type": "stream",
     "name": "stdout",
     "text": [
      "[0, 1, 2, 5, 3, 9, 4, 7, 6, 8]\n"
     ]
    }
   ],
   "source": [
    "# heap\n",
    "from heapq import *\n",
    "from random import shuffle\n",
    "\n",
    "data = list(range(10))\n",
    "shuffle(data)\n",
    "heap = []\n",
    "for n in data:\n",
    "    heappush(heap, n)\n",
    "\n",
    "print(heap)"
   ]
  },
  {
   "cell_type": "code",
   "execution_count": 3,
   "metadata": {},
   "outputs": [
    {
     "output_type": "stream",
     "name": "stdout",
     "text": [
      "[0, 0.5, 0.5, 5, 1, 2, 4, 7, 6, 8, 3, 9]\n"
     ]
    },
    {
     "output_type": "execute_result",
     "data": {
      "text/plain": [
       "0.5"
      ]
     },
     "metadata": {},
     "execution_count": 3
    }
   ],
   "source": [
    "heappush(heap, 0.5)\n",
    "print(heap)\n",
    "heappop(heap)\n",
    "heappop(heap)"
   ]
  },
  {
   "cell_type": "code",
   "execution_count": 5,
   "metadata": {},
   "outputs": [
    {
     "output_type": "execute_result",
     "data": {
      "text/plain": [
       "[0.5, 1, 2]"
      ]
     },
     "metadata": {},
     "execution_count": 5
    }
   ],
   "source": [
    "nlargest(2, heap)\n",
    "nsmallest(3, heap)"
   ]
  },
  {
   "cell_type": "code",
   "execution_count": 6,
   "metadata": {},
   "outputs": [
    {
     "output_type": "stream",
     "name": "stdout",
     "text": [
      "deque([8, 0, 1, 2, 3, 4, 7])\n"
     ]
    }
   ],
   "source": [
    "# deque\n",
    "from collections import deque\n",
    "q = deque(range(5))\n",
    "q.append(7)\n",
    "q.appendleft(8)\n",
    "print(q)"
   ]
  },
  {
   "cell_type": "code",
   "execution_count": 7,
   "metadata": {},
   "outputs": [
    {
     "output_type": "execute_result",
     "data": {
      "text/plain": [
       "8"
      ]
     },
     "metadata": {},
     "execution_count": 7
    }
   ],
   "source": [
    "q.pop()\n",
    "q.popleft()"
   ]
  },
  {
   "cell_type": "code",
   "execution_count": 16,
   "metadata": {},
   "outputs": [
    {
     "output_type": "stream",
     "name": "stdout",
     "text": [
      "deque([3, 4, 0, 1, 2])\n"
     ]
    }
   ],
   "source": [
    "print(q)\n",
    "q.rotate(3)"
   ]
  },
  {
   "cell_type": "code",
   "execution_count": 4,
   "metadata": {},
   "outputs": [
    {
     "output_type": "execute_result",
     "data": {
      "text/plain": [
       "'Sun Jan  2 03:04:05 2000'"
      ]
     },
     "metadata": {},
     "execution_count": 4
    }
   ],
   "source": [
    "# time\n",
    "from time import *\n",
    "asctime((2000, 1, 2, 3, 4, 5, 6, 3, 0))"
   ]
  },
  {
   "cell_type": "code",
   "execution_count": 5,
   "metadata": {},
   "outputs": [
    {
     "output_type": "stream",
     "name": "stdout",
     "text": [
      "Sun Apr 17 15:45:23 2016\n"
     ]
    }
   ],
   "source": [
    "from random import *\n",
    "from time import *\n",
    "\n",
    "date1 = (2016, 1, 1, 0, 0, 0, -1, -1, -1)\n",
    "date2 = (2017, 1, 1, 0, 0, 0, -1, -1, -1)\n",
    "\n",
    "time1 = mktime(date1)\n",
    "time2 = mktime(date2)\n",
    "\n",
    "random_time = uniform(time1, time2)\n",
    "print(asctime(localtime(random_time)))"
   ]
  },
  {
   "cell_type": "code",
   "execution_count": 7,
   "metadata": {},
   "outputs": [
    {
     "output_type": "execute_result",
     "data": {
      "text/plain": [
       "['alpha', 'beta', 'gamma', 'delta']"
      ]
     },
     "metadata": {},
     "execution_count": 7
    }
   ],
   "source": [
    "# re , regular expression\n",
    "import re\n",
    "some_text = 'alpha, beta,,,,gamma     delta'\n",
    "re.split('[, ]+', some_text)\n",
    "re.split('[, ]+', some_text, maxsplit=2)"
   ]
  },
  {
   "cell_type": "code",
   "execution_count": null,
   "metadata": {},
   "outputs": [],
   "source": [
    "pat_allwords = '[a-zA-Z]+'\n",
    "pat_punctuations = r'[.?\\-\",]+'"
   ]
  },
  {
   "cell_type": "code",
   "execution_count": 8,
   "metadata": {},
   "outputs": [
    {
     "output_type": "stream",
     "name": "stdout",
     "text": [
      "www.python.org\npython\n"
     ]
    }
   ],
   "source": [
    "m = re.match(r'www\\.(.*)\\..{3}', 'www.python.org')\n",
    "\n",
    "print(m.group(0))\n",
    "print(m.group(1))"
   ]
  },
  {
   "cell_type": "code",
   "execution_count": null,
   "metadata": {},
   "outputs": [],
   "source": [
    "emphasis_pattern = r'\\*([^\\*]+)\\*'\n",
    "emphasis_pattern = r'\\*(.+)\\*'\n",
    "re.sub(emphasis_pattern, r'<em>\\1</em>', 'Hello')"
   ]
  }
 ]
}