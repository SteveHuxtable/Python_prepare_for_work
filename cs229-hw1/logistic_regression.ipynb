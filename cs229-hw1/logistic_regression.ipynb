{
 "metadata": {
  "language_info": {
   "codemirror_mode": {
    "name": "ipython",
    "version": 3
   },
   "file_extension": ".py",
   "mimetype": "text/x-python",
   "name": "python",
   "nbconvert_exporter": "python",
   "pygments_lexer": "ipython3",
   "version": "3.7.7-final"
  },
  "orig_nbformat": 2,
  "kernelspec": {
   "name": "python37464bitvirtualenvvenv46d53a87f13544bab29fe8a424524dc4",
   "display_name": "Python 3.7.4 64-bit ('virtualEnv': venv)",
   "language": "python"
  }
 },
 "nbformat": 4,
 "nbformat_minor": 2,
 "cells": [
  {
   "source": [
    "# Answer for cs229-hw1-q1\n",
    "## Logisic regression and Newton's method"
   ],
   "cell_type": "markdown",
   "metadata": {}
  },
  {
   "cell_type": "code",
   "execution_count": 65,
   "metadata": {},
   "outputs": [],
   "source": [
    "import numpy as np\n",
    "import pandas as pd\n",
    "import matplotlib.pyplot as plt\n",
    "from pandas import Series, DataFrame"
   ]
  },
  {
   "cell_type": "code",
   "execution_count": 66,
   "metadata": {},
   "outputs": [],
   "source": [
    "# read the file\n",
    "df_x = pd.read_table('logistic_x.txt', sep='\\s+', header=None)\n",
    "df_y = pd.read_table('logistic_y.txt', header=None)"
   ]
  },
  {
   "cell_type": "code",
   "execution_count": 67,
   "metadata": {},
   "outputs": [],
   "source": [
    "# change the columns' names\n",
    "df_x.rename(columns={0 : 'x1', 1 : 'x2'}, inplace=True)\n",
    "df_x['x0'] = 1 \n",
    "df_x = df_x[['x0', 'x1', 'x2']]\n",
    "\n",
    "df_y.rename(columns={0 : 'y'}, inplace=True)\n",
    "df_y.y = df_y['y'].astype(int)"
   ]
  },
  {
   "cell_type": "code",
   "execution_count": 68,
   "metadata": {},
   "outputs": [
    {
     "output_type": "stream",
     "name": "stdout",
     "text": [
      "   x0        x1        x2\n0   1  1.343250 -1.331148\n1   1  1.820553 -0.634668\n2   1  0.986321 -1.888576\n3   1  1.944373 -1.635452\n4   1  0.976734 -1.353315\n   y\n0 -1\n1 -1\n2 -1\n3 -1\n4 -1\n"
     ]
    }
   ],
   "source": [
    "print(df_x.head(5))\n",
    "print(df_y.head(5))"
   ]
  },
  {
   "cell_type": "code",
   "execution_count": 69,
   "metadata": {},
   "outputs": [
    {
     "output_type": "display_data",
     "data": {
      "text/plain": "<Figure size 432x288 with 1 Axes>",
      "image/svg+xml": "<?xml version=\"1.0\" encoding=\"utf-8\" standalone=\"no\"?>\n<!DOCTYPE svg PUBLIC \"-//W3C//DTD SVG 1.1//EN\"\n  \"http://www.w3.org/Graphics/SVG/1.1/DTD/svg11.dtd\">\n<!-- Created with matplotlib (https://matplotlib.org/) -->\n<svg height=\"248.518125pt\" version=\"1.1\" viewBox=\"0 0 370.959716 248.518125\" width=\"370.959716pt\" xmlns=\"http://www.w3.org/2000/svg\" xmlns:xlink=\"http://www.w3.org/1999/xlink\">\n <defs>\n  <style type=\"text/css\">\n*{stroke-linecap:butt;stroke-linejoin:round;}\n  </style>\n </defs>\n <g id=\"figure_1\">\n  <g id=\"patch_1\">\n   <path d=\"M 0 248.518125 \nL 370.959716 248.518125 \nL 370.959716 0 \nL 0 0 \nz\n\" style=\"fill:none;\"/>\n  </g>\n  <g id=\"axes_1\">\n   <g id=\"patch_2\">\n    <path d=\"M 28.942188 224.64 \nL 363.742188 224.64 \nL 363.742188 7.2 \nL 28.942188 7.2 \nz\n\" style=\"fill:#ffffff;\"/>\n   </g>\n   <g id=\"PathCollection_1\">\n    <defs>\n     <path d=\"M 0 3 \nC 0.795609 3 1.55874 2.683901 2.12132 2.12132 \nC 2.683901 1.55874 3 0.795609 3 0 \nC 3 -0.795609 2.683901 -1.55874 2.12132 -2.12132 \nC 1.55874 -2.683901 0.795609 -3 0 -3 \nC -0.795609 -3 -1.55874 -2.683901 -2.12132 -2.12132 \nC -2.683901 -1.55874 -3 -0.795609 -3 0 \nC -3 0.795609 -2.683901 1.55874 -2.12132 2.12132 \nC -1.55874 2.683901 -0.795609 3 0 3 \nz\n\" id=\"md2335ca7ce\" style=\"stroke:#00ced1;stroke-opacity:0.4;\"/>\n    </defs>\n    <g clip-path=\"url(#p375f16c6a3)\">\n     <use style=\"fill:#00ced1;fill-opacity:0.4;stroke:#00ced1;stroke-opacity:0.4;\" x=\"241.185458\" xlink:href=\"#md2335ca7ce\" y=\"82.239568\"/>\n     <use style=\"fill:#00ced1;fill-opacity:0.4;stroke:#00ced1;stroke-opacity:0.4;\" x=\"228.888672\" xlink:href=\"#md2335ca7ce\" y=\"72.332351\"/>\n     <use style=\"fill:#00ced1;fill-opacity:0.4;stroke:#00ced1;stroke-opacity:0.4;\" x=\"219.835053\" xlink:href=\"#md2335ca7ce\" y=\"85.746372\"/>\n     <use style=\"fill:#00ced1;fill-opacity:0.4;stroke:#00ced1;stroke-opacity:0.4;\" x=\"212.595134\" xlink:href=\"#md2335ca7ce\" y=\"81.622139\"/>\n     <use style=\"fill:#00ced1;fill-opacity:0.4;stroke:#00ced1;stroke-opacity:0.4;\" x=\"198.156419\" xlink:href=\"#md2335ca7ce\" y=\"90.785439\"/>\n     <use style=\"fill:#00ced1;fill-opacity:0.4;stroke:#00ced1;stroke-opacity:0.4;\" x=\"179.858213\" xlink:href=\"#md2335ca7ce\" y=\"83.700099\"/>\n     <use style=\"fill:#00ced1;fill-opacity:0.4;stroke:#00ced1;stroke-opacity:0.4;\" x=\"175.838061\" xlink:href=\"#md2335ca7ce\" y=\"79.741454\"/>\n     <use style=\"fill:#00ced1;fill-opacity:0.4;stroke:#00ced1;stroke-opacity:0.4;\" x=\"152.13108\" xlink:href=\"#md2335ca7ce\" y=\"75.382293\"/>\n     <use style=\"fill:#00ced1;fill-opacity:0.4;stroke:#00ced1;stroke-opacity:0.4;\" x=\"321.408757\" xlink:href=\"#md2335ca7ce\" y=\"121.089213\"/>\n     <use style=\"fill:#00ced1;fill-opacity:0.4;stroke:#00ced1;stroke-opacity:0.4;\" x=\"277.828549\" xlink:href=\"#md2335ca7ce\" y=\"118.547817\"/>\n     <use style=\"fill:#00ced1;fill-opacity:0.4;stroke:#00ced1;stroke-opacity:0.4;\" x=\"304.650501\" xlink:href=\"#md2335ca7ce\" y=\"115.491595\"/>\n     <use style=\"fill:#00ced1;fill-opacity:0.4;stroke:#00ced1;stroke-opacity:0.4;\" x=\"311.883085\" xlink:href=\"#md2335ca7ce\" y=\"105.913079\"/>\n     <use style=\"fill:#00ced1;fill-opacity:0.4;stroke:#00ced1;stroke-opacity:0.4;\" x=\"294.198156\" xlink:href=\"#md2335ca7ce\" y=\"116.046727\"/>\n     <use style=\"fill:#00ced1;fill-opacity:0.4;stroke:#00ced1;stroke-opacity:0.4;\" x=\"311.861031\" xlink:href=\"#md2335ca7ce\" y=\"75.636801\"/>\n     <use style=\"fill:#00ced1;fill-opacity:0.4;stroke:#00ced1;stroke-opacity:0.4;\" x=\"348.145854\" xlink:href=\"#md2335ca7ce\" y=\"72.422735\"/>\n     <use style=\"fill:#00ced1;fill-opacity:0.4;stroke:#00ced1;stroke-opacity:0.4;\" x=\"288.289631\" xlink:href=\"#md2335ca7ce\" y=\"52.223511\"/>\n     <use style=\"fill:#00ced1;fill-opacity:0.4;stroke:#00ced1;stroke-opacity:0.4;\" x=\"317.578909\" xlink:href=\"#md2335ca7ce\" y=\"81.003842\"/>\n     <use style=\"fill:#00ced1;fill-opacity:0.4;stroke:#00ced1;stroke-opacity:0.4;\" x=\"322.555408\" xlink:href=\"#md2335ca7ce\" y=\"57.207466\"/>\n     <use style=\"fill:#00ced1;fill-opacity:0.4;stroke:#00ced1;stroke-opacity:0.4;\" x=\"256.23664\" xlink:href=\"#md2335ca7ce\" y=\"104.919102\"/>\n     <use style=\"fill:#00ced1;fill-opacity:0.4;stroke:#00ced1;stroke-opacity:0.4;\" x=\"269.015374\" xlink:href=\"#md2335ca7ce\" y=\"117.854885\"/>\n     <use style=\"fill:#00ced1;fill-opacity:0.4;stroke:#00ced1;stroke-opacity:0.4;\" x=\"291.344485\" xlink:href=\"#md2335ca7ce\" y=\"106.419363\"/>\n     <use style=\"fill:#00ced1;fill-opacity:0.4;stroke:#00ced1;stroke-opacity:0.4;\" x=\"280.414217\" xlink:href=\"#md2335ca7ce\" y=\"113.402402\"/>\n     <use style=\"fill:#00ced1;fill-opacity:0.4;stroke:#00ced1;stroke-opacity:0.4;\" x=\"260.296166\" xlink:href=\"#md2335ca7ce\" y=\"103.134117\"/>\n     <use style=\"fill:#00ced1;fill-opacity:0.4;stroke:#00ced1;stroke-opacity:0.4;\" x=\"271.266754\" xlink:href=\"#md2335ca7ce\" y=\"43.228828\"/>\n     <use style=\"fill:#00ced1;fill-opacity:0.4;stroke:#00ced1;stroke-opacity:0.4;\" x=\"258.372606\" xlink:href=\"#md2335ca7ce\" y=\"35.970084\"/>\n     <use style=\"fill:#00ced1;fill-opacity:0.4;stroke:#00ced1;stroke-opacity:0.4;\" x=\"318.59051\" xlink:href=\"#md2335ca7ce\" y=\"118.803055\"/>\n     <use style=\"fill:#00ced1;fill-opacity:0.4;stroke:#00ced1;stroke-opacity:0.4;\" x=\"210.923071\" xlink:href=\"#md2335ca7ce\" y=\"91.477625\"/>\n     <use style=\"fill:#00ced1;fill-opacity:0.4;stroke:#00ced1;stroke-opacity:0.4;\" x=\"261.387132\" xlink:href=\"#md2335ca7ce\" y=\"79.873046\"/>\n     <use style=\"fill:#00ced1;fill-opacity:0.4;stroke:#00ced1;stroke-opacity:0.4;\" x=\"218.51675\" xlink:href=\"#md2335ca7ce\" y=\"63.900647\"/>\n     <use style=\"fill:#00ced1;fill-opacity:0.4;stroke:#00ced1;stroke-opacity:0.4;\" x=\"179.055396\" xlink:href=\"#md2335ca7ce\" y=\"56.114353\"/>\n     <use style=\"fill:#00ced1;fill-opacity:0.4;stroke:#00ced1;stroke-opacity:0.4;\" x=\"196.806123\" xlink:href=\"#md2335ca7ce\" y=\"48.940972\"/>\n     <use style=\"fill:#00ced1;fill-opacity:0.4;stroke:#00ced1;stroke-opacity:0.4;\" x=\"224.121435\" xlink:href=\"#md2335ca7ce\" y=\"43.818992\"/>\n     <use style=\"fill:#00ced1;fill-opacity:0.4;stroke:#00ced1;stroke-opacity:0.4;\" x=\"152.99687\" xlink:href=\"#md2335ca7ce\" y=\"42.688241\"/>\n     <use style=\"fill:#00ced1;fill-opacity:0.4;stroke:#00ced1;stroke-opacity:0.4;\" x=\"194.856355\" xlink:href=\"#md2335ca7ce\" y=\"187.822248\"/>\n     <use style=\"fill:#00ced1;fill-opacity:0.4;stroke:#00ced1;stroke-opacity:0.4;\" x=\"170.176965\" xlink:href=\"#md2335ca7ce\" y=\"159.423078\"/>\n     <use style=\"fill:#00ced1;fill-opacity:0.4;stroke:#00ced1;stroke-opacity:0.4;\" x=\"55.417797\" xlink:href=\"#md2335ca7ce\" y=\"82.235594\"/>\n     <use style=\"fill:#00ced1;fill-opacity:0.4;stroke:#00ced1;stroke-opacity:0.4;\" x=\"86.267035\" xlink:href=\"#md2335ca7ce\" y=\"17.427233\"/>\n     <use style=\"fill:#00ced1;fill-opacity:0.4;stroke:#00ced1;stroke-opacity:0.4;\" x=\"267.660559\" xlink:href=\"#md2335ca7ce\" y=\"164.520366\"/>\n     <use style=\"fill:#00ced1;fill-opacity:0.4;stroke:#00ced1;stroke-opacity:0.4;\" x=\"310.419689\" xlink:href=\"#md2335ca7ce\" y=\"133.166373\"/>\n     <use style=\"fill:#00ced1;fill-opacity:0.4;stroke:#00ced1;stroke-opacity:0.4;\" x=\"323.044628\" xlink:href=\"#md2335ca7ce\" y=\"137.787252\"/>\n     <use style=\"fill:#00ced1;fill-opacity:0.4;stroke:#00ced1;stroke-opacity:0.4;\" x=\"339.230791\" xlink:href=\"#md2335ca7ce\" y=\"155.78216\"/>\n     <use style=\"fill:#00ced1;fill-opacity:0.4;stroke:#00ced1;stroke-opacity:0.4;\" x=\"155.36933\" xlink:href=\"#md2335ca7ce\" y=\"101.896556\"/>\n     <use style=\"fill:#00ced1;fill-opacity:0.4;stroke:#00ced1;stroke-opacity:0.4;\" x=\"93.670853\" xlink:href=\"#md2335ca7ce\" y=\"99.712005\"/>\n     <use style=\"fill:#00ced1;fill-opacity:0.4;stroke:#00ced1;stroke-opacity:0.4;\" x=\"128.221998\" xlink:href=\"#md2335ca7ce\" y=\"133.936644\"/>\n     <use style=\"fill:#00ced1;fill-opacity:0.4;stroke:#00ced1;stroke-opacity:0.4;\" x=\"224.471625\" xlink:href=\"#md2335ca7ce\" y=\"109.906578\"/>\n     <use style=\"fill:#00ced1;fill-opacity:0.4;stroke:#00ced1;stroke-opacity:0.4;\" x=\"268.89453\" xlink:href=\"#md2335ca7ce\" y=\"129.567541\"/>\n     <use style=\"fill:#00ced1;fill-opacity:0.4;stroke:#00ced1;stroke-opacity:0.4;\" x=\"119.584214\" xlink:href=\"#md2335ca7ce\" y=\"63.302815\"/>\n     <use style=\"fill:#00ced1;fill-opacity:0.4;stroke:#00ced1;stroke-opacity:0.4;\" x=\"128.221998\" xlink:href=\"#md2335ca7ce\" y=\"77.138306\"/>\n     <use style=\"fill:#00ced1;fill-opacity:0.4;stroke:#00ced1;stroke-opacity:0.4;\" x=\"110.946425\" xlink:href=\"#md2335ca7ce\" y=\"78.594675\"/>\n    </g>\n   </g>\n   <g id=\"PathCollection_2\">\n    <defs>\n     <path d=\"M 0 3 \nC 0.795609 3 1.55874 2.683901 2.12132 2.12132 \nC 2.683901 1.55874 3 0.795609 3 0 \nC 3 -0.795609 2.683901 -1.55874 2.12132 -2.12132 \nC 1.55874 -2.683901 0.795609 -3 0 -3 \nC -0.795609 -3 -1.55874 -2.683901 -2.12132 -2.12132 \nC -2.683901 -1.55874 -3 -0.795609 -3 0 \nC -3 0.795609 -2.683901 1.55874 -2.12132 2.12132 \nC -1.55874 2.683901 -0.795609 3 0 3 \nz\n\" id=\"m6bdb33d9bb\" style=\"stroke:#dc143c;stroke-opacity:0.4;\"/>\n    </defs>\n    <g clip-path=\"url(#p375f16c6a3)\">\n     <use style=\"fill:#dc143c;fill-opacity:0.4;stroke:#dc143c;stroke-opacity:0.4;\" x=\"79.651927\" xlink:href=\"#m6bdb33d9bb\" y=\"145.53316\"/>\n     <use style=\"fill:#dc143c;fill-opacity:0.4;stroke:#dc143c;stroke-opacity:0.4;\" x=\"99.794931\" xlink:href=\"#m6bdb33d9bb\" y=\"128.188106\"/>\n     <use style=\"fill:#dc143c;fill-opacity:0.4;stroke:#dc143c;stroke-opacity:0.4;\" x=\"64.588864\" xlink:href=\"#m6bdb33d9bb\" y=\"159.415291\"/>\n     <use style=\"fill:#dc143c;fill-opacity:0.4;stroke:#dc143c;stroke-opacity:0.4;\" x=\"105.020374\" xlink:href=\"#m6bdb33d9bb\" y=\"153.111515\"/>\n     <use style=\"fill:#dc143c;fill-opacity:0.4;stroke:#dc143c;stroke-opacity:0.4;\" x=\"64.18427\" xlink:href=\"#m6bdb33d9bb\" y=\"146.085209\"/>\n     <use style=\"fill:#dc143c;fill-opacity:0.4;stroke:#dc143c;stroke-opacity:0.4;\" x=\"105.083044\" xlink:href=\"#m6bdb33d9bb\" y=\"163.294111\"/>\n     <use style=\"fill:#dc143c;fill-opacity:0.4;stroke:#dc143c;stroke-opacity:0.4;\" x=\"111.905249\" xlink:href=\"#m6bdb33d9bb\" y=\"165.319808\"/>\n     <use style=\"fill:#dc143c;fill-opacity:0.4;stroke:#dc143c;stroke-opacity:0.4;\" x=\"110.337779\" xlink:href=\"#m6bdb33d9bb\" y=\"173.730889\"/>\n     <use style=\"fill:#dc143c;fill-opacity:0.4;stroke:#dc143c;stroke-opacity:0.4;\" x=\"59.62294\" xlink:href=\"#m6bdb33d9bb\" y=\"172.448954\"/>\n     <use style=\"fill:#dc143c;fill-opacity:0.4;stroke:#dc143c;stroke-opacity:0.4;\" x=\"98.955391\" xlink:href=\"#m6bdb33d9bb\" y=\"181.46501\"/>\n     <use style=\"fill:#dc143c;fill-opacity:0.4;stroke:#dc143c;stroke-opacity:0.4;\" x=\"154.98748\" xlink:href=\"#m6bdb33d9bb\" y=\"198.182349\"/>\n     <use style=\"fill:#dc143c;fill-opacity:0.4;stroke:#dc143c;stroke-opacity:0.4;\" x=\"153.56799\" xlink:href=\"#m6bdb33d9bb\" y=\"203.14747\"/>\n     <use style=\"fill:#dc143c;fill-opacity:0.4;stroke:#dc143c;stroke-opacity:0.4;\" x=\"145.715184\" xlink:href=\"#m6bdb33d9bb\" y=\"212.159917\"/>\n     <use style=\"fill:#dc143c;fill-opacity:0.4;stroke:#dc143c;stroke-opacity:0.4;\" x=\"135.939932\" xlink:href=\"#m6bdb33d9bb\" y=\"187.588635\"/>\n     <use style=\"fill:#dc143c;fill-opacity:0.4;stroke:#dc143c;stroke-opacity:0.4;\" x=\"138.844818\" xlink:href=\"#m6bdb33d9bb\" y=\"179.873333\"/>\n     <use style=\"fill:#dc143c;fill-opacity:0.4;stroke:#dc143c;stroke-opacity:0.4;\" x=\"199.007544\" xlink:href=\"#m6bdb33d9bb\" y=\"198.60584\"/>\n     <use style=\"fill:#dc143c;fill-opacity:0.4;stroke:#dc143c;stroke-opacity:0.4;\" x=\"188.8731\" xlink:href=\"#m6bdb33d9bb\" y=\"164.927223\"/>\n     <use style=\"fill:#dc143c;fill-opacity:0.4;stroke:#dc143c;stroke-opacity:0.4;\" x=\"207.752689\" xlink:href=\"#m6bdb33d9bb\" y=\"171.665465\"/>\n     <use style=\"fill:#dc143c;fill-opacity:0.4;stroke:#dc143c;stroke-opacity:0.4;\" x=\"225.602746\" xlink:href=\"#m6bdb33d9bb\" y=\"196.565868\"/>\n     <use style=\"fill:#dc143c;fill-opacity:0.4;stroke:#dc143c;stroke-opacity:0.4;\" x=\"198.781355\" xlink:href=\"#m6bdb33d9bb\" y=\"182.459061\"/>\n     <use style=\"fill:#dc143c;fill-opacity:0.4;stroke:#dc143c;stroke-opacity:0.4;\" x=\"127.076731\" xlink:href=\"#m6bdb33d9bb\" y=\"152.49869\"/>\n     <use style=\"fill:#dc143c;fill-opacity:0.4;stroke:#dc143c;stroke-opacity:0.4;\" x=\"169.939378\" xlink:href=\"#m6bdb33d9bb\" y=\"151.067782\"/>\n     <use style=\"fill:#dc143c;fill-opacity:0.4;stroke:#dc143c;stroke-opacity:0.4;\" x=\"164.98379\" xlink:href=\"#m6bdb33d9bb\" y=\"157.620154\"/>\n     <use style=\"fill:#dc143c;fill-opacity:0.4;stroke:#dc143c;stroke-opacity:0.4;\" x=\"144.390623\" xlink:href=\"#m6bdb33d9bb\" y=\"158.483704\"/>\n     <use style=\"fill:#dc143c;fill-opacity:0.4;stroke:#dc143c;stroke-opacity:0.4;\" x=\"154.171539\" xlink:href=\"#m6bdb33d9bb\" y=\"153.187287\"/>\n     <use style=\"fill:#dc143c;fill-opacity:0.4;stroke:#dc143c;stroke-opacity:0.4;\" x=\"116.583517\" xlink:href=\"#m6bdb33d9bb\" y=\"110.532554\"/>\n     <use style=\"fill:#dc143c;fill-opacity:0.4;stroke:#dc143c;stroke-opacity:0.4;\" x=\"107.15637\" xlink:href=\"#m6bdb33d9bb\" y=\"108.330875\"/>\n     <use style=\"fill:#dc143c;fill-opacity:0.4;stroke:#dc143c;stroke-opacity:0.4;\" x=\"147.460885\" xlink:href=\"#m6bdb33d9bb\" y=\"111.9622\"/>\n     <use style=\"fill:#dc143c;fill-opacity:0.4;stroke:#dc143c;stroke-opacity:0.4;\" x=\"108.279511\" xlink:href=\"#m6bdb33d9bb\" y=\"108.092114\"/>\n     <use style=\"fill:#dc143c;fill-opacity:0.4;stroke:#dc143c;stroke-opacity:0.4;\" x=\"109.422807\" xlink:href=\"#m6bdb33d9bb\" y=\"128.216554\"/>\n     <use style=\"fill:#dc143c;fill-opacity:0.4;stroke:#dc143c;stroke-opacity:0.4;\" x=\"59.911431\" xlink:href=\"#m6bdb33d9bb\" y=\"125.976481\"/>\n     <use style=\"fill:#dc143c;fill-opacity:0.4;stroke:#dc143c;stroke-opacity:0.4;\" x=\"47.053136\" xlink:href=\"#m6bdb33d9bb\" y=\"113.211171\"/>\n     <use style=\"fill:#dc143c;fill-opacity:0.4;stroke:#dc143c;stroke-opacity:0.4;\" x=\"83.171401\" xlink:href=\"#m6bdb33d9bb\" y=\"131.132125\"/>\n     <use style=\"fill:#dc143c;fill-opacity:0.4;stroke:#dc143c;stroke-opacity:0.4;\" x=\"53.461765\" xlink:href=\"#m6bdb33d9bb\" y=\"133.972063\"/>\n     <use style=\"fill:#dc143c;fill-opacity:0.4;stroke:#dc143c;stroke-opacity:0.4;\" x=\"63.20217\" xlink:href=\"#m6bdb33d9bb\" y=\"149.481614\"/>\n     <use style=\"fill:#dc143c;fill-opacity:0.4;stroke:#dc143c;stroke-opacity:0.4;\" x=\"226.939563\" xlink:href=\"#m6bdb33d9bb\" y=\"110.634762\"/>\n     <use style=\"fill:#dc143c;fill-opacity:0.4;stroke:#dc143c;stroke-opacity:0.4;\" x=\"204.72811\" xlink:href=\"#m6bdb33d9bb\" y=\"77.138306\"/>\n     <use style=\"fill:#dc143c;fill-opacity:0.4;stroke:#dc143c;stroke-opacity:0.4;\" x=\"277.532314\" xlink:href=\"#m6bdb33d9bb\" y=\"101.168372\"/>\n     <use style=\"fill:#dc143c;fill-opacity:0.4;stroke:#dc143c;stroke-opacity:0.4;\" x=\"251.618957\" xlink:href=\"#m6bdb33d9bb\" y=\"179.812224\"/>\n     <use style=\"fill:#dc143c;fill-opacity:0.4;stroke:#dc143c;stroke-opacity:0.4;\" x=\"168.942994\" xlink:href=\"#m6bdb33d9bb\" y=\"182.72496\"/>\n     <use style=\"fill:#dc143c;fill-opacity:0.4;stroke:#dc143c;stroke-opacity:0.4;\" x=\"138.093758\" xlink:href=\"#m6bdb33d9bb\" y=\"135.393012\"/>\n     <use style=\"fill:#dc143c;fill-opacity:0.4;stroke:#dc143c;stroke-opacity:0.4;\" x=\"65.289554\" xlink:href=\"#m6bdb33d9bb\" y=\"93.158351\"/>\n     <use style=\"fill:#dc143c;fill-opacity:0.4;stroke:#dc143c;stroke-opacity:0.4;\" x=\"177.580783\" xlink:href=\"#m6bdb33d9bb\" y=\"131.752093\"/>\n     <use style=\"fill:#dc143c;fill-opacity:0.4;stroke:#dc143c;stroke-opacity:0.4;\" x=\"204.72811\" xlink:href=\"#m6bdb33d9bb\" y=\"138.305748\"/>\n     <use style=\"fill:#dc143c;fill-opacity:0.4;stroke:#dc143c;stroke-opacity:0.4;\" x=\"178.814754\" xlink:href=\"#m6bdb33d9bb\" y=\"115.003865\"/>\n     <use style=\"fill:#dc143c;fill-opacity:0.4;stroke:#dc143c;stroke-opacity:0.4;\" x=\"265.192621\" xlink:href=\"#m6bdb33d9bb\" y=\"152.869424\"/>\n     <use style=\"fill:#dc143c;fill-opacity:0.4;stroke:#dc143c;stroke-opacity:0.4;\" x=\"233.109413\" xlink:href=\"#m6bdb33d9bb\" y=\"149.956688\"/>\n     <use style=\"fill:#dc143c;fill-opacity:0.4;stroke:#dc143c;stroke-opacity:0.4;\" x=\"297.275829\" xlink:href=\"#m6bdb33d9bb\" y=\"184.909512\"/>\n     <use style=\"fill:#dc143c;fill-opacity:0.4;stroke:#dc143c;stroke-opacity:0.4;\" x=\"244.21514\" xlink:href=\"#m6bdb33d9bb\" y=\"89.517431\"/>\n     <use style=\"fill:#dc143c;fill-opacity:0.4;stroke:#dc143c;stroke-opacity:0.4;\" x=\"93.670853\" xlink:href=\"#m6bdb33d9bb\" y=\"98.255637\"/>\n    </g>\n   </g>\n   <g id=\"matplotlib.axis_1\">\n    <g id=\"xtick_1\">\n     <g id=\"line2d_1\">\n      <defs>\n       <path d=\"M 0 0 \nL 0 3.5 \n\" id=\"m21f054ae18\" style=\"stroke:#000000;stroke-width:0.8;\"/>\n      </defs>\n      <g>\n       <use style=\"stroke:#000000;stroke-width:0.8;\" x=\"65.166156\" xlink:href=\"#m21f054ae18\" y=\"224.64\"/>\n      </g>\n     </g>\n     <g id=\"text_1\">\n      <!-- 1 -->\n      <defs>\n       <path d=\"M 12.40625 8.296875 \nL 28.515625 8.296875 \nL 28.515625 63.921875 \nL 10.984375 60.40625 \nL 10.984375 69.390625 \nL 28.421875 72.90625 \nL 38.28125 72.90625 \nL 38.28125 8.296875 \nL 54.390625 8.296875 \nL 54.390625 0 \nL 12.40625 0 \nz\n\" id=\"DejaVuSans-49\"/>\n      </defs>\n      <g transform=\"translate(61.984906 239.238437)scale(0.1 -0.1)\">\n       <use xlink:href=\"#DejaVuSans-49\"/>\n      </g>\n     </g>\n    </g>\n    <g id=\"xtick_2\">\n     <g id=\"line2d_2\">\n      <g>\n       <use style=\"stroke:#000000;stroke-width:0.8;\" x=\"107.367915\" xlink:href=\"#m21f054ae18\" y=\"224.64\"/>\n      </g>\n     </g>\n     <g id=\"text_2\">\n      <!-- 2 -->\n      <defs>\n       <path d=\"M 19.1875 8.296875 \nL 53.609375 8.296875 \nL 53.609375 0 \nL 7.328125 0 \nL 7.328125 8.296875 \nQ 12.9375 14.109375 22.625 23.890625 \nQ 32.328125 33.6875 34.8125 36.53125 \nQ 39.546875 41.84375 41.421875 45.53125 \nQ 43.3125 49.21875 43.3125 52.78125 \nQ 43.3125 58.59375 39.234375 62.25 \nQ 35.15625 65.921875 28.609375 65.921875 \nQ 23.96875 65.921875 18.8125 64.3125 \nQ 13.671875 62.703125 7.8125 59.421875 \nL 7.8125 69.390625 \nQ 13.765625 71.78125 18.9375 73 \nQ 24.125 74.21875 28.421875 74.21875 \nQ 39.75 74.21875 46.484375 68.546875 \nQ 53.21875 62.890625 53.21875 53.421875 \nQ 53.21875 48.921875 51.53125 44.890625 \nQ 49.859375 40.875 45.40625 35.40625 \nQ 44.1875 33.984375 37.640625 27.21875 \nQ 31.109375 20.453125 19.1875 8.296875 \nz\n\" id=\"DejaVuSans-50\"/>\n      </defs>\n      <g transform=\"translate(104.186665 239.238437)scale(0.1 -0.1)\">\n       <use xlink:href=\"#DejaVuSans-50\"/>\n      </g>\n     </g>\n    </g>\n    <g id=\"xtick_3\">\n     <g id=\"line2d_3\">\n      <g>\n       <use style=\"stroke:#000000;stroke-width:0.8;\" x=\"149.569673\" xlink:href=\"#m21f054ae18\" y=\"224.64\"/>\n      </g>\n     </g>\n     <g id=\"text_3\">\n      <!-- 3 -->\n      <defs>\n       <path d=\"M 40.578125 39.3125 \nQ 47.65625 37.796875 51.625 33 \nQ 55.609375 28.21875 55.609375 21.1875 \nQ 55.609375 10.40625 48.1875 4.484375 \nQ 40.765625 -1.421875 27.09375 -1.421875 \nQ 22.515625 -1.421875 17.65625 -0.515625 \nQ 12.796875 0.390625 7.625 2.203125 \nL 7.625 11.71875 \nQ 11.71875 9.328125 16.59375 8.109375 \nQ 21.484375 6.890625 26.8125 6.890625 \nQ 36.078125 6.890625 40.9375 10.546875 \nQ 45.796875 14.203125 45.796875 21.1875 \nQ 45.796875 27.640625 41.28125 31.265625 \nQ 36.765625 34.90625 28.71875 34.90625 \nL 20.21875 34.90625 \nL 20.21875 43.015625 \nL 29.109375 43.015625 \nQ 36.375 43.015625 40.234375 45.921875 \nQ 44.09375 48.828125 44.09375 54.296875 \nQ 44.09375 59.90625 40.109375 62.90625 \nQ 36.140625 65.921875 28.71875 65.921875 \nQ 24.65625 65.921875 20.015625 65.03125 \nQ 15.375 64.15625 9.8125 62.3125 \nL 9.8125 71.09375 \nQ 15.4375 72.65625 20.34375 73.4375 \nQ 25.25 74.21875 29.59375 74.21875 \nQ 40.828125 74.21875 47.359375 69.109375 \nQ 53.90625 64.015625 53.90625 55.328125 \nQ 53.90625 49.265625 50.4375 45.09375 \nQ 46.96875 40.921875 40.578125 39.3125 \nz\n\" id=\"DejaVuSans-51\"/>\n      </defs>\n      <g transform=\"translate(146.388423 239.238437)scale(0.1 -0.1)\">\n       <use xlink:href=\"#DejaVuSans-51\"/>\n      </g>\n     </g>\n    </g>\n    <g id=\"xtick_4\">\n     <g id=\"line2d_4\">\n      <g>\n       <use style=\"stroke:#000000;stroke-width:0.8;\" x=\"191.771432\" xlink:href=\"#m21f054ae18\" y=\"224.64\"/>\n      </g>\n     </g>\n     <g id=\"text_4\">\n      <!-- 4 -->\n      <defs>\n       <path d=\"M 37.796875 64.3125 \nL 12.890625 25.390625 \nL 37.796875 25.390625 \nz\nM 35.203125 72.90625 \nL 47.609375 72.90625 \nL 47.609375 25.390625 \nL 58.015625 25.390625 \nL 58.015625 17.1875 \nL 47.609375 17.1875 \nL 47.609375 0 \nL 37.796875 0 \nL 37.796875 17.1875 \nL 4.890625 17.1875 \nL 4.890625 26.703125 \nz\n\" id=\"DejaVuSans-52\"/>\n      </defs>\n      <g transform=\"translate(188.590182 239.238437)scale(0.1 -0.1)\">\n       <use xlink:href=\"#DejaVuSans-52\"/>\n      </g>\n     </g>\n    </g>\n    <g id=\"xtick_5\">\n     <g id=\"line2d_5\">\n      <g>\n       <use style=\"stroke:#000000;stroke-width:0.8;\" x=\"233.973191\" xlink:href=\"#m21f054ae18\" y=\"224.64\"/>\n      </g>\n     </g>\n     <g id=\"text_5\">\n      <!-- 5 -->\n      <defs>\n       <path d=\"M 10.796875 72.90625 \nL 49.515625 72.90625 \nL 49.515625 64.59375 \nL 19.828125 64.59375 \nL 19.828125 46.734375 \nQ 21.96875 47.46875 24.109375 47.828125 \nQ 26.265625 48.1875 28.421875 48.1875 \nQ 40.625 48.1875 47.75 41.5 \nQ 54.890625 34.8125 54.890625 23.390625 \nQ 54.890625 11.625 47.5625 5.09375 \nQ 40.234375 -1.421875 26.90625 -1.421875 \nQ 22.3125 -1.421875 17.546875 -0.640625 \nQ 12.796875 0.140625 7.71875 1.703125 \nL 7.71875 11.625 \nQ 12.109375 9.234375 16.796875 8.0625 \nQ 21.484375 6.890625 26.703125 6.890625 \nQ 35.15625 6.890625 40.078125 11.328125 \nQ 45.015625 15.765625 45.015625 23.390625 \nQ 45.015625 31 40.078125 35.4375 \nQ 35.15625 39.890625 26.703125 39.890625 \nQ 22.75 39.890625 18.8125 39.015625 \nQ 14.890625 38.140625 10.796875 36.28125 \nz\n\" id=\"DejaVuSans-53\"/>\n      </defs>\n      <g transform=\"translate(230.791941 239.238437)scale(0.1 -0.1)\">\n       <use xlink:href=\"#DejaVuSans-53\"/>\n      </g>\n     </g>\n    </g>\n    <g id=\"xtick_6\">\n     <g id=\"line2d_6\">\n      <g>\n       <use style=\"stroke:#000000;stroke-width:0.8;\" x=\"276.174949\" xlink:href=\"#m21f054ae18\" y=\"224.64\"/>\n      </g>\n     </g>\n     <g id=\"text_6\">\n      <!-- 6 -->\n      <defs>\n       <path d=\"M 33.015625 40.375 \nQ 26.375 40.375 22.484375 35.828125 \nQ 18.609375 31.296875 18.609375 23.390625 \nQ 18.609375 15.53125 22.484375 10.953125 \nQ 26.375 6.390625 33.015625 6.390625 \nQ 39.65625 6.390625 43.53125 10.953125 \nQ 47.40625 15.53125 47.40625 23.390625 \nQ 47.40625 31.296875 43.53125 35.828125 \nQ 39.65625 40.375 33.015625 40.375 \nz\nM 52.59375 71.296875 \nL 52.59375 62.3125 \nQ 48.875 64.0625 45.09375 64.984375 \nQ 41.3125 65.921875 37.59375 65.921875 \nQ 27.828125 65.921875 22.671875 59.328125 \nQ 17.53125 52.734375 16.796875 39.40625 \nQ 19.671875 43.65625 24.015625 45.921875 \nQ 28.375 48.1875 33.59375 48.1875 \nQ 44.578125 48.1875 50.953125 41.515625 \nQ 57.328125 34.859375 57.328125 23.390625 \nQ 57.328125 12.15625 50.6875 5.359375 \nQ 44.046875 -1.421875 33.015625 -1.421875 \nQ 20.359375 -1.421875 13.671875 8.265625 \nQ 6.984375 17.96875 6.984375 36.375 \nQ 6.984375 53.65625 15.1875 63.9375 \nQ 23.390625 74.21875 37.203125 74.21875 \nQ 40.921875 74.21875 44.703125 73.484375 \nQ 48.484375 72.75 52.59375 71.296875 \nz\n\" id=\"DejaVuSans-54\"/>\n      </defs>\n      <g transform=\"translate(272.993699 239.238437)scale(0.1 -0.1)\">\n       <use xlink:href=\"#DejaVuSans-54\"/>\n      </g>\n     </g>\n    </g>\n    <g id=\"xtick_7\">\n     <g id=\"line2d_7\">\n      <g>\n       <use style=\"stroke:#000000;stroke-width:0.8;\" x=\"318.376708\" xlink:href=\"#m21f054ae18\" y=\"224.64\"/>\n      </g>\n     </g>\n     <g id=\"text_7\">\n      <!-- 7 -->\n      <defs>\n       <path d=\"M 8.203125 72.90625 \nL 55.078125 72.90625 \nL 55.078125 68.703125 \nL 28.609375 0 \nL 18.3125 0 \nL 43.21875 64.59375 \nL 8.203125 64.59375 \nz\n\" id=\"DejaVuSans-55\"/>\n      </defs>\n      <g transform=\"translate(315.195458 239.238437)scale(0.1 -0.1)\">\n       <use xlink:href=\"#DejaVuSans-55\"/>\n      </g>\n     </g>\n    </g>\n    <g id=\"xtick_8\">\n     <g id=\"line2d_8\">\n      <g>\n       <use style=\"stroke:#000000;stroke-width:0.8;\" x=\"360.578466\" xlink:href=\"#m21f054ae18\" y=\"224.64\"/>\n      </g>\n     </g>\n     <g id=\"text_8\">\n      <!-- 8 -->\n      <defs>\n       <path d=\"M 31.78125 34.625 \nQ 24.75 34.625 20.71875 30.859375 \nQ 16.703125 27.09375 16.703125 20.515625 \nQ 16.703125 13.921875 20.71875 10.15625 \nQ 24.75 6.390625 31.78125 6.390625 \nQ 38.8125 6.390625 42.859375 10.171875 \nQ 46.921875 13.96875 46.921875 20.515625 \nQ 46.921875 27.09375 42.890625 30.859375 \nQ 38.875 34.625 31.78125 34.625 \nz\nM 21.921875 38.8125 \nQ 15.578125 40.375 12.03125 44.71875 \nQ 8.5 49.078125 8.5 55.328125 \nQ 8.5 64.0625 14.71875 69.140625 \nQ 20.953125 74.21875 31.78125 74.21875 \nQ 42.671875 74.21875 48.875 69.140625 \nQ 55.078125 64.0625 55.078125 55.328125 \nQ 55.078125 49.078125 51.53125 44.71875 \nQ 48 40.375 41.703125 38.8125 \nQ 48.828125 37.15625 52.796875 32.3125 \nQ 56.78125 27.484375 56.78125 20.515625 \nQ 56.78125 9.90625 50.3125 4.234375 \nQ 43.84375 -1.421875 31.78125 -1.421875 \nQ 19.734375 -1.421875 13.25 4.234375 \nQ 6.78125 9.90625 6.78125 20.515625 \nQ 6.78125 27.484375 10.78125 32.3125 \nQ 14.796875 37.15625 21.921875 38.8125 \nz\nM 18.3125 54.390625 \nQ 18.3125 48.734375 21.84375 45.5625 \nQ 25.390625 42.390625 31.78125 42.390625 \nQ 38.140625 42.390625 41.71875 45.5625 \nQ 45.3125 48.734375 45.3125 54.390625 \nQ 45.3125 60.0625 41.71875 63.234375 \nQ 38.140625 66.40625 31.78125 66.40625 \nQ 25.390625 66.40625 21.84375 63.234375 \nQ 18.3125 60.0625 18.3125 54.390625 \nz\n\" id=\"DejaVuSans-56\"/>\n      </defs>\n      <g transform=\"translate(357.397216 239.238437)scale(0.1 -0.1)\">\n       <use xlink:href=\"#DejaVuSans-56\"/>\n      </g>\n     </g>\n    </g>\n   </g>\n   <g id=\"matplotlib.axis_2\">\n    <g id=\"ytick_1\">\n     <g id=\"line2d_9\">\n      <defs>\n       <path d=\"M 0 0 \nL -3.5 0 \n\" id=\"mf6bd1a14e9\" style=\"stroke:#000000;stroke-width:0.8;\"/>\n      </defs>\n      <g>\n       <use style=\"stroke:#000000;stroke-width:0.8;\" x=\"28.942188\" xlink:href=\"#mf6bd1a14e9\" y=\"211.99795\"/>\n      </g>\n     </g>\n     <g id=\"text_9\">\n      <!-- −4 -->\n      <defs>\n       <path d=\"M 10.59375 35.5 \nL 73.1875 35.5 \nL 73.1875 27.203125 \nL 10.59375 27.203125 \nz\n\" id=\"DejaVuSans-8722\"/>\n      </defs>\n      <g transform=\"translate(7.2 215.797169)scale(0.1 -0.1)\">\n       <use xlink:href=\"#DejaVuSans-8722\"/>\n       <use x=\"83.789062\" xlink:href=\"#DejaVuSans-52\"/>\n      </g>\n     </g>\n    </g>\n    <g id=\"ytick_2\">\n     <g id=\"line2d_10\">\n      <g>\n       <use style=\"stroke:#000000;stroke-width:0.8;\" x=\"28.942188\" xlink:href=\"#mf6bd1a14e9\" y=\"187.094063\"/>\n      </g>\n     </g>\n     <g id=\"text_10\">\n      <!-- −3 -->\n      <g transform=\"translate(7.2 190.893282)scale(0.1 -0.1)\">\n       <use xlink:href=\"#DejaVuSans-8722\"/>\n       <use x=\"83.789062\" xlink:href=\"#DejaVuSans-51\"/>\n      </g>\n     </g>\n    </g>\n    <g id=\"ytick_3\">\n     <g id=\"line2d_11\">\n      <g>\n       <use style=\"stroke:#000000;stroke-width:0.8;\" x=\"28.942188\" xlink:href=\"#mf6bd1a14e9\" y=\"162.190177\"/>\n      </g>\n     </g>\n     <g id=\"text_11\">\n      <!-- −2 -->\n      <g transform=\"translate(7.2 165.989395)scale(0.1 -0.1)\">\n       <use xlink:href=\"#DejaVuSans-8722\"/>\n       <use x=\"83.789062\" xlink:href=\"#DejaVuSans-50\"/>\n      </g>\n     </g>\n    </g>\n    <g id=\"ytick_4\">\n     <g id=\"line2d_12\">\n      <g>\n       <use style=\"stroke:#000000;stroke-width:0.8;\" x=\"28.942188\" xlink:href=\"#mf6bd1a14e9\" y=\"137.28629\"/>\n      </g>\n     </g>\n     <g id=\"text_12\">\n      <!-- −1 -->\n      <g transform=\"translate(7.2 141.085509)scale(0.1 -0.1)\">\n       <use xlink:href=\"#DejaVuSans-8722\"/>\n       <use x=\"83.789062\" xlink:href=\"#DejaVuSans-49\"/>\n      </g>\n     </g>\n    </g>\n    <g id=\"ytick_5\">\n     <g id=\"line2d_13\">\n      <g>\n       <use style=\"stroke:#000000;stroke-width:0.8;\" x=\"28.942188\" xlink:href=\"#mf6bd1a14e9\" y=\"112.382403\"/>\n      </g>\n     </g>\n     <g id=\"text_13\">\n      <!-- 0 -->\n      <defs>\n       <path d=\"M 31.78125 66.40625 \nQ 24.171875 66.40625 20.328125 58.90625 \nQ 16.5 51.421875 16.5 36.375 \nQ 16.5 21.390625 20.328125 13.890625 \nQ 24.171875 6.390625 31.78125 6.390625 \nQ 39.453125 6.390625 43.28125 13.890625 \nQ 47.125 21.390625 47.125 36.375 \nQ 47.125 51.421875 43.28125 58.90625 \nQ 39.453125 66.40625 31.78125 66.40625 \nz\nM 31.78125 74.21875 \nQ 44.046875 74.21875 50.515625 64.515625 \nQ 56.984375 54.828125 56.984375 36.375 \nQ 56.984375 17.96875 50.515625 8.265625 \nQ 44.046875 -1.421875 31.78125 -1.421875 \nQ 19.53125 -1.421875 13.0625 8.265625 \nQ 6.59375 17.96875 6.59375 36.375 \nQ 6.59375 54.828125 13.0625 64.515625 \nQ 19.53125 74.21875 31.78125 74.21875 \nz\n\" id=\"DejaVuSans-48\"/>\n      </defs>\n      <g transform=\"translate(15.579688 116.181622)scale(0.1 -0.1)\">\n       <use xlink:href=\"#DejaVuSans-48\"/>\n      </g>\n     </g>\n    </g>\n    <g id=\"ytick_6\">\n     <g id=\"line2d_14\">\n      <g>\n       <use style=\"stroke:#000000;stroke-width:0.8;\" x=\"28.942188\" xlink:href=\"#mf6bd1a14e9\" y=\"87.478517\"/>\n      </g>\n     </g>\n     <g id=\"text_14\">\n      <!-- 1 -->\n      <g transform=\"translate(15.579688 91.277735)scale(0.1 -0.1)\">\n       <use xlink:href=\"#DejaVuSans-49\"/>\n      </g>\n     </g>\n    </g>\n    <g id=\"ytick_7\">\n     <g id=\"line2d_15\">\n      <g>\n       <use style=\"stroke:#000000;stroke-width:0.8;\" x=\"28.942188\" xlink:href=\"#mf6bd1a14e9\" y=\"62.57463\"/>\n      </g>\n     </g>\n     <g id=\"text_15\">\n      <!-- 2 -->\n      <g transform=\"translate(15.579688 66.373849)scale(0.1 -0.1)\">\n       <use xlink:href=\"#DejaVuSans-50\"/>\n      </g>\n     </g>\n    </g>\n    <g id=\"ytick_8\">\n     <g id=\"line2d_16\">\n      <g>\n       <use style=\"stroke:#000000;stroke-width:0.8;\" x=\"28.942188\" xlink:href=\"#mf6bd1a14e9\" y=\"37.670743\"/>\n      </g>\n     </g>\n     <g id=\"text_16\">\n      <!-- 3 -->\n      <g transform=\"translate(15.579688 41.469962)scale(0.1 -0.1)\">\n       <use xlink:href=\"#DejaVuSans-51\"/>\n      </g>\n     </g>\n    </g>\n    <g id=\"ytick_9\">\n     <g id=\"line2d_17\">\n      <g>\n       <use style=\"stroke:#000000;stroke-width:0.8;\" x=\"28.942188\" xlink:href=\"#mf6bd1a14e9\" y=\"12.766857\"/>\n      </g>\n     </g>\n     <g id=\"text_17\">\n      <!-- 4 -->\n      <g transform=\"translate(15.579688 16.566075)scale(0.1 -0.1)\">\n       <use xlink:href=\"#DejaVuSans-52\"/>\n      </g>\n     </g>\n    </g>\n   </g>\n   <g id=\"patch_3\">\n    <path d=\"M 28.942188 224.64 \nL 28.942188 7.2 \n\" style=\"fill:none;stroke:#000000;stroke-linecap:square;stroke-linejoin:miter;stroke-width:0.8;\"/>\n   </g>\n   <g id=\"patch_4\">\n    <path d=\"M 363.742188 224.64 \nL 363.742188 7.2 \n\" style=\"fill:none;stroke:#000000;stroke-linecap:square;stroke-linejoin:miter;stroke-width:0.8;\"/>\n   </g>\n   <g id=\"patch_5\">\n    <path d=\"M 28.942188 224.64 \nL 363.742188 224.64 \n\" style=\"fill:none;stroke:#000000;stroke-linecap:square;stroke-linejoin:miter;stroke-width:0.8;\"/>\n   </g>\n   <g id=\"patch_6\">\n    <path d=\"M 28.942188 7.2 \nL 363.742188 7.2 \n\" style=\"fill:none;stroke:#000000;stroke-linecap:square;stroke-linejoin:miter;stroke-width:0.8;\"/>\n   </g>\n   <g id=\"legend_1\">\n    <g id=\"patch_7\">\n     <path d=\"M 290.378125 44.55625 \nL 356.742188 44.55625 \nQ 358.742188 44.55625 358.742188 42.55625 \nL 358.742188 14.2 \nQ 358.742188 12.2 356.742188 12.2 \nL 290.378125 12.2 \nQ 288.378125 12.2 288.378125 14.2 \nL 288.378125 42.55625 \nQ 288.378125 44.55625 290.378125 44.55625 \nz\n\" style=\"fill:#ffffff;opacity:0.8;stroke:#cccccc;stroke-linejoin:miter;\"/>\n    </g>\n    <g id=\"PathCollection_3\">\n     <g>\n      <use style=\"fill:#00ced1;fill-opacity:0.4;stroke:#00ced1;stroke-opacity:0.4;\" x=\"302.378125\" xlink:href=\"#md2335ca7ce\" y=\"21.173437\"/>\n     </g>\n    </g>\n    <g id=\"text_18\">\n     <!-- class 1 -->\n     <defs>\n      <path d=\"M 48.78125 52.59375 \nL 48.78125 44.1875 \nQ 44.96875 46.296875 41.140625 47.34375 \nQ 37.3125 48.390625 33.40625 48.390625 \nQ 24.65625 48.390625 19.8125 42.84375 \nQ 14.984375 37.3125 14.984375 27.296875 \nQ 14.984375 17.28125 19.8125 11.734375 \nQ 24.65625 6.203125 33.40625 6.203125 \nQ 37.3125 6.203125 41.140625 7.25 \nQ 44.96875 8.296875 48.78125 10.40625 \nL 48.78125 2.09375 \nQ 45.015625 0.34375 40.984375 -0.53125 \nQ 36.96875 -1.421875 32.421875 -1.421875 \nQ 20.0625 -1.421875 12.78125 6.34375 \nQ 5.515625 14.109375 5.515625 27.296875 \nQ 5.515625 40.671875 12.859375 48.328125 \nQ 20.21875 56 33.015625 56 \nQ 37.15625 56 41.109375 55.140625 \nQ 45.0625 54.296875 48.78125 52.59375 \nz\n\" id=\"DejaVuSans-99\"/>\n      <path d=\"M 9.421875 75.984375 \nL 18.40625 75.984375 \nL 18.40625 0 \nL 9.421875 0 \nz\n\" id=\"DejaVuSans-108\"/>\n      <path d=\"M 34.28125 27.484375 \nQ 23.390625 27.484375 19.1875 25 \nQ 14.984375 22.515625 14.984375 16.5 \nQ 14.984375 11.71875 18.140625 8.90625 \nQ 21.296875 6.109375 26.703125 6.109375 \nQ 34.1875 6.109375 38.703125 11.40625 \nQ 43.21875 16.703125 43.21875 25.484375 \nL 43.21875 27.484375 \nz\nM 52.203125 31.203125 \nL 52.203125 0 \nL 43.21875 0 \nL 43.21875 8.296875 \nQ 40.140625 3.328125 35.546875 0.953125 \nQ 30.953125 -1.421875 24.3125 -1.421875 \nQ 15.921875 -1.421875 10.953125 3.296875 \nQ 6 8.015625 6 15.921875 \nQ 6 25.140625 12.171875 29.828125 \nQ 18.359375 34.515625 30.609375 34.515625 \nL 43.21875 34.515625 \nL 43.21875 35.40625 \nQ 43.21875 41.609375 39.140625 45 \nQ 35.0625 48.390625 27.6875 48.390625 \nQ 23 48.390625 18.546875 47.265625 \nQ 14.109375 46.140625 10.015625 43.890625 \nL 10.015625 52.203125 \nQ 14.9375 54.109375 19.578125 55.046875 \nQ 24.21875 56 28.609375 56 \nQ 40.484375 56 46.34375 49.84375 \nQ 52.203125 43.703125 52.203125 31.203125 \nz\n\" id=\"DejaVuSans-97\"/>\n      <path d=\"M 44.28125 53.078125 \nL 44.28125 44.578125 \nQ 40.484375 46.53125 36.375 47.5 \nQ 32.28125 48.484375 27.875 48.484375 \nQ 21.1875 48.484375 17.84375 46.4375 \nQ 14.5 44.390625 14.5 40.28125 \nQ 14.5 37.15625 16.890625 35.375 \nQ 19.28125 33.59375 26.515625 31.984375 \nL 29.59375 31.296875 \nQ 39.15625 29.25 43.1875 25.515625 \nQ 47.21875 21.78125 47.21875 15.09375 \nQ 47.21875 7.46875 41.1875 3.015625 \nQ 35.15625 -1.421875 24.609375 -1.421875 \nQ 20.21875 -1.421875 15.453125 -0.5625 \nQ 10.6875 0.296875 5.421875 2 \nL 5.421875 11.28125 \nQ 10.40625 8.6875 15.234375 7.390625 \nQ 20.0625 6.109375 24.8125 6.109375 \nQ 31.15625 6.109375 34.5625 8.28125 \nQ 37.984375 10.453125 37.984375 14.40625 \nQ 37.984375 18.0625 35.515625 20.015625 \nQ 33.0625 21.96875 24.703125 23.78125 \nL 21.578125 24.515625 \nQ 13.234375 26.265625 9.515625 29.90625 \nQ 5.8125 33.546875 5.8125 39.890625 \nQ 5.8125 47.609375 11.28125 51.796875 \nQ 16.75 56 26.8125 56 \nQ 31.78125 56 36.171875 55.265625 \nQ 40.578125 54.546875 44.28125 53.078125 \nz\n\" id=\"DejaVuSans-115\"/>\n      <path id=\"DejaVuSans-32\"/>\n     </defs>\n     <g transform=\"translate(320.378125 23.798437)scale(0.1 -0.1)\">\n      <use xlink:href=\"#DejaVuSans-99\"/>\n      <use x=\"54.980469\" xlink:href=\"#DejaVuSans-108\"/>\n      <use x=\"82.763672\" xlink:href=\"#DejaVuSans-97\"/>\n      <use x=\"144.042969\" xlink:href=\"#DejaVuSans-115\"/>\n      <use x=\"196.142578\" xlink:href=\"#DejaVuSans-115\"/>\n      <use x=\"248.242188\" xlink:href=\"#DejaVuSans-32\"/>\n      <use x=\"280.029297\" xlink:href=\"#DejaVuSans-49\"/>\n     </g>\n    </g>\n    <g id=\"PathCollection_4\">\n     <g>\n      <use style=\"fill:#dc143c;fill-opacity:0.4;stroke:#dc143c;stroke-opacity:0.4;\" x=\"302.378125\" xlink:href=\"#m6bdb33d9bb\" y=\"35.851562\"/>\n     </g>\n    </g>\n    <g id=\"text_19\">\n     <!-- class 2 -->\n     <g transform=\"translate(320.378125 38.476562)scale(0.1 -0.1)\">\n      <use xlink:href=\"#DejaVuSans-99\"/>\n      <use x=\"54.980469\" xlink:href=\"#DejaVuSans-108\"/>\n      <use x=\"82.763672\" xlink:href=\"#DejaVuSans-97\"/>\n      <use x=\"144.042969\" xlink:href=\"#DejaVuSans-115\"/>\n      <use x=\"196.142578\" xlink:href=\"#DejaVuSans-115\"/>\n      <use x=\"248.242188\" xlink:href=\"#DejaVuSans-32\"/>\n      <use x=\"280.029297\" xlink:href=\"#DejaVuSans-50\"/>\n     </g>\n    </g>\n   </g>\n  </g>\n </g>\n <defs>\n  <clipPath id=\"p375f16c6a3\">\n   <rect height=\"217.44\" width=\"334.8\" x=\"28.942188\" y=\"7.2\"/>\n  </clipPath>\n </defs>\n</svg>\n",
      "image/png": "[encoded data removed]"
     },
     "metadata": {
      "needs_background": "light"
     }
    }
   ],
   "source": [
    "# Preview on the distribution of (x1, x2)\n",
    "preview_fig = plt.figure()\n",
    "ax_main = preview_fig.add_subplot(1, 1, 1)\n",
    "\n",
    "df_x_class1 = df_x[df_y['y'] == 1]\n",
    "df_x_class2 = df_x[df_y['y'] == -1]\n",
    "\n",
    "ax_main.scatter(df_x_class1['x1'], df_x_class1['x2'], c='#00CED1', alpha=0.4, label='class 1')\n",
    "ax_main.scatter(df_x_class2['x1'], df_x_class2['x2'], c='#DC143C', alpha=0.4, label='class 2')\n",
    "\n",
    "ax_main.legend()\n",
    "\n",
    "preview_fig.show()"
   ]
  },
  {
   "source": [
    "#### Obviously, the dataset is not linearly seperable\n",
    "#### use Newton's method to find the linear boundary of logistic regression\n",
    "\n"
   ],
   "cell_type": "markdown",
   "metadata": {}
  },
  {
   "cell_type": "code",
   "execution_count": 70,
   "metadata": {},
   "outputs": [
    {
     "output_type": "stream",
     "name": "stdout",
     "text": [
      "0    0.0\n1    0.0\n2    0.0\ndtype: float64\n0    0.0\n1    0.0\n2    0.0\ndtype: float64\n     0    1    2\n0  0.0  0.0  0.0\n1  0.0  0.0  0.0\n2  0.0  0.0  0.0\n"
     ]
    }
   ],
   "source": [
    "theta = Series(np.zeros(3), index=[0, 1, 2])\n",
    "J_grad = Series(np.zeros(3), index=[0, 1, 2])\n",
    "H_mat = DataFrame({0 : np.zeros(3), 1 : np.zeros(3), 2 : np.zeros(3)}, index=[0, 1, 2], columns=[0, 1, 2])\n",
    "\n",
    "print(theta)\n",
    "print(J_grad)\n",
    "print(H_mat)"
   ]
  },
  {
   "cell_type": "code",
   "execution_count": 71,
   "metadata": {},
   "outputs": [
    {
     "output_type": "stream",
     "name": "stdout",
     "text": [
      "x0    1.000000\nx1    1.343250\nx2   -1.331148\nName: 0, dtype: float64\n<class 'pandas.core.series.Series'>\n"
     ]
    }
   ],
   "source": [
    "# calculate J_grad and H_mat using df_x and df_y\n",
    "print(df_x.iloc[0])\n",
    "print(type(df_x.iloc[0]))"
   ]
  },
  {
   "cell_type": "code",
   "execution_count": 72,
   "metadata": {},
   "outputs": [
    {
     "output_type": "execute_result",
     "data": {
      "text/plain": [
       "0.5"
      ]
     },
     "metadata": {},
     "execution_count": 72
    }
   ],
   "source": [
    "# define the function to calculate sigmoid function\n",
    "def sigmoid(theta, x):\n",
    "    return 1 / (1 + np.exp(-np.dot(theta, x)))\n",
    "\n",
    "sigmoid(theta, x=df_x.iloc[0])"
   ]
  },
  {
   "cell_type": "code",
   "execution_count": 73,
   "metadata": {},
   "outputs": [
    {
     "output_type": "stream",
     "name": "stdout",
     "text": [
      "0    0.0\n1    0.0\n2    0.0\ndtype: float64\n     0    1    2\n0  0.0  0.0  0.0\n1  0.0  0.0  0.0\n2  0.0  0.0  0.0\n"
     ]
    }
   ],
   "source": [
    "print(J_grad)\n",
    "print(H_mat)\n",
    "\n",
    "# fill J_grad\n",
    "for i in range(len(J_grad)):\n",
    "\n",
    "    inner_sum = 0\n",
    "    for k in range(len(df_x)):\n",
    "        inner_sum += (sigmoid(theta, df_x.iloc[k]) - 1) * df_y.iloc[k] * df_x.iloc[k][i]\n",
    "    \n",
    "    J_grad[i] = inner_sum / len(df_x)\n",
    "\n",
    "# fill H_mat\n",
    "for i in range(len(H_mat)):\n",
    "    for j in range(len(H_mat)):\n",
    "\n",
    "        inner_sum = 0\n",
    "        for k in range(len(df_x)):\n",
    "            inner_sum += sigmoid(theta, df_x.iloc[k]) * (1 - sigmoid(theta, df_x.iloc[k])) * df_x.iloc[k][i] * df_x.iloc[k][j]\n",
    "        H_mat[i][j] = inner_sum / len(df_x)"
   ]
  },
  {
   "cell_type": "code",
   "execution_count": 74,
   "metadata": {},
   "outputs": [
    {
     "output_type": "stream",
     "name": "stdout",
     "text": [
      "0    0.005051\n1   -0.481506\n2   -0.554831\ndtype: float64\n          0         1         2\n0  0.250000  0.980824 -0.087424\n1  0.980824  4.769845 -0.181711\n2 -0.087424 -0.181711  0.807403\n"
     ]
    },
    {
     "output_type": "execute_result",
     "data": {
      "text/plain": [
       "0    1.509838\n",
       "1    0.435097\n",
       "2    0.621618\n",
       "dtype: float64"
      ]
     },
     "metadata": {},
     "execution_count": 74
    }
   ],
   "source": [
    "print(J_grad)\n",
    "print(H_mat)\n",
    "H_mat_inv = DataFrame(np.linalg.inv(H_mat), index=range(3), columns=range(3))\n",
    "abs(H_mat_inv.dot(J_grad))"
   ]
  },
  {
   "cell_type": "code",
   "execution_count": 75,
   "metadata": {},
   "outputs": [
    {
     "output_type": "stream",
     "name": "stdout",
     "text": [
      "0   -1.509838\n",
      "1    0.435097\n",
      "2    0.621618\n",
      "dtype: float64\n",
      "0   -5.993400\n",
      "1    1.351521\n",
      "2    2.067533\n",
      "dtype: float64\n",
      "0   -85.595358\n",
      "1    16.708786\n",
      "2    29.188646\n",
      "dtype: float64\n",
      "0   -321137.099244\n",
      "1     63087.422208\n",
      "2    119346.560280\n",
      "dtype: float64\n"
     ]
    },
    {
     "output_type": "error",
     "ename": "LinAlgError",
     "evalue": "Singular matrix",
     "traceback": [
      "\u001b[0;31m---------------------------------------------------------------------------\u001b[0m",
      "\u001b[0;31mLinAlgError\u001b[0m                               Traceback (most recent call last)",
      "\u001b[0;32m<ipython-input-75-89644c93dbde>\u001b[0m in \u001b[0;36m<module>\u001b[0;34m\u001b[0m\n\u001b[1;32m      8\u001b[0m \u001b[0;34m\u001b[0m\u001b[0m\n\u001b[1;32m      9\u001b[0m     \u001b[0;31m# update theta\u001b[0m\u001b[0;34m\u001b[0m\u001b[0;34m\u001b[0m\u001b[0;34m\u001b[0m\u001b[0m\n\u001b[0;32m---> 10\u001b[0;31m     \u001b[0mH_mat_inv\u001b[0m \u001b[0;34m=\u001b[0m \u001b[0mDataFrame\u001b[0m\u001b[0;34m(\u001b[0m\u001b[0mnp\u001b[0m\u001b[0;34m.\u001b[0m\u001b[0mlinalg\u001b[0m\u001b[0;34m.\u001b[0m\u001b[0minv\u001b[0m\u001b[0;34m(\u001b[0m\u001b[0mH_mat\u001b[0m\u001b[0;34m)\u001b[0m\u001b[0;34m,\u001b[0m \u001b[0mindex\u001b[0m\u001b[0;34m=\u001b[0m\u001b[0mrange\u001b[0m\u001b[0;34m(\u001b[0m\u001b[0;36m3\u001b[0m\u001b[0;34m)\u001b[0m\u001b[0;34m,\u001b[0m \u001b[0mcolumns\u001b[0m\u001b[0;34m=\u001b[0m\u001b[0mrange\u001b[0m\u001b[0;34m(\u001b[0m\u001b[0;36m3\u001b[0m\u001b[0;34m)\u001b[0m\u001b[0;34m)\u001b[0m\u001b[0;34m\u001b[0m\u001b[0;34m\u001b[0m\u001b[0m\n\u001b[0m\u001b[1;32m     11\u001b[0m     \u001b[0mtheta\u001b[0m \u001b[0;34m=\u001b[0m \u001b[0mtheta\u001b[0m \u001b[0;34m-\u001b[0m \u001b[0mH_mat_inv\u001b[0m\u001b[0;34m.\u001b[0m\u001b[0mdot\u001b[0m\u001b[0;34m(\u001b[0m\u001b[0mJ_grad\u001b[0m\u001b[0;34m)\u001b[0m\u001b[0;34m\u001b[0m\u001b[0;34m\u001b[0m\u001b[0m\n\u001b[1;32m     12\u001b[0m     \u001b[0mprint\u001b[0m\u001b[0;34m(\u001b[0m\u001b[0mtheta\u001b[0m\u001b[0;34m)\u001b[0m\u001b[0;34m\u001b[0m\u001b[0;34m\u001b[0m\u001b[0m\n",
      "\u001b[0;32m<__array_function__ internals>\u001b[0m in \u001b[0;36minv\u001b[0;34m(*args, **kwargs)\u001b[0m\n",
      "\u001b[0;32m~/Documents/python_linear_matrix/virtualEnv/lib/python3.7/site-packages/numpy/linalg/linalg.py\u001b[0m in \u001b[0;36minv\u001b[0;34m(a)\u001b[0m\n\u001b[1;32m    545\u001b[0m     \u001b[0msignature\u001b[0m \u001b[0;34m=\u001b[0m \u001b[0;34m'D->D'\u001b[0m \u001b[0;32mif\u001b[0m \u001b[0misComplexType\u001b[0m\u001b[0;34m(\u001b[0m\u001b[0mt\u001b[0m\u001b[0;34m)\u001b[0m \u001b[0;32melse\u001b[0m \u001b[0;34m'd->d'\u001b[0m\u001b[0;34m\u001b[0m\u001b[0;34m\u001b[0m\u001b[0m\n\u001b[1;32m    546\u001b[0m     \u001b[0mextobj\u001b[0m \u001b[0;34m=\u001b[0m \u001b[0mget_linalg_error_extobj\u001b[0m\u001b[0;34m(\u001b[0m\u001b[0m_raise_linalgerror_singular\u001b[0m\u001b[0;34m)\u001b[0m\u001b[0;34m\u001b[0m\u001b[0;34m\u001b[0m\u001b[0m\n\u001b[0;32m--> 547\u001b[0;31m     \u001b[0mainv\u001b[0m \u001b[0;34m=\u001b[0m \u001b[0m_umath_linalg\u001b[0m\u001b[0;34m.\u001b[0m\u001b[0minv\u001b[0m\u001b[0;34m(\u001b[0m\u001b[0ma\u001b[0m\u001b[0;34m,\u001b[0m \u001b[0msignature\u001b[0m\u001b[0;34m=\u001b[0m\u001b[0msignature\u001b[0m\u001b[0;34m,\u001b[0m \u001b[0mextobj\u001b[0m\u001b[0;34m=\u001b[0m\u001b[0mextobj\u001b[0m\u001b[0;34m)\u001b[0m\u001b[0;34m\u001b[0m\u001b[0;34m\u001b[0m\u001b[0m\n\u001b[0m\u001b[1;32m    548\u001b[0m     \u001b[0;32mreturn\u001b[0m \u001b[0mwrap\u001b[0m\u001b[0;34m(\u001b[0m\u001b[0mainv\u001b[0m\u001b[0;34m.\u001b[0m\u001b[0mastype\u001b[0m\u001b[0;34m(\u001b[0m\u001b[0mresult_t\u001b[0m\u001b[0;34m,\u001b[0m \u001b[0mcopy\u001b[0m\u001b[0;34m=\u001b[0m\u001b[0;32mFalse\u001b[0m\u001b[0;34m)\u001b[0m\u001b[0;34m)\u001b[0m\u001b[0;34m\u001b[0m\u001b[0;34m\u001b[0m\u001b[0m\n\u001b[1;32m    549\u001b[0m \u001b[0;34m\u001b[0m\u001b[0m\n",
      "\u001b[0;32m~/Documents/python_linear_matrix/virtualEnv/lib/python3.7/site-packages/numpy/linalg/linalg.py\u001b[0m in \u001b[0;36m_raise_linalgerror_singular\u001b[0;34m(err, flag)\u001b[0m\n\u001b[1;32m     95\u001b[0m \u001b[0;34m\u001b[0m\u001b[0m\n\u001b[1;32m     96\u001b[0m \u001b[0;32mdef\u001b[0m \u001b[0m_raise_linalgerror_singular\u001b[0m\u001b[0;34m(\u001b[0m\u001b[0merr\u001b[0m\u001b[0;34m,\u001b[0m \u001b[0mflag\u001b[0m\u001b[0;34m)\u001b[0m\u001b[0;34m:\u001b[0m\u001b[0;34m\u001b[0m\u001b[0;34m\u001b[0m\u001b[0m\n\u001b[0;32m---> 97\u001b[0;31m     \u001b[0;32mraise\u001b[0m \u001b[0mLinAlgError\u001b[0m\u001b[0;34m(\u001b[0m\u001b[0;34m\"Singular matrix\"\u001b[0m\u001b[0;34m)\u001b[0m\u001b[0;34m\u001b[0m\u001b[0;34m\u001b[0m\u001b[0m\n\u001b[0m\u001b[1;32m     98\u001b[0m \u001b[0;34m\u001b[0m\u001b[0m\n\u001b[1;32m     99\u001b[0m \u001b[0;32mdef\u001b[0m \u001b[0m_raise_linalgerror_nonposdef\u001b[0m\u001b[0;34m(\u001b[0m\u001b[0merr\u001b[0m\u001b[0;34m,\u001b[0m \u001b[0mflag\u001b[0m\u001b[0;34m)\u001b[0m\u001b[0;34m:\u001b[0m\u001b[0;34m\u001b[0m\u001b[0;34m\u001b[0m\u001b[0m\n",
      "\u001b[0;31mLinAlgError\u001b[0m: Singular matrix"
     ]
    }
   ],
   "source": [
    "# seems okay, and then update theta\n",
    "# theta = [0, 0, 0] at first\n",
    "theta = Series(np.zeros(3), index=[0, 1, 2])\n",
    "\n",
    "while(True):\n",
    "\n",
    "    old_theta = theta.copy()\n",
    "\n",
    "    # update theta\n",
    "    H_mat_inv = DataFrame(np.linalg.inv(H_mat), index=range(3), columns=range(3))\n",
    "    theta = theta - H_mat_inv.dot(J_grad)\n",
    "    print(theta)\n",
    "\n",
    "    # made a stupid mistake\n",
    "    if np.linalg.norm(abs(theta - old_theta), ord=2) < 0.5:\n",
    "        print(theta)\n",
    "        pass\n",
    "    else:\n",
    "        # update J_grad, H_mat and theta\n",
    "        # J_grad\n",
    "        for i in range(len(J_grad)):\n",
    "            inner_sum = 0\n",
    "            for k in range(len(df_x)):\n",
    "                inner_sum += (sigmoid(theta, df_x.iloc[k]) - 1) * df_y.iloc[k] * df_x.iloc[k][i]   \n",
    "            J_grad[i] = inner_sum / len(df_x)\n",
    "        # H_mat\n",
    "        for i in range(len(H_mat)):\n",
    "            for j in range(len(H_mat)):\n",
    "\n",
    "                inner_sum = 0\n",
    "                for k in range(len(df_x)):\n",
    "                    inner_sum += sigmoid(theta, df_x.iloc[k]) * (1 - sigmoid(theta, df_x.iloc[k])) * df_x.iloc[k][i] * df_x.iloc[k][j]\n",
    "                H_mat[i][j] = inner_sum / len(df_x)"
   ]
  },
  {
   "cell_type": "code",
   "execution_count": null,
   "metadata": {},
   "outputs": [],
   "source": []
  }
 ]
}