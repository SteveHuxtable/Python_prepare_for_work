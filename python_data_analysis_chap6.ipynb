{
 "metadata": {
  "language_info": {
   "codemirror_mode": {
    "name": "ipython",
    "version": 3
   },
   "file_extension": ".py",
   "mimetype": "text/x-python",
   "name": "python",
   "nbconvert_exporter": "python",
   "pygments_lexer": "ipython3",
   "version": "3.7.7-final"
  },
  "orig_nbformat": 2,
  "kernelspec": {
   "name": "python37764bitbasecondae23d729ba38b48da967e4e201f9aaf92",
   "display_name": "Python 3.7.7 64-bit ('base': conda)",
   "language": "python"
  }
 },
 "nbformat": 4,
 "nbformat_minor": 2,
 "cells": [
  {
   "source": [
    "# python 文件读取"
   ],
   "cell_type": "markdown",
   "metadata": {}
  },
  {
   "cell_type": "code",
   "execution_count": 2,
   "metadata": {},
   "outputs": [],
   "source": [
    "import numpy as np\n",
    "import pandas as pd\n",
    "from pandas import Series, DataFrame"
   ]
  },
  {
   "cell_type": "code",
   "execution_count": 4,
   "metadata": {},
   "outputs": [
    {
     "output_type": "stream",
     "name": "stdout",
     "text": [
      "        a   b   c   d\nfirst   1   2   3   4\nsecnod  2   3   4   5\nthird   3   4   5   6\nfourth  4   5   6   7\n"
     ]
    }
   ],
   "source": [
    "test_input = pd.read_table('input_file_test.txt', sep=',', header=0)\n",
    "print(test_input)"
   ]
  },
  {
   "cell_type": "code",
   "execution_count": 9,
   "metadata": {},
   "outputs": [
    {
     "output_type": "stream",
     "name": "stdout",
     "text": [
      "DatetimeIndex(['2000-01-01', '2000-01-02', '2000-01-03', '2000-01-04',\n               '2000-01-05', '2000-01-06', '2000-01-07', '2000-01-08',\n               '2000-01-09', '2000-01-10', '2000-01-11', '2000-01-12',\n               '2000-01-13', '2000-01-14', '2000-01-15', '2000-01-16',\n               '2000-01-17', '2000-01-18', '2000-01-19', '2000-01-20',\n               '2000-01-21', '2000-01-22', '2000-01-23', '2000-01-24',\n               '2000-01-25', '2000-01-26', '2000-01-27', '2000-01-28',\n               '2000-01-29', '2000-01-30', '2000-01-31'],\n              dtype='datetime64[ns]', freq='D')\n"
     ]
    }
   ],
   "source": [
    "dates = pd.date_range('1/1/2000', periods=31)\n",
    "print(dates)"
   ]
  },
  {
   "cell_type": "code",
   "execution_count": 11,
   "metadata": {},
   "outputs": [],
   "source": [
    "ts = Series(np.arange(31), index=dates)\n",
    "ts.to_csv('tseries.csv', index=True, header=False)"
   ]
  },
  {
   "cell_type": "code",
   "execution_count": 20,
   "metadata": {},
   "outputs": [
    {
     "output_type": "stream",
     "name": "stdout",
     "text": [
      "0\n2000-01-01    0\n2000-01-02    1\n2000-01-03    2\n2000-01-04    3\n2000-01-05    4\nName: 1, dtype: int64\nIndex(['2000-01-01', '2000-01-02', '2000-01-03', '2000-01-04', '2000-01-05',\n       '2000-01-06', '2000-01-07', '2000-01-08', '2000-01-09', '2000-01-10',\n       '2000-01-11', '2000-01-12', '2000-01-13', '2000-01-14', '2000-01-15',\n       '2000-01-16', '2000-01-17', '2000-01-18', '2000-01-19', '2000-01-20',\n       '2000-01-21', '2000-01-22', '2000-01-23', '2000-01-24', '2000-01-25',\n       '2000-01-26', '2000-01-27', '2000-01-28', '2000-01-29', '2000-01-30',\n       '2000-01-31'],\n      dtype='object', name=0)\n"
     ]
    },
    {
     "output_type": "execute_result",
     "data": {
      "text/plain": [
       "pandas.core.series.Series"
      ]
     },
     "metadata": {},
     "execution_count": 20
    }
   ],
   "source": [
    "test = pd.read_csv('tseries.csv', header=None, index_col=0)\n",
    "print(test[1].head())\n",
    "print(test[1].index)\n",
    "type(test[1])"
   ]
  },
  {
   "cell_type": "code",
   "execution_count": 22,
   "metadata": {},
   "outputs": [],
   "source": [
    "# Series.from_csv('tseries.csv', parse_dates=True)     out of date\n"
   ]
  },
  {
   "cell_type": "code",
   "execution_count": 45,
   "metadata": {},
   "outputs": [],
   "source": [
    "import csv\n",
    "f = open('ex7.csv')\n",
    "reader = csv.reader(f)\n",
    "# print(reader)\n",
    "\n",
    "lines = list(reader)\n",
    "\n",
    "f.close()"
   ]
  },
  {
   "cell_type": "code",
   "execution_count": 50,
   "metadata": {},
   "outputs": [
    {
     "output_type": "stream",
     "name": "stdout",
     "text": [
      "[('1', '1'), (' \"2\"', ' \"2\"'), (' \"3\"', ' \"3\"')]\n"
     ]
    }
   ],
   "source": [
    "header, values = lines[0], lines[1:]\n",
    "# print(values)\n",
    "print(list(zip(*values)))\n",
    "data_dict = {h: v for h, v in zip(header, zip(*values))}"
   ]
  },
  {
   "cell_type": "code",
   "execution_count": 65,
   "metadata": {},
   "outputs": [
    {
     "output_type": "stream",
     "name": "stdout",
     "text": [
      "['a', ' \"b\"', ' \"c\"']\n"
     ]
    }
   ],
   "source": [
    "class my_dialect(csv.Dialect):\n",
    "    lineterminator = '\\n'\n",
    "    delimiter = ';'\n",
    "    quotechar = '\"'\n",
    "    quoting = csv.QUOTE_MINIMAL\n",
    "\n",
    "reader = csv.reader(open('ex8.csv'), dialect=my_dialect)\n",
    "lines = list(reader)\n",
    "print(lines[0])"
   ]
  },
  {
   "source": [
    "# JSON"
   ],
   "cell_type": "markdown",
   "metadata": {}
  },
  {
   "cell_type": "code",
   "execution_count": 66,
   "metadata": {},
   "outputs": [
    {
     "output_type": "execute_result",
     "data": {
      "text/plain": [
       "{'name': 'Wes',\n",
       " 'places_lived': ['United States', 'Spain', 'Germany'],\n",
       " 'pet': None,\n",
       " 'siblings': [{'name': 'Scott', 'age': 28}, {'name': 'Katie', 'age': 33}]}"
      ]
     },
     "metadata": {},
     "execution_count": 66
    }
   ],
   "source": [
    "import json\n",
    "\n",
    "obj = \"\"\"\n",
    "{\"name\": \"Wes\",\n",
    " \"places_lived\": [\"United States\", \"Spain\", \"Germany\"],\n",
    " \"pet\": null,\n",
    " \"siblings\": [{\"name\": \"Scott\", \"age\": 28}, {\"name\": \"Katie\", \"age\": 33}]}\n",
    "\"\"\"\n",
    "\n",
    "result = json.loads(obj)\n",
    "result"
   ]
  },
  {
   "cell_type": "code",
   "execution_count": 67,
   "metadata": {},
   "outputs": [
    {
     "output_type": "stream",
     "name": "stdout",
     "text": [
      "{\"name\": \"Wes\", \"places_lived\": [\"United States\", \"Spain\", \"Germany\"], \"pet\": null, \"siblings\": [{\"name\": \"Scott\", \"age\": 28}, {\"name\": \"Katie\", \"age\": 33}]}\n"
     ]
    }
   ],
   "source": [
    "ajson = json.dumps(result)\n",
    "print(ajson)"
   ]
  },
  {
   "cell_type": "code",
   "execution_count": 70,
   "metadata": {},
   "outputs": [
    {
     "output_type": "stream",
     "name": "stdout",
     "text": [
      "[{'name': 'Scott', 'age': 28}, {'name': 'Katie', 'age': 33}]\n    name  age\n0  Scott   28\n1  Katie   33\n"
     ]
    }
   ],
   "source": [
    "print(result['siblings'])\n",
    "siblings = DataFrame(result['siblings'], columns=['name', 'age'])\n",
    "print(siblings)"
   ]
  }
 ]
}