{
 "metadata": {
  "language_info": {
   "codemirror_mode": {
    "name": "ipython",
    "version": 3
   },
   "file_extension": ".py",
   "mimetype": "text/x-python",
   "name": "python",
   "nbconvert_exporter": "python",
   "pygments_lexer": "ipython3",
   "version": "3.7.7-final"
  },
  "orig_nbformat": 2,
  "kernelspec": {
   "name": "python37764bitbasecondae23d729ba38b48da967e4e201f9aaf92",
   "display_name": "Python 3.7.7 64-bit ('base': conda)",
   "language": "python"
  }
 },
 "nbformat": 4,
 "nbformat_minor": 2,
 "cells": [
  {
   "source": [
    "# Chapter 5 of Python for Data Analysis"
   ],
   "cell_type": "markdown",
   "metadata": {}
  },
  {
   "cell_type": "code",
   "execution_count": 15,
   "metadata": {},
   "outputs": [],
   "source": [
    "from pandas import Series, DataFrame\n",
    "import numpy as np\n",
    "import pandas as pd"
   ]
  },
  {
   "cell_type": "code",
   "execution_count": 3,
   "metadata": {},
   "outputs": [
    {
     "output_type": "stream",
     "name": "stdout",
     "text": [
      "[ 4  7 -5  3]\nRangeIndex(start=0, stop=4, step=1)\n"
     ]
    }
   ],
   "source": [
    "obj = Series([4, 7, -5, 3])\n",
    "print(obj.values)\n",
    "print(obj.index)"
   ]
  },
  {
   "cell_type": "code",
   "execution_count": 10,
   "metadata": {},
   "outputs": [
    {
     "output_type": "stream",
     "name": "stdout",
     "text": [
      "d    4\nd    5\ndtype: int64\n<class 'numpy.ndarray'>\n<class 'pandas.core.indexes.base.Index'>\n<class 'pandas.core.series.Series'>\n"
     ]
    }
   ],
   "source": [
    "obj2 = Series([1, 2, 3, 4, 5], index=['a', 'b', 'c', 'd', 'd'])\n",
    "print(obj2['d'])\n",
    "print(type(obj2.values))\n",
    "print(type(obj2.index))\n",
    "print(type(obj2))"
   ]
  },
  {
   "cell_type": "code",
   "execution_count": 17,
   "metadata": {},
   "outputs": [
    {
     "output_type": "execute_result",
     "data": {
      "text/plain": [
       "array([ True])"
      ]
     },
     "metadata": {},
     "execution_count": 17
    }
   ],
   "source": [
    "obj3 = {'a' : 1, 'b' : 2, 'c' : 3}\n",
    "obj3 = Series(obj3)\n",
    "'a' in obj3 # True\n",
    "1 in obj3 # False\n",
    "np.in1d(1, obj3.values)"
   ]
  },
  {
   "cell_type": "code",
   "execution_count": 21,
   "metadata": {},
   "outputs": [
    {
     "output_type": "stream",
     "name": "stdout",
     "text": [
      "Ohio      35000.0\nTexas     71000.0\nBejing        NaN\ndtype: float64\n"
     ]
    },
    {
     "output_type": "execute_result",
     "data": {
      "text/plain": [
       "True"
      ]
     },
     "metadata": {},
     "execution_count": 21
    }
   ],
   "source": [
    "sdata = {'Ohio' : 35000, 'Texas' : 71000, 'Oregon' : 16000, 'Utah' : 5000}\n",
    "obj5 = Series(sdata)\n",
    "obj5 = Series(obj5, index=['Ohio', 'Texas', 'Bejing'])\n",
    "print(obj5)\n",
    "pd.isna(obj5).any()"
   ]
  },
  {
   "cell_type": "code",
   "execution_count": 25,
   "metadata": {},
   "outputs": [
    {
     "output_type": "stream",
     "name": "stdout",
     "text": [
      "city\nOhio      35000.0\nTexas     71000.0\nBejing        NaN\nName: population, dtype: float64\n"
     ]
    }
   ],
   "source": [
    "obj5.name = 'population'\n",
    "obj5.index.name = 'city'\n",
    "print(obj5)"
   ]
  },
  {
   "cell_type": "code",
   "execution_count": 32,
   "metadata": {},
   "outputs": [
    {
     "output_type": "stream",
     "name": "stdout",
     "text": [
      "           A  B   C\nBeijing    1  4   5\nShanghai   2  6   7\nChongqing  3  8  99\n"
     ]
    }
   ],
   "source": [
    "test_df = {'A' : [1, 2, 3],\n",
    "           'B' : [4, 6, 8],\n",
    "           'C' : [5, 7, 99]}\n",
    "test_df = DataFrame(test_df, index=['Beijing', 'Shanghai', 'Chongqing'])\n",
    "print(test_df)"
   ]
  },
  {
   "cell_type": "code",
   "execution_count": 43,
   "metadata": {},
   "outputs": [
    {
     "output_type": "stream",
     "name": "stdout",
     "text": [
      "Beijing      1\nShanghai     2\nChongqing    3\nName: A, dtype: int64\nA    1\nB    4\nC    5\nName: Beijing, dtype: int64\nA    1\nB    4\nC    5\nName: Beijing, dtype: int64\n"
     ]
    },
    {
     "output_type": "execute_result",
     "data": {
      "text/plain": [
       "pandas.core.frame.DataFrame"
      ]
     },
     "metadata": {},
     "execution_count": 43
    }
   ],
   "source": [
    "test_series = test_df.A\n",
    "print(test_series)\n",
    "\n",
    "# test_df.ix['Beijing']    discarded\n",
    "print(test_df.loc['Beijing', :])\n",
    "print(test_df.loc['Beijing',])\n",
    "type(test_df.loc['Beijing', ['A', 'C']]) # after using .loc, it has become a Series\n",
    "type(test_df.loc[['Beijing', 'Chongqing'], ['A', 'C']]) # DataFrame"
   ]
  },
  {
   "cell_type": "code",
   "execution_count": 50,
   "metadata": {},
   "outputs": [
    {
     "output_type": "stream",
     "name": "stdout",
     "text": [
      "           A  B\nBeijing    1  4\nShanghai   2  6\nChongqing  3  8\n<class 'pandas.core.frame.DataFrame'>\n[[1 4]\n [2 6]\n [3 8]]\n"
     ]
    }
   ],
   "source": [
    "obj6 = {'A' : {'Beijing':1, 'Shanghai':2, 'Chongqing':3}, 'B' : {'Beijing':4, 'Shanghai':6, 'Chongqing':8}}\n",
    "obj6 = DataFrame(obj6)\n",
    "print(obj6)\n",
    "print(type(obj6.T))\n",
    "print(obj6.values)"
   ]
  },
  {
   "cell_type": "code",
   "execution_count": 65,
   "metadata": {},
   "outputs": [
    {
     "output_type": "stream",
     "name": "stdout",
     "text": [
      "0    1.5\n1   -2.5\n2    0.0\ndtype: float64\n"
     ]
    },
    {
     "output_type": "execute_result",
     "data": {
      "text/plain": [
       "True"
      ]
     },
     "metadata": {},
     "execution_count": 65
    }
   ],
   "source": [
    "index = pd.Index(np.arange(3))\n",
    "obj2 = Series([1.5, -2.5, 0], index=index)\n",
    "print(obj2)\n",
    "1 in obj2.index\n",
    "\n",
    "obj2.index.unique()\n",
    "pd.unique(obj2.index)\n",
    "index.is_unique\n",
    "index.unique\n",
    "index.is_monotonic"
   ]
  }
 ]
}