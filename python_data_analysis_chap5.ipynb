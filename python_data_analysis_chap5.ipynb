{
 "metadata": {
  "language_info": {
   "codemirror_mode": {
    "name": "ipython",
    "version": 3
   },
   "file_extension": ".py",
   "mimetype": "text/x-python",
   "name": "python",
   "nbconvert_exporter": "python",
   "pygments_lexer": "ipython3",
   "version": "3.7.7-final"
  },
  "orig_nbformat": 2,
  "kernelspec": {
   "name": "python37764bitbasecondae23d729ba38b48da967e4e201f9aaf92",
   "display_name": "Python 3.7.7 64-bit ('base': conda)",
   "language": "python"
  }
 },
 "nbformat": 4,
 "nbformat_minor": 2,
 "cells": [
  {
   "source": [
    "# Chapter 5 of Python for Data Analysis"
   ],
   "cell_type": "markdown",
   "metadata": {}
  },
  {
   "cell_type": "code",
   "execution_count": 1,
   "metadata": {},
   "outputs": [],
   "source": [
    "from pandas import Series, DataFrame\n",
    "import numpy as np\n",
    "import pandas as pd"
   ]
  },
  {
   "cell_type": "code",
   "execution_count": 3,
   "metadata": {},
   "outputs": [
    {
     "output_type": "stream",
     "name": "stdout",
     "text": [
      "[ 4  7 -5  3]\nRangeIndex(start=0, stop=4, step=1)\n"
     ]
    }
   ],
   "source": [
    "obj = Series([4, 7, -5, 3])\n",
    "print(obj.values)\n",
    "print(obj.index)"
   ]
  },
  {
   "cell_type": "code",
   "execution_count": 10,
   "metadata": {},
   "outputs": [
    {
     "output_type": "stream",
     "name": "stdout",
     "text": [
      "d    4\nd    5\ndtype: int64\n<class 'numpy.ndarray'>\n<class 'pandas.core.indexes.base.Index'>\n<class 'pandas.core.series.Series'>\n"
     ]
    }
   ],
   "source": [
    "obj2 = Series([1, 2, 3, 4, 5], index=['a', 'b', 'c', 'd', 'd'])\n",
    "print(obj2['d'])\n",
    "print(type(obj2.values))\n",
    "print(type(obj2.index))\n",
    "print(type(obj2))"
   ]
  },
  {
   "cell_type": "code",
   "execution_count": 17,
   "metadata": {},
   "outputs": [
    {
     "output_type": "execute_result",
     "data": {
      "text/plain": [
       "array([ True])"
      ]
     },
     "metadata": {},
     "execution_count": 17
    }
   ],
   "source": [
    "obj3 = {'a' : 1, 'b' : 2, 'c' : 3}\n",
    "obj3 = Series(obj3)\n",
    "'a' in obj3 # True\n",
    "1 in obj3 # False\n",
    "np.in1d(1, obj3.values)"
   ]
  },
  {
   "cell_type": "code",
   "execution_count": 21,
   "metadata": {},
   "outputs": [
    {
     "output_type": "stream",
     "name": "stdout",
     "text": [
      "Ohio      35000.0\nTexas     71000.0\nBejing        NaN\ndtype: float64\n"
     ]
    },
    {
     "output_type": "execute_result",
     "data": {
      "text/plain": [
       "True"
      ]
     },
     "metadata": {},
     "execution_count": 21
    }
   ],
   "source": [
    "sdata = {'Ohio' : 35000, 'Texas' : 71000, 'Oregon' : 16000, 'Utah' : 5000}\n",
    "obj5 = Series(sdata)\n",
    "obj5 = Series(obj5, index=['Ohio', 'Texas', 'Bejing'])\n",
    "print(obj5)\n",
    "pd.isna(obj5).any()"
   ]
  },
  {
   "cell_type": "code",
   "execution_count": 25,
   "metadata": {},
   "outputs": [
    {
     "output_type": "stream",
     "name": "stdout",
     "text": [
      "city\nOhio      35000.0\nTexas     71000.0\nBejing        NaN\nName: population, dtype: float64\n"
     ]
    }
   ],
   "source": [
    "obj5.name = 'population'\n",
    "obj5.index.name = 'city'\n",
    "print(obj5)"
   ]
  },
  {
   "cell_type": "code",
   "execution_count": 32,
   "metadata": {},
   "outputs": [
    {
     "output_type": "stream",
     "name": "stdout",
     "text": [
      "           A  B   C\nBeijing    1  4   5\nShanghai   2  6   7\nChongqing  3  8  99\n"
     ]
    }
   ],
   "source": [
    "test_df = {'A' : [1, 2, 3],\n",
    "           'B' : [4, 6, 8],\n",
    "           'C' : [5, 7, 99]}\n",
    "test_df = DataFrame(test_df, index=['Beijing', 'Shanghai', 'Chongqing'])\n",
    "print(test_df)"
   ]
  },
  {
   "cell_type": "code",
   "execution_count": 43,
   "metadata": {},
   "outputs": [
    {
     "output_type": "stream",
     "name": "stdout",
     "text": [
      "Beijing      1\nShanghai     2\nChongqing    3\nName: A, dtype: int64\nA    1\nB    4\nC    5\nName: Beijing, dtype: int64\nA    1\nB    4\nC    5\nName: Beijing, dtype: int64\n"
     ]
    },
    {
     "output_type": "execute_result",
     "data": {
      "text/plain": [
       "pandas.core.frame.DataFrame"
      ]
     },
     "metadata": {},
     "execution_count": 43
    }
   ],
   "source": [
    "test_series = test_df.A\n",
    "print(test_series)\n",
    "\n",
    "# test_df.ix['Beijing']    discarded\n",
    "print(test_df.loc['Beijing', :])\n",
    "print(test_df.loc['Beijing',])\n",
    "type(test_df.loc['Beijing', ['A', 'C']]) # after using .loc, it has become a Series\n",
    "type(test_df.loc[['Beijing', 'Chongqing'], ['A', 'C']]) # DataFrame"
   ]
  },
  {
   "cell_type": "code",
   "execution_count": 50,
   "metadata": {},
   "outputs": [
    {
     "output_type": "stream",
     "name": "stdout",
     "text": [
      "           A  B\nBeijing    1  4\nShanghai   2  6\nChongqing  3  8\n<class 'pandas.core.frame.DataFrame'>\n[[1 4]\n [2 6]\n [3 8]]\n"
     ]
    }
   ],
   "source": [
    "obj6 = {'A' : {'Beijing':1, 'Shanghai':2, 'Chongqing':3}, 'B' : {'Beijing':4, 'Shanghai':6, 'Chongqing':8}}\n",
    "obj6 = DataFrame(obj6)\n",
    "print(obj6)\n",
    "print(type(obj6.T))\n",
    "print(obj6.values)"
   ]
  },
  {
   "cell_type": "code",
   "execution_count": 65,
   "metadata": {},
   "outputs": [
    {
     "output_type": "stream",
     "name": "stdout",
     "text": [
      "0    1.5\n1   -2.5\n2    0.0\ndtype: float64\n"
     ]
    },
    {
     "output_type": "execute_result",
     "data": {
      "text/plain": [
       "True"
      ]
     },
     "metadata": {},
     "execution_count": 65
    }
   ],
   "source": [
    "index = pd.Index(np.arange(3))\n",
    "obj2 = Series([1.5, -2.5, 0], index=index)\n",
    "print(obj2)\n",
    "1 in obj2.index\n",
    "\n",
    "obj2.index.unique()\n",
    "pd.unique(obj2.index)\n",
    "index.is_unique\n",
    "index.unique\n",
    "index.is_monotonic"
   ]
  },
  {
   "cell_type": "code",
   "execution_count": 3,
   "metadata": {},
   "outputs": [
    {
     "output_type": "stream",
     "name": "stdout",
     "text": [
      "d    4.5\nb    7.2\na   -5.3\nc    3.6\ndtype: float64\na   -5.3\nb    7.2\nc    3.6\nd    4.5\ne    0.0\ndtype: float64\n"
     ]
    }
   ],
   "source": [
    "obj = Series([4.5, 7.2, -5.3, 3.6], index=['d', 'b', 'a', 'c'])\n",
    "obj2 = obj.reindex(['a', 'b', 'c', 'd', 'e'], fill_value=0)\n",
    "print(obj)\n",
    "print(obj2)"
   ]
  },
  {
   "cell_type": "code",
   "execution_count": 8,
   "metadata": {},
   "outputs": [
    {
     "output_type": "execute_result",
     "data": {
      "text/plain": [
       "             A    B    C   D\n",
       "Beijing    0.0  1.0  2.0 NaN\n",
       "Shanghai   3.0  4.0  5.0 NaN\n",
       "Chongqing  6.0  7.0  8.0 NaN\n",
       "Tianjin    NaN  NaN  NaN NaN"
      ],
      "text/html": "<div>\n<style scoped>\n    .dataframe tbody tr th:only-of-type {\n        vertical-align: middle;\n    }\n\n    .dataframe tbody tr th {\n        vertical-align: top;\n    }\n\n    .dataframe thead th {\n        text-align: right;\n    }\n</style>\n<table border=\"1\" class=\"dataframe\">\n  <thead>\n    <tr style=\"text-align: right;\">\n      <th></th>\n      <th>A</th>\n      <th>B</th>\n      <th>C</th>\n      <th>D</th>\n    </tr>\n  </thead>\n  <tbody>\n    <tr>\n      <th>Beijing</th>\n      <td>0.0</td>\n      <td>1.0</td>\n      <td>2.0</td>\n      <td>NaN</td>\n    </tr>\n    <tr>\n      <th>Shanghai</th>\n      <td>3.0</td>\n      <td>4.0</td>\n      <td>5.0</td>\n      <td>NaN</td>\n    </tr>\n    <tr>\n      <th>Chongqing</th>\n      <td>6.0</td>\n      <td>7.0</td>\n      <td>8.0</td>\n      <td>NaN</td>\n    </tr>\n    <tr>\n      <th>Tianjin</th>\n      <td>NaN</td>\n      <td>NaN</td>\n      <td>NaN</td>\n      <td>NaN</td>\n    </tr>\n  </tbody>\n</table>\n</div>"
     },
     "metadata": {},
     "execution_count": 8
    }
   ],
   "source": [
    "frame = DataFrame(np.arange(9).reshape(3, 3), index=['Beijing', 'Shanghai', 'Chongqing'], columns=['A', 'B', 'C'])\n",
    "frame.reindex(index=['Beijing', 'Shanghai', 'Chongqing', 'Tianjin'], columns=['A', 'B', 'C', 'D'])"
   ]
  },
  {
   "cell_type": "code",
   "execution_count": 9,
   "metadata": {},
   "outputs": [
    {
     "output_type": "execute_result",
     "data": {
      "text/plain": [
       "          three  one\n",
       "Ohio          2    0\n",
       "Colorado      6    4\n",
       "Utah         10    8\n",
       "New York     14   12"
      ],
      "text/html": "<div>\n<style scoped>\n    .dataframe tbody tr th:only-of-type {\n        vertical-align: middle;\n    }\n\n    .dataframe tbody tr th {\n        vertical-align: top;\n    }\n\n    .dataframe thead th {\n        text-align: right;\n    }\n</style>\n<table border=\"1\" class=\"dataframe\">\n  <thead>\n    <tr style=\"text-align: right;\">\n      <th></th>\n      <th>three</th>\n      <th>one</th>\n    </tr>\n  </thead>\n  <tbody>\n    <tr>\n      <th>Ohio</th>\n      <td>2</td>\n      <td>0</td>\n    </tr>\n    <tr>\n      <th>Colorado</th>\n      <td>6</td>\n      <td>4</td>\n    </tr>\n    <tr>\n      <th>Utah</th>\n      <td>10</td>\n      <td>8</td>\n    </tr>\n    <tr>\n      <th>New York</th>\n      <td>14</td>\n      <td>12</td>\n    </tr>\n  </tbody>\n</table>\n</div>"
     },
     "metadata": {},
     "execution_count": 9
    }
   ],
   "source": [
    "data = DataFrame(np.arange(16).reshape(4, 4), index=['Ohio', 'Colorado', 'Utah', 'New York'], columns=['one', 'two', 'three', 'four'])\n",
    "data[['three', 'one']]"
   ]
  },
  {
   "cell_type": "code",
   "execution_count": 19,
   "metadata": {},
   "outputs": [
    {
     "output_type": "stream",
     "name": "stdout",
     "text": [
      "          one  two  three  four\nOhio        0    1      2     3\nColorado    4    5      6     7\nUtah        8    9     10    11\nNew York   12   13     14    15\n          one  two  three  four\nOhio        0    1      2     3\nColorado    4    5      6     7\n"
     ]
    },
    {
     "output_type": "execute_result",
     "data": {
      "text/plain": [
       "5"
      ]
     },
     "metadata": {},
     "execution_count": 19
    }
   ],
   "source": [
    "print(data)\n",
    "print(data[0:2])\n",
    "# print(data[2])   False\n",
    "data.loc['Ohio', 'one']\n",
    "print(data.loc[1, 1])\n",
    "data.iloc[1, 1]"
   ]
  },
  {
   "cell_type": "code",
   "execution_count": 22,
   "metadata": {},
   "outputs": [],
   "source": [
    "frame = DataFrame(np.arange(12).reshape((4, 3)), columns=list('bde'), index=['Utah', 'Ohio', 'Texas', 'Oregon'])"
   ]
  },
  {
   "cell_type": "code",
   "execution_count": 25,
   "metadata": {},
   "outputs": [
    {
     "output_type": "stream",
     "name": "stdout",
     "text": [
      "b    9\nd    9\ne    9\ndtype: int64\nUtah      2\nOhio      2\nTexas     2\nOregon    2\ndtype: int64\n"
     ]
    }
   ],
   "source": [
    "f = lambda x: x.max() - x.min()\n",
    "print(frame.apply(f))\n",
    "print(frame.apply(f, axis=1))"
   ]
  },
  {
   "cell_type": "code",
   "execution_count": 27,
   "metadata": {},
   "outputs": [
    {
     "output_type": "execute_result",
     "data": {
      "text/plain": [
       "        Max  Min\n",
       "Utah      2    0\n",
       "Ohio      5    3\n",
       "Texas     8    6\n",
       "Oregon   11    9"
      ],
      "text/html": "<div>\n<style scoped>\n    .dataframe tbody tr th:only-of-type {\n        vertical-align: middle;\n    }\n\n    .dataframe tbody tr th {\n        vertical-align: top;\n    }\n\n    .dataframe thead th {\n        text-align: right;\n    }\n</style>\n<table border=\"1\" class=\"dataframe\">\n  <thead>\n    <tr style=\"text-align: right;\">\n      <th></th>\n      <th>Max</th>\n      <th>Min</th>\n    </tr>\n  </thead>\n  <tbody>\n    <tr>\n      <th>Utah</th>\n      <td>2</td>\n      <td>0</td>\n    </tr>\n    <tr>\n      <th>Ohio</th>\n      <td>5</td>\n      <td>3</td>\n    </tr>\n    <tr>\n      <th>Texas</th>\n      <td>8</td>\n      <td>6</td>\n    </tr>\n    <tr>\n      <th>Oregon</th>\n      <td>11</td>\n      <td>9</td>\n    </tr>\n  </tbody>\n</table>\n</div>"
     },
     "metadata": {},
     "execution_count": 27
    }
   ],
   "source": [
    "def f(x):\n",
    "    return Series([x.max(), x.min()], index=['Max', 'Min'])\n",
    "\n",
    "frame.apply(f)\n",
    "frame.apply(f, axis=1)"
   ]
  },
  {
   "cell_type": "code",
   "execution_count": 28,
   "metadata": {},
   "outputs": [
    {
     "output_type": "execute_result",
     "data": {
      "text/plain": [
       "           b      d      e\n",
       "Utah    0.00   1.00   2.00\n",
       "Ohio    3.00   4.00   5.00\n",
       "Texas   6.00   7.00   8.00\n",
       "Oregon  9.00  10.00  11.00"
      ],
      "text/html": "<div>\n<style scoped>\n    .dataframe tbody tr th:only-of-type {\n        vertical-align: middle;\n    }\n\n    .dataframe tbody tr th {\n        vertical-align: top;\n    }\n\n    .dataframe thead th {\n        text-align: right;\n    }\n</style>\n<table border=\"1\" class=\"dataframe\">\n  <thead>\n    <tr style=\"text-align: right;\">\n      <th></th>\n      <th>b</th>\n      <th>d</th>\n      <th>e</th>\n    </tr>\n  </thead>\n  <tbody>\n    <tr>\n      <th>Utah</th>\n      <td>0.00</td>\n      <td>1.00</td>\n      <td>2.00</td>\n    </tr>\n    <tr>\n      <th>Ohio</th>\n      <td>3.00</td>\n      <td>4.00</td>\n      <td>5.00</td>\n    </tr>\n    <tr>\n      <th>Texas</th>\n      <td>6.00</td>\n      <td>7.00</td>\n      <td>8.00</td>\n    </tr>\n    <tr>\n      <th>Oregon</th>\n      <td>9.00</td>\n      <td>10.00</td>\n      <td>11.00</td>\n    </tr>\n  </tbody>\n</table>\n</div>"
     },
     "metadata": {},
     "execution_count": 28
    }
   ],
   "source": [
    "format = lambda x: '%.2f' % x\n",
    "frame.applymap(format)"
   ]
  },
  {
   "cell_type": "code",
   "execution_count": 30,
   "metadata": {},
   "outputs": [
    {
     "output_type": "execute_result",
     "data": {
      "text/plain": [
       "a    1\n",
       "b    2\n",
       "c    3\n",
       "d    0\n",
       "dtype: int64"
      ]
     },
     "metadata": {},
     "execution_count": 30
    }
   ],
   "source": [
    "obj = Series(range(4), index=['d', 'a', 'b', 'c'])\n",
    "obj.sort_index()"
   ]
  },
  {
   "cell_type": "code",
   "execution_count": 33,
   "metadata": {},
   "outputs": [
    {
     "output_type": "execute_result",
     "data": {
      "text/plain": [
       "2   -3\n",
       "3    2\n",
       "0    4\n",
       "1    7\n",
       "dtype: int64"
      ]
     },
     "metadata": {},
     "execution_count": 33
    }
   ],
   "source": [
    "obj = Series([4, 7, -3, 2])\n",
    "# obj.order() Error\n",
    "obj.sort_values()"
   ]
  },
  {
   "cell_type": "code",
   "execution_count": 35,
   "metadata": {},
   "outputs": [
    {
     "output_type": "stream",
     "name": "stdout",
     "text": [
      "0    4.0\n1    NaN\n2    7.0\n3    NaN\n4   -3.0\n5    2.0\ndtype: float64\n"
     ]
    }
   ],
   "source": [
    "obj = Series([4, np.nan, 7, np.nan, -3, 2])\n",
    "obj.sort_values()\n",
    "print(obj)"
   ]
  },
  {
   "cell_type": "code",
   "execution_count": 37,
   "metadata": {},
   "outputs": [
    {
     "output_type": "stream",
     "name": "stdout",
     "text": [
      "0     a\n1     a\n2     b\n3     c\n4     a\n5     a\n6     b\n7     c\n8     a\n9     a\n10    b\n11    c\n12    a\n13    a\n14    b\n15    c\ndtype: object\n"
     ]
    },
    {
     "output_type": "execute_result",
     "data": {
      "text/plain": [
       "count     16\n",
       "unique     3\n",
       "top        a\n",
       "freq       8\n",
       "dtype: object"
      ]
     },
     "metadata": {},
     "execution_count": 37
    }
   ],
   "source": [
    "obj = Series(['a', 'a', 'b', 'c'] * 4)\n",
    "print(obj)\n",
    "obj.describe()"
   ]
  }
 ]
}