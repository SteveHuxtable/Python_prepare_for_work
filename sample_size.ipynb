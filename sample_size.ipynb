{
 "metadata": {
  "language_info": {
   "codemirror_mode": {
    "name": "ipython",
    "version": 3
   },
   "file_extension": ".py",
   "mimetype": "text/x-python",
   "name": "python",
   "nbconvert_exporter": "python",
   "pygments_lexer": "ipython3",
   "version": 3
  },
  "orig_nbformat": 2
 },
 "nbformat": 4,
 "nbformat_minor": 2,
 "cells": [
  {
   "source": [
    "# 口罩干预随机交叉试验样本量估计\n",
    "\n",
    "## 样本量的估计采用RCT试验中连续变量样本大小的估算方法-201228\n",
    "$N = \\frac{2(Z_{\\alpha} + Z_{\\beta})^{2}\\sigma^2}{d^2}$\n",
    "\n",
    ">> 注: 研究设计如果期望在每个单独现场中均发现组间显著的差异，则每个小现场都应满足以上样本量的计算\n",
    "\n",
    "- N表示估计的样本大小\n",
    "- $Z_{\\alpha}$表示符合标准正态分布的随机变量距离其期望的概率小于等于$\\alpha$时的确界\n",
    "  1. $\\alpha=0.05$且单侧检验时为1.64\n",
    "  2. $\\alpha=0.05$且双侧检验时为1.96\n",
    "- $\\beta$为把握度，即期望有$\\beta$的概率发现显著结果，$Z_{\\beta}$计算与$Z_{\\alpha}$相同\n",
    "  1. $\\beta=0.20$且单侧检验时为0.84\n",
    "  2. $\\beta=0.20$且双侧检验时为1.28\n",
    "  3. $\\beta=0.10$且单侧检验时为1.28\n",
    "  4. $\\beta=0.10$且双侧检验时为1.64\n",
    "- $\\sigma$为关注的检查指标在人群中的标准差。比如查既往文献，发现PEF在青年人群中标准差为50，则将50代入公式\n",
    "- d为所关注的健康指标的组间差异，如口罩干预组比无口罩组PEF增加50，则可代入公式。需要注意的是d和$\\sigma$的单位要注意一致.\n",
    "\n",
    ">> 以上Z值可查表自己确定，不过单侧检验且$\\alpha$等于0.05，$\\beta$等于0.1或0.2应该可以；\n",
    ">> 最好使用以上所述的组间差异进行样本量计算，即戴口罩后希望PEF能提高多少。\n",
    "\n",
    "样本量计算之后，考虑失访可除以0.9适当增加样本量。"
   ],
   "cell_type": "markdown",
   "metadata": {}
  }
 ]
}