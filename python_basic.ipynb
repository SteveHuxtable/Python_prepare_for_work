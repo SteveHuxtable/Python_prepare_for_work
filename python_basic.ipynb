{
 "metadata": {
  "language_info": {
   "codemirror_mode": {
    "name": "ipython",
    "version": 3
   },
   "file_extension": ".py",
   "mimetype": "text/x-python",
   "name": "python",
   "nbconvert_exporter": "python",
   "pygments_lexer": "ipython3",
   "version": "3.7.7-final"
  },
  "orig_nbformat": 2,
  "kernelspec": {
   "name": "python3",
   "display_name": "Python 3"
  }
 },
 "nbformat": 4,
 "nbformat_minor": 2,
 "cells": [
  {
   "source": [
    "## Python基础教程-第九章-魔法方法、特性和迭代器"
   ],
   "cell_type": "markdown",
   "metadata": {}
  },
  {
   "cell_type": "code",
   "execution_count": 2,
   "metadata": {},
   "outputs": [
    {
     "output_type": "execute_result",
     "data": {
      "text/plain": [
       "42"
      ]
     },
     "metadata": {},
     "execution_count": 2
    }
   ],
   "source": [
    "# constructor\n",
    "class FooBar:\n",
    "    def __init__(self):\n",
    "        self.somevar = 42\n",
    "\n",
    "f = FooBar()\n",
    "f.somevar"
   ]
  },
  {
   "cell_type": "code",
   "execution_count": 1,
   "metadata": {},
   "outputs": [
    {
     "output_type": "stream",
     "name": "stdout",
     "text": [
      "Squawk!\n"
     ]
    }
   ],
   "source": [
    "# using \"super\"\n",
    "class Bird:\n",
    "    def __init__(self):\n",
    "        self.hungry = True\n",
    "    def eat(self):\n",
    "        if self.hungry:\n",
    "            print('Aaaaah ... ')\n",
    "            self.hungry = False\n",
    "        else:\n",
    "            print('No, thanks!')\n",
    "\n",
    "class SongBird(Bird):\n",
    "    def __init__(self):\n",
    "        super(SongBird, self).__init__()\n",
    "        self.sound = 'Squawk!'\n",
    "    def sing(self):\n",
    "        print(self.sound)\n",
    "\n",
    "sb = SongBird()\n",
    "sb.sing()"
   ]
  },
  {
   "cell_type": "code",
   "execution_count": 2,
   "metadata": {},
   "outputs": [],
   "source": [
    "def check_index(key):\n",
    "    if not isinstance(key, int): raise TypeError\n",
    "    if key < 0: raise IndexError\n",
    "\n",
    "class ArithmeticSequence:\n",
    "\n",
    "    def __init__(self, start=0, step=1):\n",
    "        self.start = start\n",
    "        self.step = step\n",
    "        self.changed = {}\n",
    "\n",
    "    def __getitem__(self, key):\n",
    "        check_index(key)\n",
    "\n",
    "        try: return self.changed[key]\n",
    "        except KeyError:\n",
    "            return self.start + key * self.step\n",
    "\n",
    "    def __setitem__(self, key, value):\n",
    "        check_index(key)\n",
    "        self.changed[key] = value"
   ]
  },
  {
   "cell_type": "code",
   "execution_count": 4,
   "metadata": {},
   "outputs": [
    {
     "output_type": "execute_result",
     "data": {
      "text/plain": [
       "9"
      ]
     },
     "metadata": {},
     "execution_count": 4
    }
   ],
   "source": [
    "s = ArithmeticSequence(1, 2)\n",
    "s[4]"
   ]
  },
  {
   "cell_type": "code",
   "execution_count": 3,
   "metadata": {},
   "outputs": [],
   "source": [
    "class CounterList(list):\n",
    "    def __init__(self, *args):\n",
    "        super().__init__(*args)\n",
    "        self.counter = 0\n",
    "    def __getitem__(self, index):\n",
    "        self.counter += 1\n",
    "        return super(CounterList, self).__getitem__(index)"
   ]
  },
  {
   "cell_type": "code",
   "execution_count": null,
   "metadata": {},
   "outputs": [],
   "source": [
    "class Rectangle:\n",
    "    def __init__(self):\n",
    "        self.width = 0\n",
    "        self.height = 0\n",
    "    def set_size(self, size):\n",
    "        self.width, self.height = size\n",
    "    def get_size(self):\n",
    "        return self.width, self.height\n",
    "    size = property(get_size, set_size)"
   ]
  },
  {
   "cell_type": "code",
   "execution_count": null,
   "metadata": {},
   "outputs": [],
   "source": [
    "class MyClass:\n",
    "\n",
    "    @staticmethod\n",
    "    def smeth():\n",
    "        print('This is a static method')\n",
    "\n",
    "    @classmethod\n",
    "    def cmeth(cls):\n",
    "        print('This is a class method', cls)"
   ]
  },
  {
   "cell_type": "code",
   "execution_count": 4,
   "metadata": {},
   "outputs": [],
   "source": [
    "class Rectangle:\n",
    "    def __init__(self):\n",
    "        self.width = 0\n",
    "        self.height = 0\n",
    "\n",
    "    def __setattr__(self, name, value):\n",
    "        if name == 'size':\n",
    "            self.width, self.height = value\n",
    "        else:\n",
    "            self.__dict__[name] = value\n",
    "    def __getattribute__(self, name):\n",
    "        if name == 'size':\n",
    "            return self.width, self.height\n",
    "        else:\n",
    "            raise AttributeError()"
   ]
  },
  {
   "cell_type": "code",
   "execution_count": 5,
   "metadata": {},
   "outputs": [
    {
     "output_type": "stream",
     "name": "stdout",
     "text": [
      "1597\n"
     ]
    }
   ],
   "source": [
    "class Fibs:\n",
    "    def __init__(self):\n",
    "        self.a = 0\n",
    "        self.b = 1\n",
    "    def __next__(self):\n",
    "        self.a, self.b = self.b, self.a + self.b\n",
    "        return self.a\n",
    "    def __iter__(self):\n",
    "        return self\n",
    "\n",
    "fibs = Fibs()\n",
    "\n",
    "for f in fibs:\n",
    "    if f > 1000:\n",
    "        print(f)\n",
    "        break"
   ]
  },
  {
   "cell_type": "code",
   "execution_count": null,
   "metadata": {},
   "outputs": [],
   "source": [
    "nested = [[1, 2], [3, 4], [5]]\n",
    "\n",
    "def flatten(nested):\n",
    "    for sublist in nested:\n",
    "        for element in sublist:\n",
    "            yield element\n",
    "\n",
    "def flatten_2(nested):\n",
    "    try:\n",
    "        for sublist in nested:\n",
    "            for element in flatten_2(sublist):\n",
    "                yield element\n",
    "    except TypeError:\n",
    "        yield nested\n",
    "\n",
    "# how to flatten a list with strings?\n",
    "def flatten_3(nested):\n",
    "    try:\n",
    "        \n",
    "        try: nested + ''\n",
    "        except TypeError: pass\n",
    "        else: raise TypeError\n",
    "\n",
    "        for sublist in nested:\n",
    "            for element in flatten_3(sublist):\n",
    "                yield element\n",
    "    except TypeError:\n",
    "        yield nested\n",
    "\n",
    "list(flatten_3(['foo', ['bar', ['baz']]]))"
   ]
  },
  {
   "cell_type": "code",
   "execution_count": 2,
   "metadata": {},
   "outputs": [
    {
     "output_type": "stream",
     "name": "stdout",
     "text": [
      "<function simple_generator at 0x10db657a0>\n<generator object simple_generator at 0x10e705b50>\n"
     ]
    }
   ],
   "source": [
    "def simple_generator():\n",
    "    yield 1\n",
    "\n",
    "print(simple_generator)\n",
    "print(simple_generator())"
   ]
  },
  {
   "cell_type": "code",
   "execution_count": 9,
   "metadata": {},
   "outputs": [
    {
     "output_type": "stream",
     "name": "stdout",
     "text": [
      "(1, 2, 3, 1)\n[1, 2, 3, 1]\n"
     ]
    }
   ],
   "source": [
    "# 8 queen problem using pythonic codes\n",
    "def conflict(state, nextX):\n",
    "    nextY = len(state)\n",
    "    for i in range(nextY):\n",
    "        if abs(state[i] - nextX) in (0, nextY - i):\n",
    "            return True\n",
    "    return False\n",
    "\n",
    "def queens(num, state):\n",
    "    if len(state) == num - 1:\n",
    "        for pos in range(num):\n",
    "            if not conflict(state, pos):\n",
    "                yield pos\n",
    "\n",
    "list(queens(4, (1, 3, 0)))\n",
    "\n",
    "print((1, 2, 3) + (1, ))\n",
    "print([1, 2, 3] + [1, ])"
   ]
  },
  {
   "cell_type": "code",
   "execution_count": 13,
   "metadata": {},
   "outputs": [
    {
     "output_type": "stream",
     "name": "stdout",
     "text": [
      "(0, 4, 7, 5, 2, 6, 1, 3)\n(0, 5, 7, 2, 6, 3, 1, 4)\n(0, 6, 3, 5, 7, 1, 4, 2)\n(0, 6, 4, 7, 1, 3, 5, 2)\n(1, 3, 5, 7, 2, 0, 6, 4)\n(1, 4, 6, 0, 2, 7, 5, 3)\n(1, 4, 6, 3, 0, 7, 5, 2)\n(1, 5, 0, 6, 3, 7, 2, 4)\n(1, 5, 7, 2, 0, 3, 6, 4)\n(1, 6, 2, 5, 7, 4, 0, 3)\n(1, 6, 4, 7, 0, 3, 5, 2)\n(1, 7, 5, 0, 2, 4, 6, 3)\n(2, 0, 6, 4, 7, 1, 3, 5)\n(2, 4, 1, 7, 0, 6, 3, 5)\n(2, 4, 1, 7, 5, 3, 6, 0)\n(2, 4, 6, 0, 3, 1, 7, 5)\n(2, 4, 7, 3, 0, 6, 1, 5)\n(2, 5, 1, 4, 7, 0, 6, 3)\n(2, 5, 1, 6, 0, 3, 7, 4)\n(2, 5, 1, 6, 4, 0, 7, 3)\n(2, 5, 3, 0, 7, 4, 6, 1)\n(2, 5, 3, 1, 7, 4, 6, 0)\n(2, 5, 7, 0, 3, 6, 4, 1)\n(2, 5, 7, 0, 4, 6, 1, 3)\n(2, 5, 7, 1, 3, 0, 6, 4)\n(2, 6, 1, 7, 4, 0, 3, 5)\n(2, 6, 1, 7, 5, 3, 0, 4)\n(2, 7, 3, 6, 0, 5, 1, 4)\n(3, 0, 4, 7, 1, 6, 2, 5)\n(3, 0, 4, 7, 5, 2, 6, 1)\n(3, 1, 4, 7, 5, 0, 2, 6)\n(3, 1, 6, 2, 5, 7, 0, 4)\n(3, 1, 6, 2, 5, 7, 4, 0)\n(3, 1, 6, 4, 0, 7, 5, 2)\n(3, 1, 7, 4, 6, 0, 2, 5)\n(3, 1, 7, 5, 0, 2, 4, 6)\n(3, 5, 0, 4, 1, 7, 2, 6)\n(3, 5, 7, 1, 6, 0, 2, 4)\n(3, 5, 7, 2, 0, 6, 4, 1)\n(3, 6, 0, 7, 4, 1, 5, 2)\n(3, 6, 2, 7, 1, 4, 0, 5)\n(3, 6, 4, 1, 5, 0, 2, 7)\n(3, 6, 4, 2, 0, 5, 7, 1)\n(3, 7, 0, 2, 5, 1, 6, 4)\n(3, 7, 0, 4, 6, 1, 5, 2)\n(3, 7, 4, 2, 0, 6, 1, 5)\n(4, 0, 3, 5, 7, 1, 6, 2)\n(4, 0, 7, 3, 1, 6, 2, 5)\n(4, 0, 7, 5, 2, 6, 1, 3)\n(4, 1, 3, 5, 7, 2, 0, 6)\n(4, 1, 3, 6, 2, 7, 5, 0)\n(4, 1, 5, 0, 6, 3, 7, 2)\n(4, 1, 7, 0, 3, 6, 2, 5)\n(4, 2, 0, 5, 7, 1, 3, 6)\n(4, 2, 0, 6, 1, 7, 5, 3)\n(4, 2, 7, 3, 6, 0, 5, 1)\n(4, 6, 0, 2, 7, 5, 3, 1)\n(4, 6, 0, 3, 1, 7, 5, 2)\n(4, 6, 1, 3, 7, 0, 2, 5)\n(4, 6, 1, 5, 2, 0, 3, 7)\n(4, 6, 1, 5, 2, 0, 7, 3)\n(4, 6, 3, 0, 2, 7, 5, 1)\n(4, 7, 3, 0, 2, 5, 1, 6)\n(4, 7, 3, 0, 6, 1, 5, 2)\n(5, 0, 4, 1, 7, 2, 6, 3)\n(5, 1, 6, 0, 2, 4, 7, 3)\n(5, 1, 6, 0, 3, 7, 4, 2)\n(5, 2, 0, 6, 4, 7, 1, 3)\n(5, 2, 0, 7, 3, 1, 6, 4)\n(5, 2, 0, 7, 4, 1, 3, 6)\n(5, 2, 4, 6, 0, 3, 1, 7)\n(5, 2, 4, 7, 0, 3, 1, 6)\n(5, 2, 6, 1, 3, 7, 0, 4)\n(5, 2, 6, 1, 7, 4, 0, 3)\n(5, 2, 6, 3, 0, 7, 1, 4)\n(5, 3, 0, 4, 7, 1, 6, 2)\n(5, 3, 1, 7, 4, 6, 0, 2)\n(5, 3, 6, 0, 2, 4, 1, 7)\n(5, 3, 6, 0, 7, 1, 4, 2)\n(5, 7, 1, 3, 0, 6, 4, 2)\n(6, 0, 2, 7, 5, 3, 1, 4)\n(6, 1, 3, 0, 7, 4, 2, 5)\n(6, 1, 5, 2, 0, 3, 7, 4)\n(6, 2, 0, 5, 7, 4, 1, 3)\n(6, 2, 7, 1, 4, 0, 5, 3)\n(6, 3, 1, 4, 7, 0, 2, 5)\n(6, 3, 1, 7, 5, 0, 2, 4)\n(6, 4, 2, 0, 5, 7, 1, 3)\n(7, 1, 3, 0, 6, 4, 2, 5)\n(7, 1, 4, 2, 0, 6, 3, 5)\n(7, 2, 0, 5, 1, 4, 6, 3)\n(7, 3, 0, 2, 5, 1, 6, 4)\n"
     ]
    }
   ],
   "source": [
    "def queens(num=8, state=()):\n",
    "    for pos in range(num):\n",
    "        if not conflict(state, pos):\n",
    "            if len(state) == num-1:\n",
    "                yield (pos,)\n",
    "            else:\n",
    "                for result in queens(num, state + (pos,)):\n",
    "                    yield (pos,) + result\n",
    "\n",
    "for temp in queens(8, ()):\n",
    "    print(temp)"
   ]
  },
  {
   "cell_type": "code",
   "execution_count": null,
   "metadata": {},
   "outputs": [],
   "source": []
  }
 ]
}