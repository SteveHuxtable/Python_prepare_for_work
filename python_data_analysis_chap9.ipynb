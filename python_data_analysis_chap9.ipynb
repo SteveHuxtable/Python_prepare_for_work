{
 "metadata": {
  "language_info": {
   "codemirror_mode": {
    "name": "ipython",
    "version": 3
   },
   "file_extension": ".py",
   "mimetype": "text/x-python",
   "name": "python",
   "nbconvert_exporter": "python",
   "pygments_lexer": "ipython3",
   "version": "3.7.7-final"
  },
  "orig_nbformat": 2,
  "kernelspec": {
   "name": "python37464bitvirtualenvvenv46d53a87f13544bab29fe8a424524dc4",
   "display_name": "Python 3.7.4 64-bit ('virtualEnv': venv)",
   "language": "python"
  }
 },
 "nbformat": 4,
 "nbformat_minor": 2,
 "cells": [
  {
   "source": [
    "# chapter 9 : 数据聚合与分组计算"
   ],
   "cell_type": "markdown",
   "metadata": {}
  },
  {
   "cell_type": "code",
   "execution_count": 1,
   "metadata": {},
   "outputs": [],
   "source": [
    "import numpy as np\n",
    "import pandas as pd\n",
    "from pandas import Series, DataFrame\n",
    "import matplotlib.pyplot as plt"
   ]
  },
  {
   "cell_type": "code",
   "execution_count": 2,
   "metadata": {},
   "outputs": [],
   "source": [
    "df = DataFrame({'key1' : ['a', 'a', 'b', 'b', 'a'],\n",
    "                'key2' : ['one', 'two', 'one', 'two', 'one'],\n",
    "                'data1' : np.random.randn(5),\n",
    "                'data2' : np.random.randn(5)})"
   ]
  },
  {
   "cell_type": "code",
   "execution_count": 5,
   "metadata": {},
   "outputs": [
    {
     "output_type": "stream",
     "name": "stdout",
     "text": [
      "         data1     data2\nkey1                    \na    -0.012554  0.138652\nb    -0.259696  0.152595\nkey2\none   -0.345399\ntwo   -0.059033\nName: data1, dtype: float64\n"
     ]
    }
   ],
   "source": [
    "grouped = df.groupby(df['key1'])\n",
    "print(grouped.mean())\n",
    "\n",
    "grouped2 = df['data1'].groupby(df['key2'])\n",
    "print(grouped2.median())"
   ]
  },
  {
   "cell_type": "code",
   "execution_count": 6,
   "metadata": {},
   "outputs": [
    {
     "output_type": "execute_result",
     "data": {
      "text/plain": [
       "key1  key2\n",
       "a     one    -0.046795\n",
       "      two     0.055929\n",
       "b     one    -0.345399\n",
       "      two    -0.173994\n",
       "Name: data1, dtype: float64"
      ]
     },
     "metadata": {},
     "execution_count": 6
    }
   ],
   "source": [
    "df['data1'].groupby([df['key1'], df['key2']]).mean()"
   ]
  },
  {
   "cell_type": "code",
   "execution_count": 7,
   "metadata": {},
   "outputs": [
    {
     "output_type": "execute_result",
     "data": {
      "text/plain": [
       "         data1     data2\n",
       "key1                    \n",
       "a    -0.012554  0.138652\n",
       "b    -0.259696  0.152595"
      ],
      "text/html": "<div>\n<style scoped>\n    .dataframe tbody tr th:only-of-type {\n        vertical-align: middle;\n    }\n\n    .dataframe tbody tr th {\n        vertical-align: top;\n    }\n\n    .dataframe thead th {\n        text-align: right;\n    }\n</style>\n<table border=\"1\" class=\"dataframe\">\n  <thead>\n    <tr style=\"text-align: right;\">\n      <th></th>\n      <th>data1</th>\n      <th>data2</th>\n    </tr>\n    <tr>\n      <th>key1</th>\n      <th></th>\n      <th></th>\n    </tr>\n  </thead>\n  <tbody>\n    <tr>\n      <th>a</th>\n      <td>-0.012554</td>\n      <td>0.138652</td>\n    </tr>\n    <tr>\n      <th>b</th>\n      <td>-0.259696</td>\n      <td>0.152595</td>\n    </tr>\n  </tbody>\n</table>\n</div>"
     },
     "metadata": {},
     "execution_count": 7
    }
   ],
   "source": [
    "df.groupby('key1').mean() # so, there is no need for df['key1']"
   ]
  },
  {
   "cell_type": "code",
   "execution_count": 8,
   "metadata": {},
   "outputs": [
    {
     "output_type": "execute_result",
     "data": {
      "text/plain": [
       "key1  key2\n",
       "a     one     2\n",
       "      two     1\n",
       "b     one     1\n",
       "      two     1\n",
       "dtype: int64"
      ]
     },
     "metadata": {},
     "execution_count": 8
    }
   ],
   "source": [
    "df.groupby(['key1', 'key2']).size()"
   ]
  },
  {
   "cell_type": "code",
   "execution_count": 9,
   "metadata": {},
   "outputs": [
    {
     "output_type": "stream",
     "name": "stdout",
     "text": [
      "a\n  key1 key2     data1     data2\n0    a  one -1.037185  0.260148\n1    a  two  0.055929 -1.432500\n4    a  one  0.943596  1.588308\nb\n  key1 key2     data1     data2\n2    b  one -0.345399  0.952972\n3    b  two -0.173994 -0.647781\n"
     ]
    }
   ],
   "source": [
    "for name, group in df.groupby('key1'):\n",
    "    print(name)\n",
    "    print(group)"
   ]
  },
  {
   "cell_type": "code",
   "execution_count": 10,
   "metadata": {},
   "outputs": [
    {
     "output_type": "stream",
     "name": "stdout",
     "text": [
      "a one\n  key1 key2     data1     data2\n0    a  one -1.037185  0.260148\n4    a  one  0.943596  1.588308\na two\n  key1 key2     data1   data2\n1    a  two  0.055929 -1.4325\nb one\n  key1 key2     data1     data2\n2    b  one -0.345399  0.952972\nb two\n  key1 key2     data1     data2\n3    b  two -0.173994 -0.647781\n"
     ]
    }
   ],
   "source": [
    "for (k1, k2), group in df.groupby(['key1', 'key2']):\n",
    "    print(k1, k2)\n",
    "    print(group)"
   ]
  },
  {
   "cell_type": "code",
   "execution_count": 11,
   "metadata": {},
   "outputs": [
    {
     "output_type": "stream",
     "name": "stdout",
     "text": [
      "{'a':   key1 key2     data1     data2\n0    a  one -1.037185  0.260148\n1    a  two  0.055929 -1.432500\n4    a  one  0.943596  1.588308, 'b':   key1 key2     data1     data2\n2    b  one -0.345399  0.952972\n3    b  two -0.173994 -0.647781}\n"
     ]
    }
   ],
   "source": [
    "pieces = dict(list(df.groupby('key1')))\n",
    "print(pieces)"
   ]
  },
  {
   "cell_type": "code",
   "execution_count": 12,
   "metadata": {},
   "outputs": [
    {
     "output_type": "execute_result",
     "data": {
      "text/plain": [
       "{dtype('float64'):       data1     data2\n",
       " 0 -1.037185  0.260148\n",
       " 1  0.055929 -1.432500\n",
       " 2 -0.345399  0.952972\n",
       " 3 -0.173994 -0.647781\n",
       " 4  0.943596  1.588308, dtype('O'):   key1 key2\n",
       " 0    a  one\n",
       " 1    a  two\n",
       " 2    b  one\n",
       " 3    b  two\n",
       " 4    a  one}"
      ]
     },
     "metadata": {},
     "execution_count": 12
    }
   ],
   "source": [
    "grouped_col = df.groupby(df.dtypes, axis=1)\n",
    "dict(list(grouped_col))"
   ]
  },
  {
   "cell_type": "code",
   "execution_count": 21,
   "metadata": {},
   "outputs": [
    {
     "output_type": "stream",
     "name": "stdout",
     "text": [
      "key1\na   -0.012554\nb   -0.259696\nName: data1, dtype: float64\n         data1\nkey1          \na    -0.012554\nb    -0.259696\n\n\n<class 'pandas.core.series.Series'>\n<class 'pandas.core.frame.DataFrame'>\n"
     ]
    }
   ],
   "source": [
    "print(df['data1'].groupby(df['key1']).mean())\n",
    "print(df[['data1']].groupby(df['key1']).mean())\n",
    "print('\\n')\n",
    "print(type(df['data1']))\n",
    "print(type(df[['data1']]))"
   ]
  },
  {
   "cell_type": "code",
   "execution_count": 22,
   "metadata": {},
   "outputs": [],
   "source": [
    "people = DataFrame(np.random.randn(5, 5),\n",
    "                   columns=['a', 'b', 'c', 'd', 'e'],\n",
    "                   index=['Joe', 'Steve', 'Wes', 'Jim', 'Travis'])\n",
    "\n",
    "groupby_map = {'a' : 'red', 'b' : 'blue', 'c' : 'red', 'd' : 'red', 'e' : 'blue'}\n",
    "by_column = people.groupby(groupby_map, axis=1)"
   ]
  },
  {
   "cell_type": "code",
   "execution_count": 25,
   "metadata": {},
   "outputs": [
    {
     "output_type": "stream",
     "name": "stdout",
     "text": [
      "            blue       red\nJoe     0.304454  0.345136\nSteve  -0.176742 -0.301336\nWes    -0.274221  0.054564\nJim     0.859158 -0.843103\nTravis -0.254842 -0.924578\n        blue  red\nJoe        2    3\nSteve      2    3\nWes        2    3\nJim        2    3\nTravis     2    3\n"
     ]
    }
   ],
   "source": [
    "print(by_column.mean())\n",
    "print(by_column.count())"
   ]
  },
  {
   "cell_type": "code",
   "execution_count": 27,
   "metadata": {},
   "outputs": [
    {
     "output_type": "execute_result",
     "data": {
      "text/plain": [
       "3"
      ]
     },
     "metadata": {},
     "execution_count": 27
    }
   ],
   "source": [
    "sl = ['sam', 'jack', 'luc', 'rat']\n",
    "len(sl[0])\n",
    "\n",
    "people.groupby(len).sum()"
   ]
  },
  {
   "cell_type": "code",
   "execution_count": 28,
   "metadata": {},
   "outputs": [
    {
     "output_type": "execute_result",
     "data": {
      "text/plain": [
       "              a         b         c         d         e\n",
       "3 one -0.438113  0.176505 -1.320249 -0.668175 -0.724947\n",
       "  two -0.516204  0.842492 -0.125942 -1.887164  0.875823\n",
       "5 one -0.563468 -0.087251  0.165671 -0.506210 -0.266233\n",
       "6 two -0.330661  0.159476 -1.966509 -0.476565 -0.669160"
      ],
      "text/html": "<div>\n<style scoped>\n    .dataframe tbody tr th:only-of-type {\n        vertical-align: middle;\n    }\n\n    .dataframe tbody tr th {\n        vertical-align: top;\n    }\n\n    .dataframe thead th {\n        text-align: right;\n    }\n</style>\n<table border=\"1\" class=\"dataframe\">\n  <thead>\n    <tr style=\"text-align: right;\">\n      <th></th>\n      <th></th>\n      <th>a</th>\n      <th>b</th>\n      <th>c</th>\n      <th>d</th>\n      <th>e</th>\n    </tr>\n  </thead>\n  <tbody>\n    <tr>\n      <th rowspan=\"2\" valign=\"top\">3</th>\n      <th>one</th>\n      <td>-0.438113</td>\n      <td>0.176505</td>\n      <td>-1.320249</td>\n      <td>-0.668175</td>\n      <td>-0.724947</td>\n    </tr>\n    <tr>\n      <th>two</th>\n      <td>-0.516204</td>\n      <td>0.842492</td>\n      <td>-0.125942</td>\n      <td>-1.887164</td>\n      <td>0.875823</td>\n    </tr>\n    <tr>\n      <th>5</th>\n      <th>one</th>\n      <td>-0.563468</td>\n      <td>-0.087251</td>\n      <td>0.165671</td>\n      <td>-0.506210</td>\n      <td>-0.266233</td>\n    </tr>\n    <tr>\n      <th>6</th>\n      <th>two</th>\n      <td>-0.330661</td>\n      <td>0.159476</td>\n      <td>-1.966509</td>\n      <td>-0.476565</td>\n      <td>-0.669160</td>\n    </tr>\n  </tbody>\n</table>\n</div>"
     },
     "metadata": {},
     "execution_count": 28
    }
   ],
   "source": [
    "key_list = ['one', 'one', 'one', 'two', 'two']\n",
    "people.groupby([len, key_list]).min()"
   ]
  },
  {
   "cell_type": "code",
   "execution_count": 30,
   "metadata": {},
   "outputs": [
    {
     "output_type": "execute_result",
     "data": {
      "text/plain": [
       "cty  JP  US\n",
       "0     2   3\n",
       "1     2   3\n",
       "2     2   3\n",
       "3     2   3"
      ],
      "text/html": "<div>\n<style scoped>\n    .dataframe tbody tr th:only-of-type {\n        vertical-align: middle;\n    }\n\n    .dataframe tbody tr th {\n        vertical-align: top;\n    }\n\n    .dataframe thead th {\n        text-align: right;\n    }\n</style>\n<table border=\"1\" class=\"dataframe\">\n  <thead>\n    <tr style=\"text-align: right;\">\n      <th>cty</th>\n      <th>JP</th>\n      <th>US</th>\n    </tr>\n  </thead>\n  <tbody>\n    <tr>\n      <th>0</th>\n      <td>2</td>\n      <td>3</td>\n    </tr>\n    <tr>\n      <th>1</th>\n      <td>2</td>\n      <td>3</td>\n    </tr>\n    <tr>\n      <th>2</th>\n      <td>2</td>\n      <td>3</td>\n    </tr>\n    <tr>\n      <th>3</th>\n      <td>2</td>\n      <td>3</td>\n    </tr>\n  </tbody>\n</table>\n</div>"
     },
     "metadata": {},
     "execution_count": 30
    }
   ],
   "source": [
    "columns = pd.MultiIndex.from_arrays([['US', 'US', 'US', 'JP', 'JP'],\n",
    "                                     [1, 3, 5, 1, 3]], names=['cty', 'tenor'])\n",
    "hier_df = DataFrame(np.random.randn(4, 5), columns=columns)\n",
    "\n",
    "hier_df.groupby(level='cty', axis=1).count()"
   ]
  },
  {
   "cell_type": "code",
   "execution_count": 31,
   "metadata": {},
   "outputs": [
    {
     "output_type": "execute_result",
     "data": {
      "text/plain": [
       "cty\n",
       "JP    2\n",
       "US    3\n",
       "dtype: int64"
      ]
     },
     "metadata": {},
     "execution_count": 31
    }
   ],
   "source": [
    "hier_df.groupby(level='cty', axis=1).size()"
   ]
  },
  {
   "cell_type": "code",
   "execution_count": 32,
   "metadata": {},
   "outputs": [
    {
     "output_type": "execute_result",
     "data": {
      "text/plain": [
       "         data1     data2\n",
       "key1                    \n",
       "a     1.980781  3.020808\n",
       "b     0.171405  1.600753"
      ],
      "text/html": "<div>\n<style scoped>\n    .dataframe tbody tr th:only-of-type {\n        vertical-align: middle;\n    }\n\n    .dataframe tbody tr th {\n        vertical-align: top;\n    }\n\n    .dataframe thead th {\n        text-align: right;\n    }\n</style>\n<table border=\"1\" class=\"dataframe\">\n  <thead>\n    <tr style=\"text-align: right;\">\n      <th></th>\n      <th>data1</th>\n      <th>data2</th>\n    </tr>\n    <tr>\n      <th>key1</th>\n      <th></th>\n      <th></th>\n    </tr>\n  </thead>\n  <tbody>\n    <tr>\n      <th>a</th>\n      <td>1.980781</td>\n      <td>3.020808</td>\n    </tr>\n    <tr>\n      <th>b</th>\n      <td>0.171405</td>\n      <td>1.600753</td>\n    </tr>\n  </tbody>\n</table>\n</div>"
     },
     "metadata": {},
     "execution_count": 32
    }
   ],
   "source": [
    "def peak_to_peak(arr):\n",
    "    return arr.max() - arr.min()\n",
    "    \n",
    "df.groupby('key1').agg(peak_to_peak)"
   ]
  },
  {
   "cell_type": "code",
   "execution_count": 35,
   "metadata": {},
   "outputs": [
    {
     "output_type": "execute_result",
     "data": {
      "text/plain": [
       "     data1                      ...     data2                    \n",
       "     count      mean       std  ...       50%       75%       max\n",
       "key1                            ...                              \n",
       "a      3.0 -0.012554  0.992164  ...  0.260148  0.924228  1.588308\n",
       "b      2.0 -0.259696  0.121202  ...  0.152595  0.552784  0.952972\n",
       "\n",
       "[2 rows x 16 columns]"
      ],
      "text/html": "<div>\n<style scoped>\n    .dataframe tbody tr th:only-of-type {\n        vertical-align: middle;\n    }\n\n    .dataframe tbody tr th {\n        vertical-align: top;\n    }\n\n    .dataframe thead tr th {\n        text-align: left;\n    }\n\n    .dataframe thead tr:last-of-type th {\n        text-align: right;\n    }\n</style>\n<table border=\"1\" class=\"dataframe\">\n  <thead>\n    <tr>\n      <th></th>\n      <th colspan=\"8\" halign=\"left\">data1</th>\n      <th colspan=\"8\" halign=\"left\">data2</th>\n    </tr>\n    <tr>\n      <th></th>\n      <th>count</th>\n      <th>mean</th>\n      <th>std</th>\n      <th>min</th>\n      <th>25%</th>\n      <th>50%</th>\n      <th>75%</th>\n      <th>max</th>\n      <th>count</th>\n      <th>mean</th>\n      <th>std</th>\n      <th>min</th>\n      <th>25%</th>\n      <th>50%</th>\n      <th>75%</th>\n      <th>max</th>\n    </tr>\n    <tr>\n      <th>key1</th>\n      <th></th>\n      <th></th>\n      <th></th>\n      <th></th>\n      <th></th>\n      <th></th>\n      <th></th>\n      <th></th>\n      <th></th>\n      <th></th>\n      <th></th>\n      <th></th>\n      <th></th>\n      <th></th>\n      <th></th>\n      <th></th>\n    </tr>\n  </thead>\n  <tbody>\n    <tr>\n      <th>a</th>\n      <td>3.0</td>\n      <td>-0.012554</td>\n      <td>0.992164</td>\n      <td>-1.037185</td>\n      <td>-0.490628</td>\n      <td>0.055929</td>\n      <td>0.499762</td>\n      <td>0.943596</td>\n      <td>3.0</td>\n      <td>0.138652</td>\n      <td>1.514064</td>\n      <td>-1.432500</td>\n      <td>-0.586176</td>\n      <td>0.260148</td>\n      <td>0.924228</td>\n      <td>1.588308</td>\n    </tr>\n    <tr>\n      <th>b</th>\n      <td>2.0</td>\n      <td>-0.259696</td>\n      <td>0.121202</td>\n      <td>-0.345399</td>\n      <td>-0.302548</td>\n      <td>-0.259696</td>\n      <td>-0.216845</td>\n      <td>-0.173994</td>\n      <td>2.0</td>\n      <td>0.152595</td>\n      <td>1.131904</td>\n      <td>-0.647781</td>\n      <td>-0.247593</td>\n      <td>0.152595</td>\n      <td>0.552784</td>\n      <td>0.952972</td>\n    </tr>\n  </tbody>\n</table>\n</div>"
     },
     "metadata": {},
     "execution_count": 35
    }
   ],
   "source": [
    "df.groupby('key1').describe()"
   ]
  },
  {
   "cell_type": "code",
   "execution_count": 38,
   "metadata": {},
   "outputs": [
    {
     "output_type": "execute_result",
     "data": {
      "text/plain": [
       "key1\n",
       "a    3.0\n",
       "b    2.0\n",
       "Name: count, dtype: float64"
      ]
     },
     "metadata": {},
     "execution_count": 38
    }
   ],
   "source": [
    "grouped_summary = df.groupby('key1').describe()\n",
    "grouped_summary['data1']['count']"
   ]
  },
  {
   "cell_type": "code",
   "execution_count": 41,
   "metadata": {},
   "outputs": [
    {
     "output_type": "stream",
     "name": "stdout",
     "text": [
      "Index(['total_bill', 'tip', 'smoker', 'day', 'time', 'size'], dtype='object')\n"
     ]
    }
   ],
   "source": [
    "tips = pd.read_csv('tips.csv', header=0)\n",
    "print(tips.columns)"
   ]
  },
  {
   "cell_type": "code",
   "execution_count": 47,
   "metadata": {},
   "outputs": [
    {
     "output_type": "stream",
     "name": "stdout",
     "text": [
      "day   smoker\nFri   No        2.812500\n      Yes       2.714000\nSat   No        3.102889\n      Yes       2.875476\nSun   No        3.167895\n      Yes       3.516842\nThur  No        2.673778\n      Yes       3.030000\nName: tip, dtype: float64\nday   smoker\nFri   No        2.00\n      Yes       3.73\nSat   No        8.00\n      Yes       9.00\nSun   No        4.99\n      Yes       5.00\nThur  No        5.45\n      Yes       3.00\nName: tip, dtype: float64\n"
     ]
    }
   ],
   "source": [
    "grouped = tips.groupby(['day', 'smoker'])\n",
    "grouped_pct = grouped['tip']\n",
    "print(grouped_pct.agg('mean'))\n",
    "print(grouped_pct.agg(peak_to_peak))"
   ]
  },
  {
   "cell_type": "code",
   "execution_count": 48,
   "metadata": {},
   "outputs": [
    {
     "output_type": "execute_result",
     "data": {
      "text/plain": [
       "                 mean  peak_to_peak\n",
       "day  smoker                        \n",
       "Fri  No      2.812500          2.00\n",
       "     Yes     2.714000          3.73\n",
       "Sat  No      3.102889          8.00\n",
       "     Yes     2.875476          9.00\n",
       "Sun  No      3.167895          4.99\n",
       "     Yes     3.516842          5.00\n",
       "Thur No      2.673778          5.45\n",
       "     Yes     3.030000          3.00"
      ],
      "text/html": "<div>\n<style scoped>\n    .dataframe tbody tr th:only-of-type {\n        vertical-align: middle;\n    }\n\n    .dataframe tbody tr th {\n        vertical-align: top;\n    }\n\n    .dataframe thead th {\n        text-align: right;\n    }\n</style>\n<table border=\"1\" class=\"dataframe\">\n  <thead>\n    <tr style=\"text-align: right;\">\n      <th></th>\n      <th></th>\n      <th>mean</th>\n      <th>peak_to_peak</th>\n    </tr>\n    <tr>\n      <th>day</th>\n      <th>smoker</th>\n      <th></th>\n      <th></th>\n    </tr>\n  </thead>\n  <tbody>\n    <tr>\n      <th rowspan=\"2\" valign=\"top\">Fri</th>\n      <th>No</th>\n      <td>2.812500</td>\n      <td>2.00</td>\n    </tr>\n    <tr>\n      <th>Yes</th>\n      <td>2.714000</td>\n      <td>3.73</td>\n    </tr>\n    <tr>\n      <th rowspan=\"2\" valign=\"top\">Sat</th>\n      <th>No</th>\n      <td>3.102889</td>\n      <td>8.00</td>\n    </tr>\n    <tr>\n      <th>Yes</th>\n      <td>2.875476</td>\n      <td>9.00</td>\n    </tr>\n    <tr>\n      <th rowspan=\"2\" valign=\"top\">Sun</th>\n      <th>No</th>\n      <td>3.167895</td>\n      <td>4.99</td>\n    </tr>\n    <tr>\n      <th>Yes</th>\n      <td>3.516842</td>\n      <td>5.00</td>\n    </tr>\n    <tr>\n      <th rowspan=\"2\" valign=\"top\">Thur</th>\n      <th>No</th>\n      <td>2.673778</td>\n      <td>5.45</td>\n    </tr>\n    <tr>\n      <th>Yes</th>\n      <td>3.030000</td>\n      <td>3.00</td>\n    </tr>\n  </tbody>\n</table>\n</div>"
     },
     "metadata": {},
     "execution_count": 48
    }
   ],
   "source": [
    "grouped_pct.agg(['mean', peak_to_peak])"
   ]
  },
  {
   "cell_type": "code",
   "execution_count": 52,
   "metadata": {},
   "outputs": [
    {
     "output_type": "execute_result",
     "data": {
      "text/plain": [
       "                  foo       bar\n",
       "day  smoker                    \n",
       "Fri  No      2.812500  0.898494\n",
       "     Yes     2.714000  1.077668\n",
       "Sat  No      3.102889  1.642088\n",
       "     Yes     2.875476  1.630580\n",
       "Sun  No      3.167895  1.224785\n",
       "     Yes     3.516842  1.261151\n",
       "Thur No      2.673778  1.282964\n",
       "     Yes     3.030000  1.113491"
      ],
      "text/html": "<div>\n<style scoped>\n    .dataframe tbody tr th:only-of-type {\n        vertical-align: middle;\n    }\n\n    .dataframe tbody tr th {\n        vertical-align: top;\n    }\n\n    .dataframe thead th {\n        text-align: right;\n    }\n</style>\n<table border=\"1\" class=\"dataframe\">\n  <thead>\n    <tr style=\"text-align: right;\">\n      <th></th>\n      <th></th>\n      <th>foo</th>\n      <th>bar</th>\n    </tr>\n    <tr>\n      <th>day</th>\n      <th>smoker</th>\n      <th></th>\n      <th></th>\n    </tr>\n  </thead>\n  <tbody>\n    <tr>\n      <th rowspan=\"2\" valign=\"top\">Fri</th>\n      <th>No</th>\n      <td>2.812500</td>\n      <td>0.898494</td>\n    </tr>\n    <tr>\n      <th>Yes</th>\n      <td>2.714000</td>\n      <td>1.077668</td>\n    </tr>\n    <tr>\n      <th rowspan=\"2\" valign=\"top\">Sat</th>\n      <th>No</th>\n      <td>3.102889</td>\n      <td>1.642088</td>\n    </tr>\n    <tr>\n      <th>Yes</th>\n      <td>2.875476</td>\n      <td>1.630580</td>\n    </tr>\n    <tr>\n      <th rowspan=\"2\" valign=\"top\">Sun</th>\n      <th>No</th>\n      <td>3.167895</td>\n      <td>1.224785</td>\n    </tr>\n    <tr>\n      <th>Yes</th>\n      <td>3.516842</td>\n      <td>1.261151</td>\n    </tr>\n    <tr>\n      <th rowspan=\"2\" valign=\"top\">Thur</th>\n      <th>No</th>\n      <td>2.673778</td>\n      <td>1.282964</td>\n    </tr>\n    <tr>\n      <th>Yes</th>\n      <td>3.030000</td>\n      <td>1.113491</td>\n    </tr>\n  </tbody>\n</table>\n</div>"
     },
     "metadata": {},
     "execution_count": 52
    }
   ],
   "source": [
    "grouped_pct.agg([('foo', np.mean), ('bar', np.std)])"
   ]
  },
  {
   "cell_type": "code",
   "execution_count": 51,
   "metadata": {},
   "outputs": [
    {
     "output_type": "execute_result",
     "data": {
      "text/plain": [
       "2.5"
      ]
     },
     "metadata": {},
     "execution_count": 51
    }
   ],
   "source": [
    "np.mean([1, 2, 3, 4])"
   ]
  },
  {
   "cell_type": "code",
   "execution_count": 53,
   "metadata": {},
   "outputs": [
    {
     "output_type": "execute_result",
     "data": {
      "text/plain": [
       "               tip  size\n",
       "day  smoker             \n",
       "Fri  No       3.50     9\n",
       "     Yes      4.73    31\n",
       "Sat  No       9.00   115\n",
       "     Yes     10.00   104\n",
       "Sun  No       6.00   167\n",
       "     Yes      6.50    49\n",
       "Thur No       6.70   112\n",
       "     Yes      5.00    40"
      ],
      "text/html": "<div>\n<style scoped>\n    .dataframe tbody tr th:only-of-type {\n        vertical-align: middle;\n    }\n\n    .dataframe tbody tr th {\n        vertical-align: top;\n    }\n\n    .dataframe thead th {\n        text-align: right;\n    }\n</style>\n<table border=\"1\" class=\"dataframe\">\n  <thead>\n    <tr style=\"text-align: right;\">\n      <th></th>\n      <th></th>\n      <th>tip</th>\n      <th>size</th>\n    </tr>\n    <tr>\n      <th>day</th>\n      <th>smoker</th>\n      <th></th>\n      <th></th>\n    </tr>\n  </thead>\n  <tbody>\n    <tr>\n      <th rowspan=\"2\" valign=\"top\">Fri</th>\n      <th>No</th>\n      <td>3.50</td>\n      <td>9</td>\n    </tr>\n    <tr>\n      <th>Yes</th>\n      <td>4.73</td>\n      <td>31</td>\n    </tr>\n    <tr>\n      <th rowspan=\"2\" valign=\"top\">Sat</th>\n      <th>No</th>\n      <td>9.00</td>\n      <td>115</td>\n    </tr>\n    <tr>\n      <th>Yes</th>\n      <td>10.00</td>\n      <td>104</td>\n    </tr>\n    <tr>\n      <th rowspan=\"2\" valign=\"top\">Sun</th>\n      <th>No</th>\n      <td>6.00</td>\n      <td>167</td>\n    </tr>\n    <tr>\n      <th>Yes</th>\n      <td>6.50</td>\n      <td>49</td>\n    </tr>\n    <tr>\n      <th rowspan=\"2\" valign=\"top\">Thur</th>\n      <th>No</th>\n      <td>6.70</td>\n      <td>112</td>\n    </tr>\n    <tr>\n      <th>Yes</th>\n      <td>5.00</td>\n      <td>40</td>\n    </tr>\n  </tbody>\n</table>\n</div>"
     },
     "metadata": {},
     "execution_count": 53
    }
   ],
   "source": [
    "grouped.agg({'tip' : np.max, 'size' : 'sum'})"
   ]
  },
  {
   "cell_type": "code",
   "execution_count": 55,
   "metadata": {},
   "outputs": [
    {
     "output_type": "execute_result",
     "data": {
      "text/plain": [
       "              tip                            size\n",
       "              min    max      mean       std  sum\n",
       "day  smoker                                      \n",
       "Fri  No      1.50   3.50  2.812500  0.898494    9\n",
       "     Yes     1.00   4.73  2.714000  1.077668   31\n",
       "Sat  No      1.00   9.00  3.102889  1.642088  115\n",
       "     Yes     1.00  10.00  2.875476  1.630580  104\n",
       "Sun  No      1.01   6.00  3.167895  1.224785  167\n",
       "     Yes     1.50   6.50  3.516842  1.261151   49\n",
       "Thur No      1.25   6.70  2.673778  1.282964  112\n",
       "     Yes     2.00   5.00  3.030000  1.113491   40"
      ],
      "text/html": "<div>\n<style scoped>\n    .dataframe tbody tr th:only-of-type {\n        vertical-align: middle;\n    }\n\n    .dataframe tbody tr th {\n        vertical-align: top;\n    }\n\n    .dataframe thead tr th {\n        text-align: left;\n    }\n\n    .dataframe thead tr:last-of-type th {\n        text-align: right;\n    }\n</style>\n<table border=\"1\" class=\"dataframe\">\n  <thead>\n    <tr>\n      <th></th>\n      <th></th>\n      <th colspan=\"4\" halign=\"left\">tip</th>\n      <th>size</th>\n    </tr>\n    <tr>\n      <th></th>\n      <th></th>\n      <th>min</th>\n      <th>max</th>\n      <th>mean</th>\n      <th>std</th>\n      <th>sum</th>\n    </tr>\n    <tr>\n      <th>day</th>\n      <th>smoker</th>\n      <th></th>\n      <th></th>\n      <th></th>\n      <th></th>\n      <th></th>\n    </tr>\n  </thead>\n  <tbody>\n    <tr>\n      <th rowspan=\"2\" valign=\"top\">Fri</th>\n      <th>No</th>\n      <td>1.50</td>\n      <td>3.50</td>\n      <td>2.812500</td>\n      <td>0.898494</td>\n      <td>9</td>\n    </tr>\n    <tr>\n      <th>Yes</th>\n      <td>1.00</td>\n      <td>4.73</td>\n      <td>2.714000</td>\n      <td>1.077668</td>\n      <td>31</td>\n    </tr>\n    <tr>\n      <th rowspan=\"2\" valign=\"top\">Sat</th>\n      <th>No</th>\n      <td>1.00</td>\n      <td>9.00</td>\n      <td>3.102889</td>\n      <td>1.642088</td>\n      <td>115</td>\n    </tr>\n    <tr>\n      <th>Yes</th>\n      <td>1.00</td>\n      <td>10.00</td>\n      <td>2.875476</td>\n      <td>1.630580</td>\n      <td>104</td>\n    </tr>\n    <tr>\n      <th rowspan=\"2\" valign=\"top\">Sun</th>\n      <th>No</th>\n      <td>1.01</td>\n      <td>6.00</td>\n      <td>3.167895</td>\n      <td>1.224785</td>\n      <td>167</td>\n    </tr>\n    <tr>\n      <th>Yes</th>\n      <td>1.50</td>\n      <td>6.50</td>\n      <td>3.516842</td>\n      <td>1.261151</td>\n      <td>49</td>\n    </tr>\n    <tr>\n      <th rowspan=\"2\" valign=\"top\">Thur</th>\n      <th>No</th>\n      <td>1.25</td>\n      <td>6.70</td>\n      <td>2.673778</td>\n      <td>1.282964</td>\n      <td>112</td>\n    </tr>\n    <tr>\n      <th>Yes</th>\n      <td>2.00</td>\n      <td>5.00</td>\n      <td>3.030000</td>\n      <td>1.113491</td>\n      <td>40</td>\n    </tr>\n  </tbody>\n</table>\n</div>"
     },
     "metadata": {},
     "execution_count": 55
    }
   ],
   "source": [
    "grouped.agg({'tip' : ['min', 'max', 'mean', 'std'], 'size' : 'sum'})"
   ]
  },
  {
   "cell_type": "code",
   "execution_count": 56,
   "metadata": {},
   "outputs": [
    {
     "output_type": "execute_result",
     "data": {
      "text/plain": [
       "             total_bill       tip      size\n",
       "day  smoker                                \n",
       "Fri  No       18.420000  2.812500  2.250000\n",
       "     Yes      16.813333  2.714000  2.066667\n",
       "Sat  No       19.661778  3.102889  2.555556\n",
       "     Yes      21.276667  2.875476  2.476190\n",
       "Sun  No       20.506667  3.167895  2.929825\n",
       "     Yes      24.120000  3.516842  2.578947\n",
       "Thur No       17.113111  2.673778  2.488889\n",
       "     Yes      19.190588  3.030000  2.352941"
      ],
      "text/html": "<div>\n<style scoped>\n    .dataframe tbody tr th:only-of-type {\n        vertical-align: middle;\n    }\n\n    .dataframe tbody tr th {\n        vertical-align: top;\n    }\n\n    .dataframe thead th {\n        text-align: right;\n    }\n</style>\n<table border=\"1\" class=\"dataframe\">\n  <thead>\n    <tr style=\"text-align: right;\">\n      <th></th>\n      <th></th>\n      <th>total_bill</th>\n      <th>tip</th>\n      <th>size</th>\n    </tr>\n    <tr>\n      <th>day</th>\n      <th>smoker</th>\n      <th></th>\n      <th></th>\n      <th></th>\n    </tr>\n  </thead>\n  <tbody>\n    <tr>\n      <th rowspan=\"2\" valign=\"top\">Fri</th>\n      <th>No</th>\n      <td>18.420000</td>\n      <td>2.812500</td>\n      <td>2.250000</td>\n    </tr>\n    <tr>\n      <th>Yes</th>\n      <td>16.813333</td>\n      <td>2.714000</td>\n      <td>2.066667</td>\n    </tr>\n    <tr>\n      <th rowspan=\"2\" valign=\"top\">Sat</th>\n      <th>No</th>\n      <td>19.661778</td>\n      <td>3.102889</td>\n      <td>2.555556</td>\n    </tr>\n    <tr>\n      <th>Yes</th>\n      <td>21.276667</td>\n      <td>2.875476</td>\n      <td>2.476190</td>\n    </tr>\n    <tr>\n      <th rowspan=\"2\" valign=\"top\">Sun</th>\n      <th>No</th>\n      <td>20.506667</td>\n      <td>3.167895</td>\n      <td>2.929825</td>\n    </tr>\n    <tr>\n      <th>Yes</th>\n      <td>24.120000</td>\n      <td>3.516842</td>\n      <td>2.578947</td>\n    </tr>\n    <tr>\n      <th rowspan=\"2\" valign=\"top\">Thur</th>\n      <th>No</th>\n      <td>17.113111</td>\n      <td>2.673778</td>\n      <td>2.488889</td>\n    </tr>\n    <tr>\n      <th>Yes</th>\n      <td>19.190588</td>\n      <td>3.030000</td>\n      <td>2.352941</td>\n    </tr>\n  </tbody>\n</table>\n</div>"
     },
     "metadata": {},
     "execution_count": 56
    }
   ],
   "source": [
    "tips.groupby(['day', 'smoker'], as_index=True).mean()"
   ]
  },
  {
   "cell_type": "code",
   "execution_count": 58,
   "metadata": {},
   "outputs": [
    {
     "output_type": "execute_result",
     "data": {
      "text/plain": [
       "    day smoker  total_bill       tip      size\n",
       "0   Fri     No   18.420000  2.812500  2.250000\n",
       "1   Fri    Yes   16.813333  2.714000  2.066667\n",
       "2   Sat     No   19.661778  3.102889  2.555556\n",
       "3   Sat    Yes   21.276667  2.875476  2.476190\n",
       "4   Sun     No   20.506667  3.167895  2.929825\n",
       "5   Sun    Yes   24.120000  3.516842  2.578947\n",
       "6  Thur     No   17.113111  2.673778  2.488889\n",
       "7  Thur    Yes   19.190588  3.030000  2.352941"
      ],
      "text/html": "<div>\n<style scoped>\n    .dataframe tbody tr th:only-of-type {\n        vertical-align: middle;\n    }\n\n    .dataframe tbody tr th {\n        vertical-align: top;\n    }\n\n    .dataframe thead th {\n        text-align: right;\n    }\n</style>\n<table border=\"1\" class=\"dataframe\">\n  <thead>\n    <tr style=\"text-align: right;\">\n      <th></th>\n      <th>day</th>\n      <th>smoker</th>\n      <th>total_bill</th>\n      <th>tip</th>\n      <th>size</th>\n    </tr>\n  </thead>\n  <tbody>\n    <tr>\n      <th>0</th>\n      <td>Fri</td>\n      <td>No</td>\n      <td>18.420000</td>\n      <td>2.812500</td>\n      <td>2.250000</td>\n    </tr>\n    <tr>\n      <th>1</th>\n      <td>Fri</td>\n      <td>Yes</td>\n      <td>16.813333</td>\n      <td>2.714000</td>\n      <td>2.066667</td>\n    </tr>\n    <tr>\n      <th>2</th>\n      <td>Sat</td>\n      <td>No</td>\n      <td>19.661778</td>\n      <td>3.102889</td>\n      <td>2.555556</td>\n    </tr>\n    <tr>\n      <th>3</th>\n      <td>Sat</td>\n      <td>Yes</td>\n      <td>21.276667</td>\n      <td>2.875476</td>\n      <td>2.476190</td>\n    </tr>\n    <tr>\n      <th>4</th>\n      <td>Sun</td>\n      <td>No</td>\n      <td>20.506667</td>\n      <td>3.167895</td>\n      <td>2.929825</td>\n    </tr>\n    <tr>\n      <th>5</th>\n      <td>Sun</td>\n      <td>Yes</td>\n      <td>24.120000</td>\n      <td>3.516842</td>\n      <td>2.578947</td>\n    </tr>\n    <tr>\n      <th>6</th>\n      <td>Thur</td>\n      <td>No</td>\n      <td>17.113111</td>\n      <td>2.673778</td>\n      <td>2.488889</td>\n    </tr>\n    <tr>\n      <th>7</th>\n      <td>Thur</td>\n      <td>Yes</td>\n      <td>19.190588</td>\n      <td>3.030000</td>\n      <td>2.352941</td>\n    </tr>\n  </tbody>\n</table>\n</div>"
     },
     "metadata": {},
     "execution_count": 58
    }
   ],
   "source": [
    "tips.groupby(['day', 'smoker'], as_index=False).mean()"
   ]
  },
  {
   "cell_type": "code",
   "execution_count": 60,
   "metadata": {},
   "outputs": [
    {
     "output_type": "stream",
     "name": "stdout",
     "text": [
      "         data1     data2\nkey1                    \na    -0.012554  0.138652\nb    -0.259696  0.152595\n"
     ]
    }
   ],
   "source": [
    "k1_means = df.groupby('key1').mean()\n",
    "print(k1_means)"
   ]
  },
  {
   "cell_type": "code",
   "execution_count": 61,
   "metadata": {},
   "outputs": [
    {
     "output_type": "execute_result",
     "data": {
      "text/plain": [
       "      mean_data1  mean_data2\n",
       "key1                        \n",
       "a      -0.012554    0.138652\n",
       "b      -0.259696    0.152595"
      ],
      "text/html": "<div>\n<style scoped>\n    .dataframe tbody tr th:only-of-type {\n        vertical-align: middle;\n    }\n\n    .dataframe tbody tr th {\n        vertical-align: top;\n    }\n\n    .dataframe thead th {\n        text-align: right;\n    }\n</style>\n<table border=\"1\" class=\"dataframe\">\n  <thead>\n    <tr style=\"text-align: right;\">\n      <th></th>\n      <th>mean_data1</th>\n      <th>mean_data2</th>\n    </tr>\n    <tr>\n      <th>key1</th>\n      <th></th>\n      <th></th>\n    </tr>\n  </thead>\n  <tbody>\n    <tr>\n      <th>a</th>\n      <td>-0.012554</td>\n      <td>0.138652</td>\n    </tr>\n    <tr>\n      <th>b</th>\n      <td>-0.259696</td>\n      <td>0.152595</td>\n    </tr>\n  </tbody>\n</table>\n</div>"
     },
     "metadata": {},
     "execution_count": 61
    }
   ],
   "source": [
    "k1_means.add_prefix('mean_')"
   ]
  },
  {
   "cell_type": "code",
   "execution_count": 64,
   "metadata": {},
   "outputs": [
    {
     "output_type": "execute_result",
     "data": {
      "text/plain": [
       "               a         b         c         d         e\n",
       "Joe     0.307943  0.238251 -0.381687 -0.451133 -0.387990\n",
       "Steve  -0.539836  0.377621  0.019864 -1.196687  0.304795\n",
       "Wes     0.307943  0.238251 -0.381687 -0.451133 -0.387990\n",
       "Jim    -0.539836  0.377621  0.019864 -1.196687  0.304795\n",
       "Travis  0.307943  0.238251 -0.381687 -0.451133 -0.387990"
      ],
      "text/html": "<div>\n<style scoped>\n    .dataframe tbody tr th:only-of-type {\n        vertical-align: middle;\n    }\n\n    .dataframe tbody tr th {\n        vertical-align: top;\n    }\n\n    .dataframe thead th {\n        text-align: right;\n    }\n</style>\n<table border=\"1\" class=\"dataframe\">\n  <thead>\n    <tr style=\"text-align: right;\">\n      <th></th>\n      <th>a</th>\n      <th>b</th>\n      <th>c</th>\n      <th>d</th>\n      <th>e</th>\n    </tr>\n  </thead>\n  <tbody>\n    <tr>\n      <th>Joe</th>\n      <td>0.307943</td>\n      <td>0.238251</td>\n      <td>-0.381687</td>\n      <td>-0.451133</td>\n      <td>-0.387990</td>\n    </tr>\n    <tr>\n      <th>Steve</th>\n      <td>-0.539836</td>\n      <td>0.377621</td>\n      <td>0.019864</td>\n      <td>-1.196687</td>\n      <td>0.304795</td>\n    </tr>\n    <tr>\n      <th>Wes</th>\n      <td>0.307943</td>\n      <td>0.238251</td>\n      <td>-0.381687</td>\n      <td>-0.451133</td>\n      <td>-0.387990</td>\n    </tr>\n    <tr>\n      <th>Jim</th>\n      <td>-0.539836</td>\n      <td>0.377621</td>\n      <td>0.019864</td>\n      <td>-1.196687</td>\n      <td>0.304795</td>\n    </tr>\n    <tr>\n      <th>Travis</th>\n      <td>0.307943</td>\n      <td>0.238251</td>\n      <td>-0.381687</td>\n      <td>-0.451133</td>\n      <td>-0.387990</td>\n    </tr>\n  </tbody>\n</table>\n</div>"
     },
     "metadata": {},
     "execution_count": 64
    }
   ],
   "source": [
    "people.groupby(['one', 'two', 'one', 'two', 'one']).transform(np.mean)"
   ]
  },
  {
   "cell_type": "code",
   "execution_count": 67,
   "metadata": {},
   "outputs": [
    {
     "output_type": "stream",
     "name": "stdout",
     "text": [
      "               a         b         c         d         e\nJoe    -0.746055  0.140520  2.523382 -0.217042  0.618128\nSteve  -0.023632 -0.464872  0.145806  0.690477 -0.571028\nWes     1.384660 -0.061746 -0.938561  0.242473 -0.336957\nJim     0.023632  0.464872 -0.145806 -0.690477  0.571028\nTravis -0.638604 -0.078775 -1.584821 -0.025431 -0.281170\n"
     ]
    }
   ],
   "source": [
    "def demean(arr):\n",
    "    return arr - arr.mean()\n",
    "\n",
    "demeaned = people.groupby(['one', 'two', 'one', 'two', 'one']).transform(demean)\n",
    "print(demeaned)"
   ]
  },
  {
   "cell_type": "code",
   "execution_count": 69,
   "metadata": {},
   "outputs": [
    {
     "output_type": "execute_result",
     "data": {
      "text/plain": [
       "                       min       max  count      mean\n",
       "data1                                                \n",
       "(-3.491, -1.723] -1.919176  1.318596   32.0 -0.342536\n",
       "(-1.723, 0.0373] -2.758056  2.915914  458.0  0.073108\n",
       "(0.0373, 1.798]  -2.928448  3.168730  474.0  0.009590\n",
       "(1.798, 3.559]   -1.485034  1.647399   36.0  0.124687"
      ],
      "text/html": "<div>\n<style scoped>\n    .dataframe tbody tr th:only-of-type {\n        vertical-align: middle;\n    }\n\n    .dataframe tbody tr th {\n        vertical-align: top;\n    }\n\n    .dataframe thead th {\n        text-align: right;\n    }\n</style>\n<table border=\"1\" class=\"dataframe\">\n  <thead>\n    <tr style=\"text-align: right;\">\n      <th></th>\n      <th>min</th>\n      <th>max</th>\n      <th>count</th>\n      <th>mean</th>\n    </tr>\n    <tr>\n      <th>data1</th>\n      <th></th>\n      <th></th>\n      <th></th>\n      <th></th>\n    </tr>\n  </thead>\n  <tbody>\n    <tr>\n      <th>(-3.491, -1.723]</th>\n      <td>-1.919176</td>\n      <td>1.318596</td>\n      <td>32.0</td>\n      <td>-0.342536</td>\n    </tr>\n    <tr>\n      <th>(-1.723, 0.0373]</th>\n      <td>-2.758056</td>\n      <td>2.915914</td>\n      <td>458.0</td>\n      <td>0.073108</td>\n    </tr>\n    <tr>\n      <th>(0.0373, 1.798]</th>\n      <td>-2.928448</td>\n      <td>3.168730</td>\n      <td>474.0</td>\n      <td>0.009590</td>\n    </tr>\n    <tr>\n      <th>(1.798, 3.559]</th>\n      <td>-1.485034</td>\n      <td>1.647399</td>\n      <td>36.0</td>\n      <td>0.124687</td>\n    </tr>\n  </tbody>\n</table>\n</div>"
     },
     "metadata": {},
     "execution_count": 69
    }
   ],
   "source": [
    "frame = DataFrame({'data1' : np.random.randn(1000),\n",
    "                   'data2' : np.random.randn(1000)})\n",
    "\n",
    "factor = pd.cut(frame.data1, 4)\n",
    "\n",
    "def get_stats(group):\n",
    "    return {'min' : group.min(), 'max' : group.max(), 'count' : group.count(), 'mean' : group.mean()}\n",
    "\n",
    "grouped = frame.data2.groupby(factor)\n",
    "\n",
    "grouped.apply(get_stats).unstack()"
   ]
  },
  {
   "cell_type": "code",
   "execution_count": null,
   "metadata": {},
   "outputs": [],
   "source": []
  }
 ]
}