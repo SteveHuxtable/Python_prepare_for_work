{
 "metadata": {
  "language_info": {
   "codemirror_mode": {
    "name": "ipython",
    "version": 3
   },
   "file_extension": ".py",
   "mimetype": "text/x-python",
   "name": "python",
   "nbconvert_exporter": "python",
   "pygments_lexer": "ipython3",
   "version": "3.7.7-final"
  },
  "orig_nbformat": 2,
  "kernelspec": {
   "name": "python37464bitvirtualenvvenv46d53a87f13544bab29fe8a424524dc4",
   "display_name": "Python 3.7.4 64-bit ('virtualEnv': venv)",
   "language": "python"
  }
 },
 "nbformat": 4,
 "nbformat_minor": 2,
 "cells": [
  {
   "source": [
    "# chapter 9 : 数据聚合与分组计算"
   ],
   "cell_type": "markdown",
   "metadata": {}
  },
  {
   "cell_type": "code",
   "execution_count": 1,
   "metadata": {},
   "outputs": [],
   "source": [
    "import numpy as np\n",
    "import pandas as pd\n",
    "from pandas import Series, DataFrame\n",
    "import matplotlib.pyplot as plt"
   ]
  },
  {
   "cell_type": "code",
   "execution_count": 2,
   "metadata": {},
   "outputs": [],
   "source": [
    "df = DataFrame({'key1' : ['a', 'a', 'b', 'b', 'a'],\n",
    "                'key2' : ['one', 'two', 'one', 'two', 'one'],\n",
    "                'data1' : np.random.randn(5),\n",
    "                'data2' : np.random.randn(5)})"
   ]
  },
  {
   "cell_type": "code",
   "execution_count": 3,
   "metadata": {},
   "outputs": [
    {
     "output_type": "stream",
     "name": "stdout",
     "text": [
      "         data1     data2\nkey1                    \na    -0.054371  0.759994\nb     0.597138  0.747285\nkey2\none    0.136585\ntwo    0.301165\nName: data1, dtype: float64\n"
     ]
    }
   ],
   "source": [
    "grouped = df.groupby(df['key1'])\n",
    "print(grouped.mean())\n",
    "\n",
    "grouped2 = df['data1'].groupby(df['key2'])\n",
    "print(grouped2.median())"
   ]
  },
  {
   "cell_type": "code",
   "execution_count": 4,
   "metadata": {},
   "outputs": [
    {
     "output_type": "execute_result",
     "data": {
      "text/plain": [
       "key1  key2\n",
       "a     one     0.146124\n",
       "      two    -0.455361\n",
       "b     one     0.136585\n",
       "      two     1.057691\n",
       "Name: data1, dtype: float64"
      ]
     },
     "metadata": {},
     "execution_count": 4
    }
   ],
   "source": [
    "df['data1'].groupby([df['key1'], df['key2']]).mean()"
   ]
  },
  {
   "cell_type": "code",
   "execution_count": 5,
   "metadata": {},
   "outputs": [
    {
     "output_type": "execute_result",
     "data": {
      "text/plain": [
       "         data1     data2\n",
       "key1                    \n",
       "a    -0.054371  0.759994\n",
       "b     0.597138  0.747285"
      ],
      "text/html": "<div>\n<style scoped>\n    .dataframe tbody tr th:only-of-type {\n        vertical-align: middle;\n    }\n\n    .dataframe tbody tr th {\n        vertical-align: top;\n    }\n\n    .dataframe thead th {\n        text-align: right;\n    }\n</style>\n<table border=\"1\" class=\"dataframe\">\n  <thead>\n    <tr style=\"text-align: right;\">\n      <th></th>\n      <th>data1</th>\n      <th>data2</th>\n    </tr>\n    <tr>\n      <th>key1</th>\n      <th></th>\n      <th></th>\n    </tr>\n  </thead>\n  <tbody>\n    <tr>\n      <th>a</th>\n      <td>-0.054371</td>\n      <td>0.759994</td>\n    </tr>\n    <tr>\n      <th>b</th>\n      <td>0.597138</td>\n      <td>0.747285</td>\n    </tr>\n  </tbody>\n</table>\n</div>"
     },
     "metadata": {},
     "execution_count": 5
    }
   ],
   "source": [
    "df.groupby('key1').mean() # so, there is no need for df['key1']"
   ]
  },
  {
   "cell_type": "code",
   "execution_count": 6,
   "metadata": {},
   "outputs": [
    {
     "output_type": "execute_result",
     "data": {
      "text/plain": [
       "key1  key2\n",
       "a     one     2\n",
       "      two     1\n",
       "b     one     1\n",
       "      two     1\n",
       "dtype: int64"
      ]
     },
     "metadata": {},
     "execution_count": 6
    }
   ],
   "source": [
    "df.groupby(['key1', 'key2']).size()"
   ]
  },
  {
   "cell_type": "code",
   "execution_count": 7,
   "metadata": {},
   "outputs": [
    {
     "output_type": "stream",
     "name": "stdout",
     "text": [
      "a\n  key1 key2     data1     data2\n0    a  one  0.119554  0.946296\n1    a  two -0.455361  1.434520\n4    a  one  0.172694 -0.100834\nb\n  key1 key2     data1     data2\n2    b  one  0.136585  0.088729\n3    b  two  1.057691  1.405842\n"
     ]
    }
   ],
   "source": [
    "for name, group in df.groupby('key1'):\n",
    "    print(name)\n",
    "    print(group)"
   ]
  },
  {
   "cell_type": "code",
   "execution_count": 8,
   "metadata": {},
   "outputs": [
    {
     "output_type": "stream",
     "name": "stdout",
     "text": [
      "a one\n  key1 key2     data1     data2\n0    a  one  0.119554  0.946296\n4    a  one  0.172694 -0.100834\na two\n  key1 key2     data1    data2\n1    a  two -0.455361  1.43452\nb one\n  key1 key2     data1     data2\n2    b  one  0.136585  0.088729\nb two\n  key1 key2     data1     data2\n3    b  two  1.057691  1.405842\n"
     ]
    }
   ],
   "source": [
    "for (k1, k2), group in df.groupby(['key1', 'key2']):\n",
    "    print(k1, k2)\n",
    "    print(group)"
   ]
  },
  {
   "cell_type": "code",
   "execution_count": 9,
   "metadata": {},
   "outputs": [
    {
     "output_type": "stream",
     "name": "stdout",
     "text": [
      "{'a':   key1 key2     data1     data2\n0    a  one  0.119554  0.946296\n1    a  two -0.455361  1.434520\n4    a  one  0.172694 -0.100834, 'b':   key1 key2     data1     data2\n2    b  one  0.136585  0.088729\n3    b  two  1.057691  1.405842}\n"
     ]
    }
   ],
   "source": [
    "pieces = dict(list(df.groupby('key1')))\n",
    "print(pieces)"
   ]
  },
  {
   "cell_type": "code",
   "execution_count": 10,
   "metadata": {},
   "outputs": [
    {
     "output_type": "execute_result",
     "data": {
      "text/plain": [
       "{dtype('float64'):       data1     data2\n",
       " 0  0.119554  0.946296\n",
       " 1 -0.455361  1.434520\n",
       " 2  0.136585  0.088729\n",
       " 3  1.057691  1.405842\n",
       " 4  0.172694 -0.100834, dtype('O'):   key1 key2\n",
       " 0    a  one\n",
       " 1    a  two\n",
       " 2    b  one\n",
       " 3    b  two\n",
       " 4    a  one}"
      ]
     },
     "metadata": {},
     "execution_count": 10
    }
   ],
   "source": [
    "grouped_col = df.groupby(df.dtypes, axis=1)\n",
    "dict(list(grouped_col))"
   ]
  },
  {
   "cell_type": "code",
   "execution_count": 11,
   "metadata": {},
   "outputs": [
    {
     "output_type": "stream",
     "name": "stdout",
     "text": [
      "key1\na   -0.054371\nb    0.597138\nName: data1, dtype: float64\n         data1\nkey1          \na    -0.054371\nb     0.597138\n\n\n<class 'pandas.core.series.Series'>\n<class 'pandas.core.frame.DataFrame'>\n"
     ]
    }
   ],
   "source": [
    "print(df['data1'].groupby(df['key1']).mean())\n",
    "print(df[['data1']].groupby(df['key1']).mean())\n",
    "print('\\n')\n",
    "print(type(df['data1']))\n",
    "print(type(df[['data1']]))"
   ]
  },
  {
   "cell_type": "code",
   "execution_count": 12,
   "metadata": {},
   "outputs": [],
   "source": [
    "people = DataFrame(np.random.randn(5, 5),\n",
    "                   columns=['a', 'b', 'c', 'd', 'e'],\n",
    "                   index=['Joe', 'Steve', 'Wes', 'Jim', 'Travis'])\n",
    "\n",
    "groupby_map = {'a' : 'red', 'b' : 'blue', 'c' : 'red', 'd' : 'red', 'e' : 'blue'}\n",
    "by_column = people.groupby(groupby_map, axis=1)"
   ]
  },
  {
   "cell_type": "code",
   "execution_count": 13,
   "metadata": {},
   "outputs": [
    {
     "output_type": "stream",
     "name": "stdout",
     "text": [
      "            blue       red\nJoe    -0.324997  0.314316\nSteve   0.322023  0.072462\nWes     0.294400 -0.027082\nJim    -0.053160 -0.308520\nTravis  0.876528 -0.234197\n        blue  red\nJoe        2    3\nSteve      2    3\nWes        2    3\nJim        2    3\nTravis     2    3\n"
     ]
    }
   ],
   "source": [
    "print(by_column.mean())\n",
    "print(by_column.count())"
   ]
  },
  {
   "cell_type": "code",
   "execution_count": 14,
   "metadata": {},
   "outputs": [
    {
     "output_type": "execute_result",
     "data": {
      "text/plain": [
       "          a         b         c         d         e\n",
       "3  0.634239  1.543097 -1.343155  0.645055 -1.710611\n",
       "5  0.130566  0.093370 -0.218043  0.304864  0.550676\n",
       "6 -0.533721  0.409010 -0.617939  0.449070  1.344046"
      ],
      "text/html": "<div>\n<style scoped>\n    .dataframe tbody tr th:only-of-type {\n        vertical-align: middle;\n    }\n\n    .dataframe tbody tr th {\n        vertical-align: top;\n    }\n\n    .dataframe thead th {\n        text-align: right;\n    }\n</style>\n<table border=\"1\" class=\"dataframe\">\n  <thead>\n    <tr style=\"text-align: right;\">\n      <th></th>\n      <th>a</th>\n      <th>b</th>\n      <th>c</th>\n      <th>d</th>\n      <th>e</th>\n    </tr>\n  </thead>\n  <tbody>\n    <tr>\n      <th>3</th>\n      <td>0.634239</td>\n      <td>1.543097</td>\n      <td>-1.343155</td>\n      <td>0.645055</td>\n      <td>-1.710611</td>\n    </tr>\n    <tr>\n      <th>5</th>\n      <td>0.130566</td>\n      <td>0.093370</td>\n      <td>-0.218043</td>\n      <td>0.304864</td>\n      <td>0.550676</td>\n    </tr>\n    <tr>\n      <th>6</th>\n      <td>-0.533721</td>\n      <td>0.409010</td>\n      <td>-0.617939</td>\n      <td>0.449070</td>\n      <td>1.344046</td>\n    </tr>\n  </tbody>\n</table>\n</div>"
     },
     "metadata": {},
     "execution_count": 14
    }
   ],
   "source": [
    "sl = ['sam', 'jack', 'luc', 'rat']\n",
    "len(sl[0])\n",
    "\n",
    "people.groupby(len).sum()"
   ]
  },
  {
   "cell_type": "code",
   "execution_count": 15,
   "metadata": {},
   "outputs": [
    {
     "output_type": "execute_result",
     "data": {
      "text/plain": [
       "              a         b         c         d         e\n",
       "3 one -0.881862  0.747811 -0.532137  0.286004 -1.397804\n",
       "  two  1.355265  0.025639 -1.307125 -0.973700 -0.131958\n",
       "5 one  0.130566  0.093370 -0.218043  0.304864  0.550676\n",
       "6 two -0.533721  0.409010 -0.617939  0.449070  1.344046"
      ],
      "text/html": "<div>\n<style scoped>\n    .dataframe tbody tr th:only-of-type {\n        vertical-align: middle;\n    }\n\n    .dataframe tbody tr th {\n        vertical-align: top;\n    }\n\n    .dataframe thead th {\n        text-align: right;\n    }\n</style>\n<table border=\"1\" class=\"dataframe\">\n  <thead>\n    <tr style=\"text-align: right;\">\n      <th></th>\n      <th></th>\n      <th>a</th>\n      <th>b</th>\n      <th>c</th>\n      <th>d</th>\n      <th>e</th>\n    </tr>\n  </thead>\n  <tbody>\n    <tr>\n      <th rowspan=\"2\" valign=\"top\">3</th>\n      <th>one</th>\n      <td>-0.881862</td>\n      <td>0.747811</td>\n      <td>-0.532137</td>\n      <td>0.286004</td>\n      <td>-1.397804</td>\n    </tr>\n    <tr>\n      <th>two</th>\n      <td>1.355265</td>\n      <td>0.025639</td>\n      <td>-1.307125</td>\n      <td>-0.973700</td>\n      <td>-0.131958</td>\n    </tr>\n    <tr>\n      <th>5</th>\n      <th>one</th>\n      <td>0.130566</td>\n      <td>0.093370</td>\n      <td>-0.218043</td>\n      <td>0.304864</td>\n      <td>0.550676</td>\n    </tr>\n    <tr>\n      <th>6</th>\n      <th>two</th>\n      <td>-0.533721</td>\n      <td>0.409010</td>\n      <td>-0.617939</td>\n      <td>0.449070</td>\n      <td>1.344046</td>\n    </tr>\n  </tbody>\n</table>\n</div>"
     },
     "metadata": {},
     "execution_count": 15
    }
   ],
   "source": [
    "key_list = ['one', 'one', 'one', 'two', 'two']\n",
    "people.groupby([len, key_list]).min()"
   ]
  },
  {
   "cell_type": "code",
   "execution_count": 16,
   "metadata": {},
   "outputs": [
    {
     "output_type": "execute_result",
     "data": {
      "text/plain": [
       "cty  JP  US\n",
       "0     2   3\n",
       "1     2   3\n",
       "2     2   3\n",
       "3     2   3"
      ],
      "text/html": "<div>\n<style scoped>\n    .dataframe tbody tr th:only-of-type {\n        vertical-align: middle;\n    }\n\n    .dataframe tbody tr th {\n        vertical-align: top;\n    }\n\n    .dataframe thead th {\n        text-align: right;\n    }\n</style>\n<table border=\"1\" class=\"dataframe\">\n  <thead>\n    <tr style=\"text-align: right;\">\n      <th>cty</th>\n      <th>JP</th>\n      <th>US</th>\n    </tr>\n  </thead>\n  <tbody>\n    <tr>\n      <th>0</th>\n      <td>2</td>\n      <td>3</td>\n    </tr>\n    <tr>\n      <th>1</th>\n      <td>2</td>\n      <td>3</td>\n    </tr>\n    <tr>\n      <th>2</th>\n      <td>2</td>\n      <td>3</td>\n    </tr>\n    <tr>\n      <th>3</th>\n      <td>2</td>\n      <td>3</td>\n    </tr>\n  </tbody>\n</table>\n</div>"
     },
     "metadata": {},
     "execution_count": 16
    }
   ],
   "source": [
    "columns = pd.MultiIndex.from_arrays([['US', 'US', 'US', 'JP', 'JP'],\n",
    "                                     [1, 3, 5, 1, 3]], names=['cty', 'tenor'])\n",
    "hier_df = DataFrame(np.random.randn(4, 5), columns=columns)\n",
    "\n",
    "hier_df.groupby(level='cty', axis=1).count()"
   ]
  },
  {
   "cell_type": "code",
   "execution_count": 17,
   "metadata": {},
   "outputs": [
    {
     "output_type": "execute_result",
     "data": {
      "text/plain": [
       "cty\n",
       "JP    2\n",
       "US    3\n",
       "dtype: int64"
      ]
     },
     "metadata": {},
     "execution_count": 17
    }
   ],
   "source": [
    "hier_df.groupby(level='cty', axis=1).size()"
   ]
  },
  {
   "cell_type": "code",
   "execution_count": 18,
   "metadata": {},
   "outputs": [
    {
     "output_type": "execute_result",
     "data": {
      "text/plain": [
       "         data1     data2\n",
       "key1                    \n",
       "a     0.628055  1.535354\n",
       "b     0.921106  1.317113"
      ],
      "text/html": "<div>\n<style scoped>\n    .dataframe tbody tr th:only-of-type {\n        vertical-align: middle;\n    }\n\n    .dataframe tbody tr th {\n        vertical-align: top;\n    }\n\n    .dataframe thead th {\n        text-align: right;\n    }\n</style>\n<table border=\"1\" class=\"dataframe\">\n  <thead>\n    <tr style=\"text-align: right;\">\n      <th></th>\n      <th>data1</th>\n      <th>data2</th>\n    </tr>\n    <tr>\n      <th>key1</th>\n      <th></th>\n      <th></th>\n    </tr>\n  </thead>\n  <tbody>\n    <tr>\n      <th>a</th>\n      <td>0.628055</td>\n      <td>1.535354</td>\n    </tr>\n    <tr>\n      <th>b</th>\n      <td>0.921106</td>\n      <td>1.317113</td>\n    </tr>\n  </tbody>\n</table>\n</div>"
     },
     "metadata": {},
     "execution_count": 18
    }
   ],
   "source": [
    "def peak_to_peak(arr):\n",
    "    return arr.max() - arr.min()\n",
    "    \n",
    "df.groupby('key1').agg(peak_to_peak)"
   ]
  },
  {
   "cell_type": "code",
   "execution_count": 19,
   "metadata": {},
   "outputs": [
    {
     "output_type": "execute_result",
     "data": {
      "text/plain": [
       "     data1                                                              \\\n",
       "     count      mean       std       min       25%       50%       75%   \n",
       "key1                                                                     \n",
       "a      3.0 -0.054371  0.348282 -0.455361 -0.167904  0.119554  0.146124   \n",
       "b      2.0  0.597138  0.651320  0.136585  0.366862  0.597138  0.827414   \n",
       "\n",
       "               data2                                                    \\\n",
       "           max count      mean       std       min       25%       50%   \n",
       "key1                                                                     \n",
       "a     0.172694   3.0  0.759994  0.784448 -0.100834  0.422731  0.946296   \n",
       "b     1.057691   2.0  0.747285  0.931340  0.088729  0.418007  0.747285   \n",
       "\n",
       "                          \n",
       "           75%       max  \n",
       "key1                      \n",
       "a     1.190408  1.434520  \n",
       "b     1.076563  1.405842  "
      ],
      "text/html": "<div>\n<style scoped>\n    .dataframe tbody tr th:only-of-type {\n        vertical-align: middle;\n    }\n\n    .dataframe tbody tr th {\n        vertical-align: top;\n    }\n\n    .dataframe thead tr th {\n        text-align: left;\n    }\n\n    .dataframe thead tr:last-of-type th {\n        text-align: right;\n    }\n</style>\n<table border=\"1\" class=\"dataframe\">\n  <thead>\n    <tr>\n      <th></th>\n      <th colspan=\"8\" halign=\"left\">data1</th>\n      <th colspan=\"8\" halign=\"left\">data2</th>\n    </tr>\n    <tr>\n      <th></th>\n      <th>count</th>\n      <th>mean</th>\n      <th>std</th>\n      <th>min</th>\n      <th>25%</th>\n      <th>50%</th>\n      <th>75%</th>\n      <th>max</th>\n      <th>count</th>\n      <th>mean</th>\n      <th>std</th>\n      <th>min</th>\n      <th>25%</th>\n      <th>50%</th>\n      <th>75%</th>\n      <th>max</th>\n    </tr>\n    <tr>\n      <th>key1</th>\n      <th></th>\n      <th></th>\n      <th></th>\n      <th></th>\n      <th></th>\n      <th></th>\n      <th></th>\n      <th></th>\n      <th></th>\n      <th></th>\n      <th></th>\n      <th></th>\n      <th></th>\n      <th></th>\n      <th></th>\n      <th></th>\n    </tr>\n  </thead>\n  <tbody>\n    <tr>\n      <th>a</th>\n      <td>3.0</td>\n      <td>-0.054371</td>\n      <td>0.348282</td>\n      <td>-0.455361</td>\n      <td>-0.167904</td>\n      <td>0.119554</td>\n      <td>0.146124</td>\n      <td>0.172694</td>\n      <td>3.0</td>\n      <td>0.759994</td>\n      <td>0.784448</td>\n      <td>-0.100834</td>\n      <td>0.422731</td>\n      <td>0.946296</td>\n      <td>1.190408</td>\n      <td>1.434520</td>\n    </tr>\n    <tr>\n      <th>b</th>\n      <td>2.0</td>\n      <td>0.597138</td>\n      <td>0.651320</td>\n      <td>0.136585</td>\n      <td>0.366862</td>\n      <td>0.597138</td>\n      <td>0.827414</td>\n      <td>1.057691</td>\n      <td>2.0</td>\n      <td>0.747285</td>\n      <td>0.931340</td>\n      <td>0.088729</td>\n      <td>0.418007</td>\n      <td>0.747285</td>\n      <td>1.076563</td>\n      <td>1.405842</td>\n    </tr>\n  </tbody>\n</table>\n</div>"
     },
     "metadata": {},
     "execution_count": 19
    }
   ],
   "source": [
    "df.groupby('key1').describe()"
   ]
  },
  {
   "cell_type": "code",
   "execution_count": 20,
   "metadata": {},
   "outputs": [
    {
     "output_type": "execute_result",
     "data": {
      "text/plain": [
       "key1\n",
       "a    3.0\n",
       "b    2.0\n",
       "Name: count, dtype: float64"
      ]
     },
     "metadata": {},
     "execution_count": 20
    }
   ],
   "source": [
    "grouped_summary = df.groupby('key1').describe()\n",
    "grouped_summary['data1']['count']"
   ]
  },
  {
   "cell_type": "code",
   "execution_count": 21,
   "metadata": {},
   "outputs": [
    {
     "output_type": "stream",
     "name": "stdout",
     "text": [
      "Index(['total_bill', 'tip', 'smoker', 'day', 'time', 'size'], dtype='object')\n"
     ]
    }
   ],
   "source": [
    "tips = pd.read_csv('tips.csv', header=0)\n",
    "print(tips.columns)"
   ]
  },
  {
   "cell_type": "code",
   "execution_count": 22,
   "metadata": {},
   "outputs": [
    {
     "output_type": "stream",
     "name": "stdout",
     "text": [
      "day   smoker\nFri   No        2.812500\n      Yes       2.714000\nSat   No        3.102889\n      Yes       2.875476\nSun   No        3.167895\n      Yes       3.516842\nThur  No        2.673778\n      Yes       3.030000\nName: tip, dtype: float64\nday   smoker\nFri   No        2.00\n      Yes       3.73\nSat   No        8.00\n      Yes       9.00\nSun   No        4.99\n      Yes       5.00\nThur  No        5.45\n      Yes       3.00\nName: tip, dtype: float64\n"
     ]
    }
   ],
   "source": [
    "grouped = tips.groupby(['day', 'smoker'])\n",
    "grouped_pct = grouped['tip']\n",
    "print(grouped_pct.agg('mean'))\n",
    "print(grouped_pct.agg(peak_to_peak))"
   ]
  },
  {
   "cell_type": "code",
   "execution_count": 23,
   "metadata": {},
   "outputs": [
    {
     "output_type": "execute_result",
     "data": {
      "text/plain": [
       "                 mean  peak_to_peak\n",
       "day  smoker                        \n",
       "Fri  No      2.812500          2.00\n",
       "     Yes     2.714000          3.73\n",
       "Sat  No      3.102889          8.00\n",
       "     Yes     2.875476          9.00\n",
       "Sun  No      3.167895          4.99\n",
       "     Yes     3.516842          5.00\n",
       "Thur No      2.673778          5.45\n",
       "     Yes     3.030000          3.00"
      ],
      "text/html": "<div>\n<style scoped>\n    .dataframe tbody tr th:only-of-type {\n        vertical-align: middle;\n    }\n\n    .dataframe tbody tr th {\n        vertical-align: top;\n    }\n\n    .dataframe thead th {\n        text-align: right;\n    }\n</style>\n<table border=\"1\" class=\"dataframe\">\n  <thead>\n    <tr style=\"text-align: right;\">\n      <th></th>\n      <th></th>\n      <th>mean</th>\n      <th>peak_to_peak</th>\n    </tr>\n    <tr>\n      <th>day</th>\n      <th>smoker</th>\n      <th></th>\n      <th></th>\n    </tr>\n  </thead>\n  <tbody>\n    <tr>\n      <th rowspan=\"2\" valign=\"top\">Fri</th>\n      <th>No</th>\n      <td>2.812500</td>\n      <td>2.00</td>\n    </tr>\n    <tr>\n      <th>Yes</th>\n      <td>2.714000</td>\n      <td>3.73</td>\n    </tr>\n    <tr>\n      <th rowspan=\"2\" valign=\"top\">Sat</th>\n      <th>No</th>\n      <td>3.102889</td>\n      <td>8.00</td>\n    </tr>\n    <tr>\n      <th>Yes</th>\n      <td>2.875476</td>\n      <td>9.00</td>\n    </tr>\n    <tr>\n      <th rowspan=\"2\" valign=\"top\">Sun</th>\n      <th>No</th>\n      <td>3.167895</td>\n      <td>4.99</td>\n    </tr>\n    <tr>\n      <th>Yes</th>\n      <td>3.516842</td>\n      <td>5.00</td>\n    </tr>\n    <tr>\n      <th rowspan=\"2\" valign=\"top\">Thur</th>\n      <th>No</th>\n      <td>2.673778</td>\n      <td>5.45</td>\n    </tr>\n    <tr>\n      <th>Yes</th>\n      <td>3.030000</td>\n      <td>3.00</td>\n    </tr>\n  </tbody>\n</table>\n</div>"
     },
     "metadata": {},
     "execution_count": 23
    }
   ],
   "source": [
    "grouped_pct.agg(['mean', peak_to_peak])"
   ]
  },
  {
   "cell_type": "code",
   "execution_count": 24,
   "metadata": {},
   "outputs": [
    {
     "output_type": "execute_result",
     "data": {
      "text/plain": [
       "                  foo       bar\n",
       "day  smoker                    \n",
       "Fri  No      2.812500  0.898494\n",
       "     Yes     2.714000  1.077668\n",
       "Sat  No      3.102889  1.642088\n",
       "     Yes     2.875476  1.630580\n",
       "Sun  No      3.167895  1.224785\n",
       "     Yes     3.516842  1.261151\n",
       "Thur No      2.673778  1.282964\n",
       "     Yes     3.030000  1.113491"
      ],
      "text/html": "<div>\n<style scoped>\n    .dataframe tbody tr th:only-of-type {\n        vertical-align: middle;\n    }\n\n    .dataframe tbody tr th {\n        vertical-align: top;\n    }\n\n    .dataframe thead th {\n        text-align: right;\n    }\n</style>\n<table border=\"1\" class=\"dataframe\">\n  <thead>\n    <tr style=\"text-align: right;\">\n      <th></th>\n      <th></th>\n      <th>foo</th>\n      <th>bar</th>\n    </tr>\n    <tr>\n      <th>day</th>\n      <th>smoker</th>\n      <th></th>\n      <th></th>\n    </tr>\n  </thead>\n  <tbody>\n    <tr>\n      <th rowspan=\"2\" valign=\"top\">Fri</th>\n      <th>No</th>\n      <td>2.812500</td>\n      <td>0.898494</td>\n    </tr>\n    <tr>\n      <th>Yes</th>\n      <td>2.714000</td>\n      <td>1.077668</td>\n    </tr>\n    <tr>\n      <th rowspan=\"2\" valign=\"top\">Sat</th>\n      <th>No</th>\n      <td>3.102889</td>\n      <td>1.642088</td>\n    </tr>\n    <tr>\n      <th>Yes</th>\n      <td>2.875476</td>\n      <td>1.630580</td>\n    </tr>\n    <tr>\n      <th rowspan=\"2\" valign=\"top\">Sun</th>\n      <th>No</th>\n      <td>3.167895</td>\n      <td>1.224785</td>\n    </tr>\n    <tr>\n      <th>Yes</th>\n      <td>3.516842</td>\n      <td>1.261151</td>\n    </tr>\n    <tr>\n      <th rowspan=\"2\" valign=\"top\">Thur</th>\n      <th>No</th>\n      <td>2.673778</td>\n      <td>1.282964</td>\n    </tr>\n    <tr>\n      <th>Yes</th>\n      <td>3.030000</td>\n      <td>1.113491</td>\n    </tr>\n  </tbody>\n</table>\n</div>"
     },
     "metadata": {},
     "execution_count": 24
    }
   ],
   "source": [
    "grouped_pct.agg([('foo', np.mean), ('bar', np.std)])"
   ]
  },
  {
   "cell_type": "code",
   "execution_count": 25,
   "metadata": {},
   "outputs": [
    {
     "output_type": "execute_result",
     "data": {
      "text/plain": [
       "2.5"
      ]
     },
     "metadata": {},
     "execution_count": 25
    }
   ],
   "source": [
    "np.mean([1, 2, 3, 4])"
   ]
  },
  {
   "cell_type": "code",
   "execution_count": 26,
   "metadata": {},
   "outputs": [
    {
     "output_type": "execute_result",
     "data": {
      "text/plain": [
       "               tip  size\n",
       "day  smoker             \n",
       "Fri  No       3.50     9\n",
       "     Yes      4.73    31\n",
       "Sat  No       9.00   115\n",
       "     Yes     10.00   104\n",
       "Sun  No       6.00   167\n",
       "     Yes      6.50    49\n",
       "Thur No       6.70   112\n",
       "     Yes      5.00    40"
      ],
      "text/html": "<div>\n<style scoped>\n    .dataframe tbody tr th:only-of-type {\n        vertical-align: middle;\n    }\n\n    .dataframe tbody tr th {\n        vertical-align: top;\n    }\n\n    .dataframe thead th {\n        text-align: right;\n    }\n</style>\n<table border=\"1\" class=\"dataframe\">\n  <thead>\n    <tr style=\"text-align: right;\">\n      <th></th>\n      <th></th>\n      <th>tip</th>\n      <th>size</th>\n    </tr>\n    <tr>\n      <th>day</th>\n      <th>smoker</th>\n      <th></th>\n      <th></th>\n    </tr>\n  </thead>\n  <tbody>\n    <tr>\n      <th rowspan=\"2\" valign=\"top\">Fri</th>\n      <th>No</th>\n      <td>3.50</td>\n      <td>9</td>\n    </tr>\n    <tr>\n      <th>Yes</th>\n      <td>4.73</td>\n      <td>31</td>\n    </tr>\n    <tr>\n      <th rowspan=\"2\" valign=\"top\">Sat</th>\n      <th>No</th>\n      <td>9.00</td>\n      <td>115</td>\n    </tr>\n    <tr>\n      <th>Yes</th>\n      <td>10.00</td>\n      <td>104</td>\n    </tr>\n    <tr>\n      <th rowspan=\"2\" valign=\"top\">Sun</th>\n      <th>No</th>\n      <td>6.00</td>\n      <td>167</td>\n    </tr>\n    <tr>\n      <th>Yes</th>\n      <td>6.50</td>\n      <td>49</td>\n    </tr>\n    <tr>\n      <th rowspan=\"2\" valign=\"top\">Thur</th>\n      <th>No</th>\n      <td>6.70</td>\n      <td>112</td>\n    </tr>\n    <tr>\n      <th>Yes</th>\n      <td>5.00</td>\n      <td>40</td>\n    </tr>\n  </tbody>\n</table>\n</div>"
     },
     "metadata": {},
     "execution_count": 26
    }
   ],
   "source": [
    "grouped.agg({'tip' : np.max, 'size' : 'sum'})"
   ]
  },
  {
   "cell_type": "code",
   "execution_count": 27,
   "metadata": {},
   "outputs": [
    {
     "output_type": "execute_result",
     "data": {
      "text/plain": [
       "              tip                            size\n",
       "              min    max      mean       std  sum\n",
       "day  smoker                                      \n",
       "Fri  No      1.50   3.50  2.812500  0.898494    9\n",
       "     Yes     1.00   4.73  2.714000  1.077668   31\n",
       "Sat  No      1.00   9.00  3.102889  1.642088  115\n",
       "     Yes     1.00  10.00  2.875476  1.630580  104\n",
       "Sun  No      1.01   6.00  3.167895  1.224785  167\n",
       "     Yes     1.50   6.50  3.516842  1.261151   49\n",
       "Thur No      1.25   6.70  2.673778  1.282964  112\n",
       "     Yes     2.00   5.00  3.030000  1.113491   40"
      ],
      "text/html": "<div>\n<style scoped>\n    .dataframe tbody tr th:only-of-type {\n        vertical-align: middle;\n    }\n\n    .dataframe tbody tr th {\n        vertical-align: top;\n    }\n\n    .dataframe thead tr th {\n        text-align: left;\n    }\n\n    .dataframe thead tr:last-of-type th {\n        text-align: right;\n    }\n</style>\n<table border=\"1\" class=\"dataframe\">\n  <thead>\n    <tr>\n      <th></th>\n      <th></th>\n      <th colspan=\"4\" halign=\"left\">tip</th>\n      <th>size</th>\n    </tr>\n    <tr>\n      <th></th>\n      <th></th>\n      <th>min</th>\n      <th>max</th>\n      <th>mean</th>\n      <th>std</th>\n      <th>sum</th>\n    </tr>\n    <tr>\n      <th>day</th>\n      <th>smoker</th>\n      <th></th>\n      <th></th>\n      <th></th>\n      <th></th>\n      <th></th>\n    </tr>\n  </thead>\n  <tbody>\n    <tr>\n      <th rowspan=\"2\" valign=\"top\">Fri</th>\n      <th>No</th>\n      <td>1.50</td>\n      <td>3.50</td>\n      <td>2.812500</td>\n      <td>0.898494</td>\n      <td>9</td>\n    </tr>\n    <tr>\n      <th>Yes</th>\n      <td>1.00</td>\n      <td>4.73</td>\n      <td>2.714000</td>\n      <td>1.077668</td>\n      <td>31</td>\n    </tr>\n    <tr>\n      <th rowspan=\"2\" valign=\"top\">Sat</th>\n      <th>No</th>\n      <td>1.00</td>\n      <td>9.00</td>\n      <td>3.102889</td>\n      <td>1.642088</td>\n      <td>115</td>\n    </tr>\n    <tr>\n      <th>Yes</th>\n      <td>1.00</td>\n      <td>10.00</td>\n      <td>2.875476</td>\n      <td>1.630580</td>\n      <td>104</td>\n    </tr>\n    <tr>\n      <th rowspan=\"2\" valign=\"top\">Sun</th>\n      <th>No</th>\n      <td>1.01</td>\n      <td>6.00</td>\n      <td>3.167895</td>\n      <td>1.224785</td>\n      <td>167</td>\n    </tr>\n    <tr>\n      <th>Yes</th>\n      <td>1.50</td>\n      <td>6.50</td>\n      <td>3.516842</td>\n      <td>1.261151</td>\n      <td>49</td>\n    </tr>\n    <tr>\n      <th rowspan=\"2\" valign=\"top\">Thur</th>\n      <th>No</th>\n      <td>1.25</td>\n      <td>6.70</td>\n      <td>2.673778</td>\n      <td>1.282964</td>\n      <td>112</td>\n    </tr>\n    <tr>\n      <th>Yes</th>\n      <td>2.00</td>\n      <td>5.00</td>\n      <td>3.030000</td>\n      <td>1.113491</td>\n      <td>40</td>\n    </tr>\n  </tbody>\n</table>\n</div>"
     },
     "metadata": {},
     "execution_count": 27
    }
   ],
   "source": [
    "grouped.agg({'tip' : ['min', 'max', 'mean', 'std'], 'size' : 'sum'})"
   ]
  },
  {
   "cell_type": "code",
   "execution_count": 28,
   "metadata": {},
   "outputs": [
    {
     "output_type": "execute_result",
     "data": {
      "text/plain": [
       "             total_bill       tip      size\n",
       "day  smoker                                \n",
       "Fri  No       18.420000  2.812500  2.250000\n",
       "     Yes      16.813333  2.714000  2.066667\n",
       "Sat  No       19.661778  3.102889  2.555556\n",
       "     Yes      21.276667  2.875476  2.476190\n",
       "Sun  No       20.506667  3.167895  2.929825\n",
       "     Yes      24.120000  3.516842  2.578947\n",
       "Thur No       17.113111  2.673778  2.488889\n",
       "     Yes      19.190588  3.030000  2.352941"
      ],
      "text/html": "<div>\n<style scoped>\n    .dataframe tbody tr th:only-of-type {\n        vertical-align: middle;\n    }\n\n    .dataframe tbody tr th {\n        vertical-align: top;\n    }\n\n    .dataframe thead th {\n        text-align: right;\n    }\n</style>\n<table border=\"1\" class=\"dataframe\">\n  <thead>\n    <tr style=\"text-align: right;\">\n      <th></th>\n      <th></th>\n      <th>total_bill</th>\n      <th>tip</th>\n      <th>size</th>\n    </tr>\n    <tr>\n      <th>day</th>\n      <th>smoker</th>\n      <th></th>\n      <th></th>\n      <th></th>\n    </tr>\n  </thead>\n  <tbody>\n    <tr>\n      <th rowspan=\"2\" valign=\"top\">Fri</th>\n      <th>No</th>\n      <td>18.420000</td>\n      <td>2.812500</td>\n      <td>2.250000</td>\n    </tr>\n    <tr>\n      <th>Yes</th>\n      <td>16.813333</td>\n      <td>2.714000</td>\n      <td>2.066667</td>\n    </tr>\n    <tr>\n      <th rowspan=\"2\" valign=\"top\">Sat</th>\n      <th>No</th>\n      <td>19.661778</td>\n      <td>3.102889</td>\n      <td>2.555556</td>\n    </tr>\n    <tr>\n      <th>Yes</th>\n      <td>21.276667</td>\n      <td>2.875476</td>\n      <td>2.476190</td>\n    </tr>\n    <tr>\n      <th rowspan=\"2\" valign=\"top\">Sun</th>\n      <th>No</th>\n      <td>20.506667</td>\n      <td>3.167895</td>\n      <td>2.929825</td>\n    </tr>\n    <tr>\n      <th>Yes</th>\n      <td>24.120000</td>\n      <td>3.516842</td>\n      <td>2.578947</td>\n    </tr>\n    <tr>\n      <th rowspan=\"2\" valign=\"top\">Thur</th>\n      <th>No</th>\n      <td>17.113111</td>\n      <td>2.673778</td>\n      <td>2.488889</td>\n    </tr>\n    <tr>\n      <th>Yes</th>\n      <td>19.190588</td>\n      <td>3.030000</td>\n      <td>2.352941</td>\n    </tr>\n  </tbody>\n</table>\n</div>"
     },
     "metadata": {},
     "execution_count": 28
    }
   ],
   "source": [
    "tips.groupby(['day', 'smoker'], as_index=True).mean()"
   ]
  },
  {
   "cell_type": "code",
   "execution_count": 29,
   "metadata": {},
   "outputs": [
    {
     "output_type": "execute_result",
     "data": {
      "text/plain": [
       "    day smoker  total_bill       tip      size\n",
       "0   Fri     No   18.420000  2.812500  2.250000\n",
       "1   Fri    Yes   16.813333  2.714000  2.066667\n",
       "2   Sat     No   19.661778  3.102889  2.555556\n",
       "3   Sat    Yes   21.276667  2.875476  2.476190\n",
       "4   Sun     No   20.506667  3.167895  2.929825\n",
       "5   Sun    Yes   24.120000  3.516842  2.578947\n",
       "6  Thur     No   17.113111  2.673778  2.488889\n",
       "7  Thur    Yes   19.190588  3.030000  2.352941"
      ],
      "text/html": "<div>\n<style scoped>\n    .dataframe tbody tr th:only-of-type {\n        vertical-align: middle;\n    }\n\n    .dataframe tbody tr th {\n        vertical-align: top;\n    }\n\n    .dataframe thead th {\n        text-align: right;\n    }\n</style>\n<table border=\"1\" class=\"dataframe\">\n  <thead>\n    <tr style=\"text-align: right;\">\n      <th></th>\n      <th>day</th>\n      <th>smoker</th>\n      <th>total_bill</th>\n      <th>tip</th>\n      <th>size</th>\n    </tr>\n  </thead>\n  <tbody>\n    <tr>\n      <th>0</th>\n      <td>Fri</td>\n      <td>No</td>\n      <td>18.420000</td>\n      <td>2.812500</td>\n      <td>2.250000</td>\n    </tr>\n    <tr>\n      <th>1</th>\n      <td>Fri</td>\n      <td>Yes</td>\n      <td>16.813333</td>\n      <td>2.714000</td>\n      <td>2.066667</td>\n    </tr>\n    <tr>\n      <th>2</th>\n      <td>Sat</td>\n      <td>No</td>\n      <td>19.661778</td>\n      <td>3.102889</td>\n      <td>2.555556</td>\n    </tr>\n    <tr>\n      <th>3</th>\n      <td>Sat</td>\n      <td>Yes</td>\n      <td>21.276667</td>\n      <td>2.875476</td>\n      <td>2.476190</td>\n    </tr>\n    <tr>\n      <th>4</th>\n      <td>Sun</td>\n      <td>No</td>\n      <td>20.506667</td>\n      <td>3.167895</td>\n      <td>2.929825</td>\n    </tr>\n    <tr>\n      <th>5</th>\n      <td>Sun</td>\n      <td>Yes</td>\n      <td>24.120000</td>\n      <td>3.516842</td>\n      <td>2.578947</td>\n    </tr>\n    <tr>\n      <th>6</th>\n      <td>Thur</td>\n      <td>No</td>\n      <td>17.113111</td>\n      <td>2.673778</td>\n      <td>2.488889</td>\n    </tr>\n    <tr>\n      <th>7</th>\n      <td>Thur</td>\n      <td>Yes</td>\n      <td>19.190588</td>\n      <td>3.030000</td>\n      <td>2.352941</td>\n    </tr>\n  </tbody>\n</table>\n</div>"
     },
     "metadata": {},
     "execution_count": 29
    }
   ],
   "source": [
    "tips.groupby(['day', 'smoker'], as_index=False).mean()"
   ]
  },
  {
   "cell_type": "code",
   "execution_count": 30,
   "metadata": {},
   "outputs": [
    {
     "output_type": "stream",
     "name": "stdout",
     "text": [
      "         data1     data2\nkey1                    \na    -0.054371  0.759994\nb     0.597138  0.747285\n"
     ]
    }
   ],
   "source": [
    "k1_means = df.groupby('key1').mean()\n",
    "print(k1_means)"
   ]
  },
  {
   "cell_type": "code",
   "execution_count": 31,
   "metadata": {},
   "outputs": [
    {
     "output_type": "execute_result",
     "data": {
      "text/plain": [
       "      mean_data1  mean_data2\n",
       "key1                        \n",
       "a      -0.054371    0.759994\n",
       "b       0.597138    0.747285"
      ],
      "text/html": "<div>\n<style scoped>\n    .dataframe tbody tr th:only-of-type {\n        vertical-align: middle;\n    }\n\n    .dataframe tbody tr th {\n        vertical-align: top;\n    }\n\n    .dataframe thead th {\n        text-align: right;\n    }\n</style>\n<table border=\"1\" class=\"dataframe\">\n  <thead>\n    <tr style=\"text-align: right;\">\n      <th></th>\n      <th>mean_data1</th>\n      <th>mean_data2</th>\n    </tr>\n    <tr>\n      <th>key1</th>\n      <th></th>\n      <th></th>\n    </tr>\n  </thead>\n  <tbody>\n    <tr>\n      <th>a</th>\n      <td>-0.054371</td>\n      <td>0.759994</td>\n    </tr>\n    <tr>\n      <th>b</th>\n      <td>0.597138</td>\n      <td>0.747285</td>\n    </tr>\n  </tbody>\n</table>\n</div>"
     },
     "metadata": {},
     "execution_count": 31
    }
   ],
   "source": [
    "k1_means.add_prefix('mean_')"
   ]
  },
  {
   "cell_type": "code",
   "execution_count": 32,
   "metadata": {},
   "outputs": [
    {
     "output_type": "execute_result",
     "data": {
      "text/plain": [
       "               a         b         c         d         e\n",
       "Joe    -0.418249  0.642156 -0.217990  0.689275 -0.078202\n",
       "Steve   0.742915  0.059504 -0.762584 -0.334418  0.209359\n",
       "Wes    -0.418249  0.642156 -0.217990  0.689275 -0.078202\n",
       "Jim     0.742915  0.059504 -0.762584 -0.334418  0.209359\n",
       "Travis -0.418249  0.642156 -0.217990  0.689275 -0.078202"
      ],
      "text/html": "<div>\n<style scoped>\n    .dataframe tbody tr th:only-of-type {\n        vertical-align: middle;\n    }\n\n    .dataframe tbody tr th {\n        vertical-align: top;\n    }\n\n    .dataframe thead th {\n        text-align: right;\n    }\n</style>\n<table border=\"1\" class=\"dataframe\">\n  <thead>\n    <tr style=\"text-align: right;\">\n      <th></th>\n      <th>a</th>\n      <th>b</th>\n      <th>c</th>\n      <th>d</th>\n      <th>e</th>\n    </tr>\n  </thead>\n  <tbody>\n    <tr>\n      <th>Joe</th>\n      <td>-0.418249</td>\n      <td>0.642156</td>\n      <td>-0.217990</td>\n      <td>0.689275</td>\n      <td>-0.078202</td>\n    </tr>\n    <tr>\n      <th>Steve</th>\n      <td>0.742915</td>\n      <td>0.059504</td>\n      <td>-0.762584</td>\n      <td>-0.334418</td>\n      <td>0.209359</td>\n    </tr>\n    <tr>\n      <th>Wes</th>\n      <td>-0.418249</td>\n      <td>0.642156</td>\n      <td>-0.217990</td>\n      <td>0.689275</td>\n      <td>-0.078202</td>\n    </tr>\n    <tr>\n      <th>Jim</th>\n      <td>0.742915</td>\n      <td>0.059504</td>\n      <td>-0.762584</td>\n      <td>-0.334418</td>\n      <td>0.209359</td>\n    </tr>\n    <tr>\n      <th>Travis</th>\n      <td>-0.418249</td>\n      <td>0.642156</td>\n      <td>-0.217990</td>\n      <td>0.689275</td>\n      <td>-0.078202</td>\n    </tr>\n  </tbody>\n</table>\n</div>"
     },
     "metadata": {},
     "execution_count": 32
    }
   ],
   "source": [
    "people.groupby(['one', 'two', 'one', 'two', 'one']).transform(np.mean)"
   ]
  },
  {
   "cell_type": "code",
   "execution_count": 33,
   "metadata": {},
   "outputs": [
    {
     "output_type": "stream",
     "name": "stdout",
     "text": [
      "               a         b         c         d         e\nJoe     0.579085  0.105654  0.714097 -0.403271 -1.319602\nSteve  -0.612350  0.033865  0.544541  0.639282  0.341317\nWes    -0.463613  0.127492 -0.314147  0.643477 -0.102646\nJim     0.612350 -0.033865 -0.544541 -0.639282 -0.341317\nTravis -0.115472 -0.233146 -0.399950 -0.240205  1.422248\n"
     ]
    }
   ],
   "source": [
    "def demean(arr):\n",
    "    return arr - arr.mean()\n",
    "\n",
    "demeaned = people.groupby(['one', 'two', 'one', 'two', 'one']).transform(demean)\n",
    "print(demeaned)"
   ]
  },
  {
   "cell_type": "code",
   "execution_count": 34,
   "metadata": {},
   "outputs": [
    {
     "output_type": "execute_result",
     "data": {
      "text/plain": [
       "                       min       max  count      mean\n",
       "data1                                                \n",
       "(-3.143, -1.429] -2.432713  2.078720   80.0  0.027646\n",
       "(-1.429, 0.277]  -3.198654  3.044196  533.0 -0.008790\n",
       "(0.277, 1.984]   -2.508823  3.097926  356.0  0.015627\n",
       "(1.984, 3.69]    -1.746595  2.258407   31.0  0.056461"
      ],
      "text/html": "<div>\n<style scoped>\n    .dataframe tbody tr th:only-of-type {\n        vertical-align: middle;\n    }\n\n    .dataframe tbody tr th {\n        vertical-align: top;\n    }\n\n    .dataframe thead th {\n        text-align: right;\n    }\n</style>\n<table border=\"1\" class=\"dataframe\">\n  <thead>\n    <tr style=\"text-align: right;\">\n      <th></th>\n      <th>min</th>\n      <th>max</th>\n      <th>count</th>\n      <th>mean</th>\n    </tr>\n    <tr>\n      <th>data1</th>\n      <th></th>\n      <th></th>\n      <th></th>\n      <th></th>\n    </tr>\n  </thead>\n  <tbody>\n    <tr>\n      <th>(-3.143, -1.429]</th>\n      <td>-2.432713</td>\n      <td>2.078720</td>\n      <td>80.0</td>\n      <td>0.027646</td>\n    </tr>\n    <tr>\n      <th>(-1.429, 0.277]</th>\n      <td>-3.198654</td>\n      <td>3.044196</td>\n      <td>533.0</td>\n      <td>-0.008790</td>\n    </tr>\n    <tr>\n      <th>(0.277, 1.984]</th>\n      <td>-2.508823</td>\n      <td>3.097926</td>\n      <td>356.0</td>\n      <td>0.015627</td>\n    </tr>\n    <tr>\n      <th>(1.984, 3.69]</th>\n      <td>-1.746595</td>\n      <td>2.258407</td>\n      <td>31.0</td>\n      <td>0.056461</td>\n    </tr>\n  </tbody>\n</table>\n</div>"
     },
     "metadata": {},
     "execution_count": 34
    }
   ],
   "source": [
    "frame = DataFrame({'data1' : np.random.randn(1000),\n",
    "                   'data2' : np.random.randn(1000)})\n",
    "\n",
    "factor = pd.cut(frame.data1, 4)\n",
    "\n",
    "def get_stats(group):\n",
    "    return {'min' : group.min(), 'max' : group.max(), 'count' : group.count(), 'mean' : group.mean()}\n",
    "\n",
    "grouped = frame.data2.groupby(factor)\n",
    "\n",
    "grouped.apply(get_stats).unstack()"
   ]
  },
  {
   "cell_type": "code",
   "execution_count": 39,
   "metadata": {},
   "outputs": [
    {
     "output_type": "stream",
     "name": "stdout",
     "text": [
      "(1001731, 16)\ncmte_id                          C00431171\ncand_id                          P80003353\ncand_nm                       Romney, Mitt\ncontbr_nm            NEUWIEN, SUSAN W. MS.\ncontbr_city                     ENTERPRISE\ncontbr_st                               AL\ncontbr_zip                     3.63302e+08\ncontbr_employer                    RETIRED\ncontbr_occupation                  RETIRED\ncontb_receipt_amt                     1000\ncontb_receipt_dt                 13-FEB-12\nreceipt_desc                           NaN\nmemo_cd                                NaN\nmemo_text                              NaN\nform_tp                              SA17A\nfile_num                            780124\nName: 1000, dtype: object\n"
     ]
    }
   ],
   "source": [
    "fec = pd.read_csv('P00000001-ALL.csv')\n",
    "# fec.head(5)\n",
    "print(fec.shape)\n",
    "print(fec.iloc[1000])"
   ]
  },
  {
   "cell_type": "code",
   "execution_count": 42,
   "metadata": {},
   "outputs": [
    {
     "output_type": "stream",
     "name": "stdout",
     "text": [
      "['Bachmann, Michelle' 'Romney, Mitt' 'Obama, Barack'\n \"Roemer, Charles E. 'Buddy' III\" 'Pawlenty, Timothy' 'Johnson, Gary Earl'\n 'Paul, Ron' 'Santorum, Rick' 'Cain, Herman' 'Gingrich, Newt'\n 'McCotter, Thaddeus G' 'Huntsman, Jon' 'Perry, Rick']\n"
     ]
    }
   ],
   "source": [
    "unique_cands = fec.cand_nm.unique()\n",
    "print(unique_cands)"
   ]
  },
  {
   "cell_type": "code",
   "execution_count": null,
   "metadata": {},
   "outputs": [],
   "source": []
  }
 ]
}