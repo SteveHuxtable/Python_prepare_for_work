{
 "metadata": {
  "language_info": {
   "codemirror_mode": {
    "name": "ipython",
    "version": 3
   },
   "file_extension": ".py",
   "mimetype": "text/x-python",
   "name": "python",
   "nbconvert_exporter": "python",
   "pygments_lexer": "ipython3",
   "version": "3.7.7-final"
  },
  "orig_nbformat": 2,
  "kernelspec": {
   "name": "python37764bitbasecondae23d729ba38b48da967e4e201f9aaf92",
   "display_name": "Python 3.7.7 64-bit ('base': conda)",
   "language": "python"
  }
 },
 "nbformat": 4,
 "nbformat_minor": 2,
 "cells": [
  {
   "source": [
    "# 数据规整化"
   ],
   "cell_type": "markdown",
   "metadata": {}
  },
  {
   "cell_type": "code",
   "execution_count": 1,
   "metadata": {},
   "outputs": [],
   "source": [
    "from pandas import Series, DataFrame\n",
    "import pandas as pd\n",
    "import numpy as np"
   ]
  },
  {
   "cell_type": "code",
   "execution_count": 28,
   "metadata": {},
   "outputs": [
    {
     "output_type": "execute_result",
     "data": {
      "text/plain": [
       "  key  data1  data2\n",
       "0   b      0      1\n",
       "1   b      1      1\n",
       "2   b      6      1\n",
       "3   a      2      0\n",
       "4   a      4      0\n",
       "5   a      5      0"
      ],
      "text/html": "<div>\n<style scoped>\n    .dataframe tbody tr th:only-of-type {\n        vertical-align: middle;\n    }\n\n    .dataframe tbody tr th {\n        vertical-align: top;\n    }\n\n    .dataframe thead th {\n        text-align: right;\n    }\n</style>\n<table border=\"1\" class=\"dataframe\">\n  <thead>\n    <tr style=\"text-align: right;\">\n      <th></th>\n      <th>key</th>\n      <th>data1</th>\n      <th>data2</th>\n    </tr>\n  </thead>\n  <tbody>\n    <tr>\n      <th>0</th>\n      <td>b</td>\n      <td>0</td>\n      <td>1</td>\n    </tr>\n    <tr>\n      <th>1</th>\n      <td>b</td>\n      <td>1</td>\n      <td>1</td>\n    </tr>\n    <tr>\n      <th>2</th>\n      <td>b</td>\n      <td>6</td>\n      <td>1</td>\n    </tr>\n    <tr>\n      <th>3</th>\n      <td>a</td>\n      <td>2</td>\n      <td>0</td>\n    </tr>\n    <tr>\n      <th>4</th>\n      <td>a</td>\n      <td>4</td>\n      <td>0</td>\n    </tr>\n    <tr>\n      <th>5</th>\n      <td>a</td>\n      <td>5</td>\n      <td>0</td>\n    </tr>\n  </tbody>\n</table>\n</div>"
     },
     "metadata": {},
     "execution_count": 28
    }
   ],
   "source": [
    "df1 = DataFrame({'key' : ['b', 'b', 'a', 'c', 'a', 'a', 'b'], 'data1' : range(7)})\n",
    "df2 = DataFrame({'key' : ['a', 'b', 'd'], 'data2' : range(3)})\n",
    "\n",
    "pd.merge(df1, df2)"
   ]
  },
  {
   "cell_type": "code",
   "execution_count": null,
   "metadata": {},
   "outputs": [],
   "source": [
    "df3 = DataFrame({'lkey' : ['b', 'b', 'a', 'c', 'a', 'a', 'b'], 'data1' : range(7)})\n",
    "df4 = DataFrame({'rkey' : ['a', 'b', 'd'], 'data2' : range(3)})\n",
    "\n",
    "pd.merge(df3, df4, left_on='lkey', right_on='rkey')"
   ]
  },
  {
   "cell_type": "code",
   "execution_count": null,
   "metadata": {},
   "outputs": [],
   "source": [
    "print(pd.merge(df1, df2, how='left'))\n",
    "print(pd.merge(df1, df2, how='right'))\n",
    "print(pd.merge(df1, df2, how='outer'))"
   ]
  },
  {
   "cell_type": "code",
   "execution_count": null,
   "metadata": {},
   "outputs": [],
   "source": [
    "left = DataFrame({'key1' : ['foo', 'foo', 'bar'],\n",
    "                  'key2' : ['one', 'two', 'one'],\n",
    "                  'lval' : [1, 2, 3]})\n",
    "right = DataFrame({'key1' : ['foo', 'foo', 'bar', 'bar'],\n",
    "                   'key2' : ['one', 'one', 'one', 'two'],\n",
    "                   'lval' : [4, 5, 6, 7]})\n",
    "\n",
    "pd.merge(left, right, on='key1', how='outer', suffixes=('_left', '_right'))"
   ]
  },
  {
   "cell_type": "code",
   "execution_count": null,
   "metadata": {},
   "outputs": [],
   "source": [
    "left_df = DataFrame([[1., 2.], [3., 4.], [5., 6.]], index=['a', \n",
    "'c', 'e'], columns=['Ohio', 'Nevada'])\n",
    "right_df = DataFrame([[7., 8.], [9., 10.], [11., 12.], [13., 14.]], index=['b', 'c', 'd', 'e'], columns=['Missouri', 'Alabama'])\n",
    "\n",
    "pd.merge(left_df, right_df, how='outer', left_index=True, right_index=True)"
   ]
  },
  {
   "cell_type": "code",
   "execution_count": null,
   "metadata": {},
   "outputs": [],
   "source": [
    "print(left_df.join(right_df, how='right'))\n",
    "print(left_df.join(right_df, how='left'))"
   ]
  },
  {
   "cell_type": "code",
   "execution_count": 35,
   "metadata": {},
   "outputs": [
    {
     "output_type": "stream",
     "name": "stdout",
     "text": [
      "[[ 0  1  2  3]\n [ 4  5  6  7]\n [ 8  9 10 11]\n [ 0  1  2  3]\n [ 4  5  6  7]\n [ 8  9 10 11]]\n[[ 0  1  2  3  0  1  2  3]\n [ 4  5  6  7  4  5  6  7]\n [ 8  9 10 11  8  9 10 11]]\n"
     ]
    }
   ],
   "source": [
    "arr = np.arange(12).reshape((3, 4))\n",
    "print(np.concatenate([arr, arr], axis=0))\n",
    "print(np.concatenate([arr, arr], axis=1))"
   ]
  },
  {
   "cell_type": "code",
   "execution_count": 37,
   "metadata": {},
   "outputs": [
    {
     "output_type": "execute_result",
     "data": {
      "text/plain": [
       "pandas.core.series.Series"
      ]
     },
     "metadata": {},
     "execution_count": 37
    }
   ],
   "source": [
    "s1 = Series([0, 1], index=['a', 'b'])\n",
    "s2 = Series([2, 3, 4], index=['c', 'd', 'e'])\n",
    "s3 = Series([5, 6], index=['f', 'g'])\n",
    "\n",
    "joint_s = pd.concat([s1, s2, s3])\n",
    "type(joint_s)"
   ]
  },
  {
   "cell_type": "code",
   "execution_count": 39,
   "metadata": {},
   "outputs": [
    {
     "output_type": "stream",
     "name": "stdout",
     "text": [
      "<class 'pandas.core.frame.DataFrame'>\n     0    1    2\na  0.0  NaN  NaN\nb  1.0  NaN  NaN\nc  NaN  2.0  NaN\nd  NaN  3.0  NaN\ne  NaN  4.0  NaN\nf  NaN  NaN  5.0\ng  NaN  NaN  6.0\n"
     ]
    }
   ],
   "source": [
    "joint_s = pd.concat([s1, s2, s3], axis=1)\n",
    "print(type(joint_s))\n",
    "print(joint_s)"
   ]
  },
  {
   "cell_type": "code",
   "execution_count": 46,
   "metadata": {},
   "outputs": [
    {
     "output_type": "stream",
     "name": "stdout",
     "text": [
      "one    a    0\n       b    1\ntwo    c    2\n       d    3\n       e    4\nthree  f    5\n       g    6\ndtype: int64\n"
     ]
    },
    {
     "output_type": "execute_result",
     "data": {
      "text/plain": [
       "pandas.core.frame.DataFrame"
      ]
     },
     "metadata": {},
     "execution_count": 46
    }
   ],
   "source": [
    "result1 = pd.concat([s1, s2, s3], keys=['one', 'two', 'three'])\n",
    "print(result1)\n",
    "type(result1.unstack())"
   ]
  },
  {
   "cell_type": "code",
   "execution_count": 48,
   "metadata": {},
   "outputs": [
    {
     "output_type": "stream",
     "name": "stdout",
     "text": [
      "   one  two  three\na  0.0  NaN    NaN\nb  1.0  NaN    NaN\nc  NaN  2.0    NaN\nd  NaN  3.0    NaN\ne  NaN  4.0    NaN\nf  NaN  NaN    5.0\ng  NaN  NaN    6.0\n"
     ]
    }
   ],
   "source": [
    "result2 = pd.concat([s1, s2, s3], keys=['one', 'two', 'three'], axis=1)\n",
    "print(result2)"
   ]
  },
  {
   "cell_type": "code",
   "execution_count": 50,
   "metadata": {},
   "outputs": [
    {
     "output_type": "stream",
     "name": "stdout",
     "text": [
      "          a         b         c         d\n0 -0.397156  1.594142  0.827900  1.319840\n1 -0.349130 -1.083904  0.211642 -0.263606\n2  0.810517 -0.707759 -0.461879 -0.147731\n0 -0.037172 -0.466378       NaN -0.451507\n1 -0.410540 -0.350071       NaN  1.360973\n          a         b         c         d\n0 -0.397156  1.594142  0.827900  1.319840\n1 -0.349130 -1.083904  0.211642 -0.263606\n2  0.810517 -0.707759 -0.461879 -0.147731\n3 -0.037172 -0.466378       NaN -0.451507\n4 -0.410540 -0.350071       NaN  1.360973\n"
     ]
    }
   ],
   "source": [
    "df1 = DataFrame(np.random.randn(3, 4), columns=['a', 'b', 'c', 'd'])\n",
    "df2 = DataFrame(np.random.randn(2, 3), columns=['b', 'd', 'a'])\n",
    "print(pd.concat([df1, df2]))\n",
    "print(pd.concat([df1, df2], ignore_index=True))"
   ]
  },
  {
   "cell_type": "code",
   "execution_count": 51,
   "metadata": {},
   "outputs": [
    {
     "output_type": "execute_result",
     "data": {
      "text/plain": [
       "     a    b     c\n",
       "0  1.0  NaN   2.0\n",
       "1  4.0  2.0   6.0\n",
       "2  5.0  4.0  10.0\n",
       "3  3.0  6.0  14.0\n",
       "4  7.0  8.0   NaN"
      ],
      "text/html": "<div>\n<style scoped>\n    .dataframe tbody tr th:only-of-type {\n        vertical-align: middle;\n    }\n\n    .dataframe tbody tr th {\n        vertical-align: top;\n    }\n\n    .dataframe thead th {\n        text-align: right;\n    }\n</style>\n<table border=\"1\" class=\"dataframe\">\n  <thead>\n    <tr style=\"text-align: right;\">\n      <th></th>\n      <th>a</th>\n      <th>b</th>\n      <th>c</th>\n    </tr>\n  </thead>\n  <tbody>\n    <tr>\n      <th>0</th>\n      <td>1.0</td>\n      <td>NaN</td>\n      <td>2.0</td>\n    </tr>\n    <tr>\n      <th>1</th>\n      <td>4.0</td>\n      <td>2.0</td>\n      <td>6.0</td>\n    </tr>\n    <tr>\n      <th>2</th>\n      <td>5.0</td>\n      <td>4.0</td>\n      <td>10.0</td>\n    </tr>\n    <tr>\n      <th>3</th>\n      <td>3.0</td>\n      <td>6.0</td>\n      <td>14.0</td>\n    </tr>\n    <tr>\n      <th>4</th>\n      <td>7.0</td>\n      <td>8.0</td>\n      <td>NaN</td>\n    </tr>\n  </tbody>\n</table>\n</div>"
     },
     "metadata": {},
     "execution_count": 51
    }
   ],
   "source": [
    "df1 = DataFrame({'a' : [1, np.nan, 5., np.nan],\n",
    "                 'b' : [np.nan, 2., np.nan, 6.],\n",
    "                 'c' : range(2, 18, 4)})\n",
    "\n",
    "df2 = DataFrame({'a' : [5., 4., np.nan, 3., 7.],\n",
    "                 'b' : [np.nan, 3., 4., 6., 8.]})\n",
    "\n",
    "df1.combine_first(df2)"
   ]
  },
  {
   "cell_type": "code",
   "execution_count": 2,
   "metadata": {},
   "outputs": [
    {
     "output_type": "stream",
     "name": "stdout",
     "text": [
      "number    one  two  three\nstate                    \nOhio        0    1      2\nColorado    3    4      5\n"
     ]
    }
   ],
   "source": [
    "data = DataFrame(np.arange(6).reshape((2, 3)), index=pd.Index(['Ohio', 'Colorado'], name='state'), columns=pd.Index(['one', 'two', 'three'], name='number'))\n",
    "print(data)"
   ]
  },
  {
   "cell_type": "code",
   "execution_count": 5,
   "metadata": {},
   "outputs": [
    {
     "output_type": "stream",
     "name": "stdout",
     "text": [
      "state     number\nOhio      one       0\n          two       1\n          three     2\nColorado  one       3\n          two       4\n          three     5\ndtype: int64\nnumber    one  two  three\nstate                    \nOhio        0    1      2\nColorado    3    4      5\n"
     ]
    }
   ],
   "source": [
    "result = data.stack()\n",
    "print(data.stack())\n",
    "print(data.stack().unstack())"
   ]
  },
  {
   "cell_type": "code",
   "execution_count": 9,
   "metadata": {},
   "outputs": [
    {
     "output_type": "stream",
     "name": "stdout",
     "text": [
      "state   Ohio  Colorado\nnumber                \none        0         3\ntwo        1         4\nthree      2         5\nnumber    one  two  three\nstate                    \nOhio        0    1      2\nColorado    3    4      5\nstate   Ohio  Colorado\nnumber                \none        0         3\ntwo        1         4\nthree      2         5\n"
     ]
    }
   ],
   "source": [
    "print(result.unstack(0))\n",
    "print(result.unstack(1))\n",
    "print(result.unstack('state'))"
   ]
  },
  {
   "cell_type": "code",
   "execution_count": 11,
   "metadata": {},
   "outputs": [
    {
     "output_type": "stream",
     "name": "stdout",
     "text": [
      "one  a    0\n     b    1\n     c    2\n     d    3\ntwo  c    4\n     d    5\n     e    6\ndtype: int64\n   one  two\na  0.0  NaN\nb  1.0  NaN\nc  2.0  4.0\nd  3.0  5.0\ne  NaN  6.0\n"
     ]
    }
   ],
   "source": [
    "s1 = Series([0, 1, 2, 3], index=['a', 'b', 'c', 'd'])\n",
    "s2 = Series([4, 5, 6], index=['c', 'd', 'e'])\n",
    "data2 = pd.concat([s1, s2], keys=['one', 'two'])\n",
    "print(data2)\n",
    "\n",
    "data2_2 = pd.concat([s1, s2], axis=1, keys=['one', 'two'])\n",
    "print(data2_2)"
   ]
  },
  {
   "cell_type": "code",
   "execution_count": 16,
   "metadata": {},
   "outputs": [
    {
     "output_type": "execute_result",
     "data": {
      "text/plain": [
       "one  a    0.0\n",
       "     b    1.0\n",
       "     c    2.0\n",
       "     d    3.0\n",
       "     e    NaN\n",
       "two  a    NaN\n",
       "     b    NaN\n",
       "     c    4.0\n",
       "     d    5.0\n",
       "     e    6.0\n",
       "dtype: float64"
      ]
     },
     "metadata": {},
     "execution_count": 16
    }
   ],
   "source": [
    "data2.unstack().stack(dropna=False)"
   ]
  },
  {
   "cell_type": "code",
   "execution_count": 18,
   "metadata": {},
   "outputs": [
    {
     "output_type": "stream",
     "name": "stdout",
     "text": [
      "side             left  right\nstate    number             \nOhio     one        0      5\n         two        1      6\n         three      2      7\nColorado one        3      8\n         two        4      9\n         three      5     10\n"
     ]
    }
   ],
   "source": [
    "df = DataFrame({'left' : result, 'right' : result + 5}, columns=pd.Index(['left', 'right'], name='side'))\n",
    "print(df)"
   ]
  },
  {
   "cell_type": "code",
   "execution_count": 19,
   "metadata": {},
   "outputs": [
    {
     "output_type": "execute_result",
     "data": {
      "text/plain": [
       "state         Colorado  Ohio\n",
       "number side                 \n",
       "one    left          3     0\n",
       "       right         8     5\n",
       "two    left          4     1\n",
       "       right         9     6\n",
       "three  left          5     2\n",
       "       right        10     7"
      ],
      "text/html": "<div>\n<style scoped>\n    .dataframe tbody tr th:only-of-type {\n        vertical-align: middle;\n    }\n\n    .dataframe tbody tr th {\n        vertical-align: top;\n    }\n\n    .dataframe thead th {\n        text-align: right;\n    }\n</style>\n<table border=\"1\" class=\"dataframe\">\n  <thead>\n    <tr style=\"text-align: right;\">\n      <th></th>\n      <th>state</th>\n      <th>Colorado</th>\n      <th>Ohio</th>\n    </tr>\n    <tr>\n      <th>number</th>\n      <th>side</th>\n      <th></th>\n      <th></th>\n    </tr>\n  </thead>\n  <tbody>\n    <tr>\n      <th rowspan=\"2\" valign=\"top\">one</th>\n      <th>left</th>\n      <td>3</td>\n      <td>0</td>\n    </tr>\n    <tr>\n      <th>right</th>\n      <td>8</td>\n      <td>5</td>\n    </tr>\n    <tr>\n      <th rowspan=\"2\" valign=\"top\">two</th>\n      <th>left</th>\n      <td>4</td>\n      <td>1</td>\n    </tr>\n    <tr>\n      <th>right</th>\n      <td>9</td>\n      <td>6</td>\n    </tr>\n    <tr>\n      <th rowspan=\"2\" valign=\"top\">three</th>\n      <th>left</th>\n      <td>5</td>\n      <td>2</td>\n    </tr>\n    <tr>\n      <th>right</th>\n      <td>10</td>\n      <td>7</td>\n    </tr>\n  </tbody>\n</table>\n</div>"
     },
     "metadata": {},
     "execution_count": 19
    }
   ],
   "source": [
    "df.unstack('state').stack('side')"
   ]
  },
  {
   "cell_type": "code",
   "execution_count": 60,
   "metadata": {},
   "outputs": [
    {
     "output_type": "stream",
     "name": "stdout",
     "text": [
      "[Timestamp('1959-03-31 00:00:00') Timestamp('1959-03-31 00:00:00')\n Timestamp('1959-03-31 00:00:00') Timestamp('1959-06-30 00:00:00')\n Timestamp('1959-06-30 00:00:00') Timestamp('1959-06-30 00:00:00')]\n        date     item     value\n0 1959-03-31  realgdp  2710.349\n1 1959-03-31     infl     0.000\n2 1959-03-31    unemp     5.800\n3 1959-06-30  realgdp  2778.801\n4 1959-06-30     infl     2.340\n5 1959-06-30    unemp     5.100\n"
     ]
    }
   ],
   "source": [
    "time_p1 = list(np.repeat(pd.Timestamp('1959-03-31 00:00:00'), 3))\n",
    "time_p2 = list(np.repeat(pd.Timestamp('1959-06-30 00:00:00'), 3))\n",
    "\n",
    "print(np.append(time_p1, time_p2))\n",
    "\n",
    "ldata = DataFrame({'date' : np.append(time_p1, time_p2), 'item' : (['realgdp', 'infl', 'unemp'] * 2), 'value' : [2710.349, 0.000, 5.800, 2778.801, 2.340, 5.100]})\n",
    "\n",
    "print(ldata)"
   ]
  },
  {
   "cell_type": "code",
   "execution_count": 66,
   "metadata": {},
   "outputs": [
    {
     "output_type": "execute_result",
     "data": {
      "text/plain": [
       "DatetimeIndex(['1959-03-31', '1959-06-30'], dtype='datetime64[ns]', name='date', freq=None)"
      ]
     },
     "metadata": {},
     "execution_count": 66
    }
   ],
   "source": [
    "# pivot wider\n",
    "print(type(ldata))\n",
    "pivoted = ldata.pivot('date', 'item', 'value')\n"
   ]
  },
  {
   "cell_type": "code",
   "execution_count": 71,
   "metadata": {},
   "outputs": [
    {
     "output_type": "stream",
     "name": "stdout",
     "text": [
      "6\n4\n        date     item     value    value2\n0 1959-03-31  realgdp  2710.349 -0.385069\n1 1959-03-31     infl     0.000  0.968437\n2 1959-03-31    unemp     5.800 -1.899621\n3 1959-06-30  realgdp  2778.801 -0.285930\n4 1959-06-30     infl     2.340 -0.475144\n5 1959-06-30    unemp     5.100 -1.292779\n"
     ]
    }
   ],
   "source": [
    "ldata['value2'] = np.random.randn(len(ldata))\n",
    "print(len(ldata))\n",
    "print(ldata.shape[1])\n",
    "print(ldata)"
   ]
  },
  {
   "cell_type": "code",
   "execution_count": 76,
   "metadata": {},
   "outputs": [
    {
     "output_type": "stream",
     "name": "stdout",
     "text": [
      "item        infl   realgdp  unemp\ndate                             \n1959-03-31  0.00  2710.349    5.8\n1959-06-30  2.34  2778.801    5.1\ndate\n1959-03-31    0.968437\n1959-06-30   -0.475144\nName: (value2, infl), dtype: float64\n"
     ]
    }
   ],
   "source": [
    "print(ldata.pivot('date', 'item', 'value'))\n",
    "pivoted = ldata.pivot('date', 'item')\n",
    "\n",
    "print(pivoted['value2', 'infl'])"
   ]
  },
  {
   "cell_type": "code",
   "execution_count": 80,
   "metadata": {},
   "outputs": [
    {
     "output_type": "stream",
     "name": "stdout",
     "text": [
      "        date     item     value    value2\n0 1959-03-31  realgdp  2710.349 -0.385069\n1 1959-03-31     infl     0.000  0.968437\n2 1959-03-31    unemp     5.800 -1.899621\n3 1959-06-30  realgdp  2778.801 -0.285930\n4 1959-06-30     infl     2.340 -0.475144\n5 1959-06-30    unemp     5.100 -1.292779\n"
     ]
    },
    {
     "output_type": "execute_result",
     "data": {
      "text/plain": [
       "item            infl   realgdp     unemp\n",
       "date                                    \n",
       "1959-03-31  0.968437 -0.385069 -1.899621\n",
       "1959-06-30 -0.475144 -0.285930 -1.292779"
      ],
      "text/html": "<div>\n<style scoped>\n    .dataframe tbody tr th:only-of-type {\n        vertical-align: middle;\n    }\n\n    .dataframe tbody tr th {\n        vertical-align: top;\n    }\n\n    .dataframe thead th {\n        text-align: right;\n    }\n</style>\n<table border=\"1\" class=\"dataframe\">\n  <thead>\n    <tr style=\"text-align: right;\">\n      <th>item</th>\n      <th>infl</th>\n      <th>realgdp</th>\n      <th>unemp</th>\n    </tr>\n    <tr>\n      <th>date</th>\n      <th></th>\n      <th></th>\n      <th></th>\n    </tr>\n  </thead>\n  <tbody>\n    <tr>\n      <th>1959-03-31</th>\n      <td>0.968437</td>\n      <td>-0.385069</td>\n      <td>-1.899621</td>\n    </tr>\n    <tr>\n      <th>1959-06-30</th>\n      <td>-0.475144</td>\n      <td>-0.285930</td>\n      <td>-1.292779</td>\n    </tr>\n  </tbody>\n</table>\n</div>"
     },
     "metadata": {},
     "execution_count": 80
    }
   ],
   "source": [
    "print(ldata)\n",
    "ldata.set_index(['date', 'item']).unstack('item')\n",
    "ldata.set_index(['date', 'item']).unstack('item').value2"
   ]
  },
  {
   "cell_type": "code",
   "execution_count": null,
   "metadata": {},
   "outputs": [],
   "source": []
  }
 ]
}